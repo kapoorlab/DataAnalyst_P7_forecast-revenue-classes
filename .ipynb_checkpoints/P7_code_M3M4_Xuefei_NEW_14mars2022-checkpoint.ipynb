{
 "cells": [
  {
   "cell_type": "code",
   "execution_count": 8,
   "id": "f651142f",
   "metadata": {},
   "outputs": [],
   "source": [
    "\n",
    "import pandas as pd\n",
    "import numpy as np \n",
    "import seaborn as sns \n",
    "import matplotlib.pyplot as plt \n",
    "from  helpers import compute_quantiles, conditional_distributions, proba_cond,generate_incomes,plot_conditional_distributions"
   ]
  },
  {
   "cell_type": "markdown",
   "id": "d75b2452",
   "metadata": {},
   "source": [
    "Maintenant qu'on a à disposition pour chaque pays, data sur le **revenu** et **indice de Gini** (2 variables explicatives) , pour il nous manque la **classe de revenu des parents** (3ème variable explicative). Pour avoir la classe de revenu des parents, il faut le **coefficient d'élasticité** de chaque pays \n",
    "\n",
    "*pj: coeff d'élasticité (propre à chaque pays) qui mesure la corrélation entre revenu d'enfant & revenu des parents - mobilité intergénérationnelle**\n",
    "\n",
    "Ainsi l'enjeu de cette mission consiste à sortir la distribution de probabilité la classe revenu des parents (**c_i_parent**) basé sur classe de revenu des enfants (**c_i_child**) et coeff d'élasticité (**pj**) "
   ]
  },
  {
   "cell_type": "markdown",
   "id": "da5a21a9",
   "metadata": {},
   "source": [
    "### Ci-après les fonctions pour la Mission 3: "
   ]
  },
  {
   "cell_type": "code",
   "execution_count": 22,
   "id": "a5f55f7f",
   "metadata": {},
   "outputs": [
    {
     "data": {
      "image/png": "[encoded data removed]",
      "text/plain": [
       "<Figure size 432x288 with 1 Axes>"
      ]
     },
     "metadata": {
      "needs_background": "light"
     },
     "output_type": "display_data"
    },
    {
     "name": "stdout",
     "output_type": "stream",
     "text": [
      "(10, 10)\n",
      "\n",
      "P(c_i_parent = 8 | c_i_child = 5, pj = 0.1) = 0.09\n"
     ]
    },
    {
     "data": {
      "image/png": "[encoded data removed]",
      "text/plain": [
       "<Figure size 402.375x360 with 1 Axes>"
      ]
     },
     "metadata": {
      "needs_background": "light"
     },
     "output_type": "display_data"
    }
   ],
   "source": [
    "pj = 0.1                             # coefficient d'élasticité du pays j\n",
    "nb_quantiles = 10           # nombre de quantiles (nombre de classes de revenu)\n",
    "n = 1000*nb_quantiles    # taille de l'échantillon\n",
    "\n",
    "y_child, y_parents = generate_incomes(n, pj)\n",
    "sample = compute_quantiles(y_child, y_parents, nb_quantiles)\n",
    "cd = conditional_distributions(sample, nb_quantiles)\n",
    "plot_conditional_distributions(pj, cd, nb_quantiles)              # Cette instruction prendra du temps si nb_quantiles > 10\n",
    "print(cd.shape)\n",
    "sns.displot(cd)\n",
    "\n",
    "c_i_child = 5\n",
    "c_i_parent = 8\n",
    "p = proba_cond(c_i_parent, c_i_child, cd)\n",
    "print(\"\\nP(c_i_parent = {} | c_i_child = {}, pj = {}) = {}\".format(c_i_parent, c_i_child,\n",
    "pj, p))"
   ]
  },
  {
   "cell_type": "markdown",
   "id": "6994a17f",
   "metadata": {},
   "source": [
    "#### ici on suppose qu'on est dans le scenario à forte mobilité intergénérationnelle: pj=0.1"
   ]
  },
  {
   "cell_type": "markdown",
   "id": "f86f0da6",
   "metadata": {},
   "source": [
    "#####  fonction *generate_incomes(n, pj)* arrive à répondre Q1 - Q3 "
   ]
  },
  {
   "cell_type": "code",
   "execution_count": 3,
   "id": "43772c2e",
   "metadata": {},
   "outputs": [
    {
     "name": "stdout",
     "output_type": "stream",
     "text": [
      "0      -0.536694\n",
      "1      -0.164913\n",
      "2      -0.080303\n",
      "3       1.925688\n",
      "4       1.068600\n",
      "          ...   \n",
      "9995    1.238882\n",
      "9996   -0.904314\n",
      "9997   -1.335628\n",
      "9998   -0.021398\n",
      "9999    0.482564\n",
      "Length: 10000, dtype: float64\n"
     ]
    }
   ],
   "source": [
    "# Q1. générer In_y_parent selon une loi normale.\n",
    "ln_y_parent = st.norm(0,1).rvs(size=n)  \n",
    "print(pd.Series(ln_y_parent))"
   ]
  },
  {
   "cell_type": "code",
   "execution_count": 4,
   "id": "a4b1761f",
   "metadata": {},
   "outputs": [
    {
     "name": "stdout",
     "output_type": "stream",
     "text": [
      "0      -0.622980\n",
      "1       0.541549\n",
      "2       0.066073\n",
      "3      -0.564668\n",
      "4       0.092650\n",
      "          ...   \n",
      "9995    1.400556\n",
      "9996    1.099306\n",
      "9997   -1.143759\n",
      "9998    0.053301\n",
      "9999    0.032380\n",
      "Length: 10000, dtype: float64\n"
     ]
    }
   ],
   "source": [
    "# Q2. Générez réalisations du terme d'erreur selon une loi normale de moyenne 0 et d'écart-type 1\n",
    "residues = st.norm(0,1).rvs(size=n)\n",
    "print(pd.Series(residues))"
   ]
  },
  {
   "cell_type": "code",
   "execution_count": 5,
   "id": "634eca28",
   "metadata": {},
   "outputs": [
    {
     "name": "stdout",
     "output_type": "stream",
     "text": [
      "             0          1\n",
      "0     0.805640   1.493275\n",
      "1     1.170085   0.687710\n",
      "2     4.050742   1.289770\n",
      "3     1.131370   4.789738\n",
      "4     0.423556   5.114876\n",
      "...        ...        ...\n",
      "9995  3.033156   2.103701\n",
      "9996  0.498743  14.165651\n",
      "9997  2.497963   1.323000\n",
      "9998  4.014800   3.101153\n",
      "9999  4.412637   1.440211\n",
      "\n",
      "[10000 rows x 2 columns]\n",
      "                  0             1\n",
      "count  10000.000000  10000.000000\n",
      "mean       1.651012      1.648078\n",
      "std        1.981445      2.168341\n",
      "min        0.024423      0.024169\n",
      "25%        0.515035      0.518618\n",
      "50%        1.008804      1.002586\n",
      "75%        2.002001      1.934808\n",
      "max       28.116622     61.852199\n"
     ]
    },
    {
     "data": {
      "text/html": [
       "<div>\n",
       "<style scoped>\n",
       "    .dataframe tbody tr th:only-of-type {\n",
       "        vertical-align: middle;\n",
       "    }\n",
       "\n",
       "    .dataframe tbody tr th {\n",
       "        vertical-align: top;\n",
       "    }\n",
       "\n",
       "    .dataframe thead th {\n",
       "        text-align: right;\n",
       "    }\n",
       "</style>\n",
       "<table border=\"1\" class=\"dataframe\">\n",
       "  <thead>\n",
       "    <tr style=\"text-align: right;\">\n",
       "      <th></th>\n",
       "      <th>y_child</th>\n",
       "      <th>y_parents</th>\n",
       "    </tr>\n",
       "  </thead>\n",
       "  <tbody>\n",
       "    <tr>\n",
       "      <th>0</th>\n",
       "      <td>0.805640</td>\n",
       "      <td>1.493275</td>\n",
       "    </tr>\n",
       "    <tr>\n",
       "      <th>1</th>\n",
       "      <td>1.170085</td>\n",
       "      <td>0.687710</td>\n",
       "    </tr>\n",
       "    <tr>\n",
       "      <th>2</th>\n",
       "      <td>4.050742</td>\n",
       "      <td>1.289770</td>\n",
       "    </tr>\n",
       "    <tr>\n",
       "      <th>3</th>\n",
       "      <td>1.131370</td>\n",
       "      <td>4.789738</td>\n",
       "    </tr>\n",
       "    <tr>\n",
       "      <th>4</th>\n",
       "      <td>0.423556</td>\n",
       "      <td>5.114876</td>\n",
       "    </tr>\n",
       "  </tbody>\n",
       "</table>\n",
       "</div>"
      ],
      "text/plain": [
       "    y_child  y_parents\n",
       "0  0.805640   1.493275\n",
       "1  1.170085   0.687710\n",
       "2  4.050742   1.289770\n",
       "3  1.131370   4.789738\n",
       "4  0.423556   5.114876"
      ]
     },
     "execution_count": 5,
     "metadata": {},
     "output_type": "execute_result"
    }
   ],
   "source": [
    "# Q1-3: générer les 10000 individus (pj = 0.1)\n",
    "\n",
    "Income= pd.DataFrame(generate_incomes(n, pj)).transpose()\n",
    "print(Income)\n",
    "print(Income.describe())\n",
    "\n",
    "Income= Income.rename(columns= {0: 'y_child', 1:'y_parents'})\n",
    "Income.head()"
   ]
  },
  {
   "cell_type": "markdown",
   "id": "92b473aa",
   "metadata": {},
   "source": [
    "\n",
    "#### Q4.Pour chacun des individus générés, calculez la classe de revenu child (c_i_child) et celui de ses parents (c_i_parent) à partir de revenus child (y_child) et parents (y_parent) \n",
    "\n",
    "In_y_parent = (In_y_child - Epsilon)/pj \n",
    "y_parent = e (In_y_parent) = np.exp(In_y_parent)\n",
    "\n",
    "**fonctions: quantiles et compute_quantiles**"
   ]
  },
  {
   "cell_type": "code",
   "execution_count": 23,
   "id": "bd71f20d",
   "metadata": {},
   "outputs": [
    {
     "data": {
      "text/html": [
       "<div>\n",
       "<style scoped>\n",
       "    .dataframe tbody tr th:only-of-type {\n",
       "        vertical-align: middle;\n",
       "    }\n",
       "\n",
       "    .dataframe tbody tr th {\n",
       "        vertical-align: top;\n",
       "    }\n",
       "\n",
       "    .dataframe thead th {\n",
       "        text-align: right;\n",
       "    }\n",
       "</style>\n",
       "<table border=\"1\" class=\"dataframe\">\n",
       "  <thead>\n",
       "    <tr style=\"text-align: right;\">\n",
       "      <th></th>\n",
       "      <th>y_child</th>\n",
       "      <th>y_parents</th>\n",
       "      <th>c_i_child</th>\n",
       "      <th>c_i_parent</th>\n",
       "    </tr>\n",
       "  </thead>\n",
       "  <tbody>\n",
       "    <tr>\n",
       "      <th>0</th>\n",
       "      <td>0.625135</td>\n",
       "      <td>0.854324</td>\n",
       "      <td>4</td>\n",
       "      <td>5</td>\n",
       "    </tr>\n",
       "    <tr>\n",
       "      <th>1</th>\n",
       "      <td>0.483348</td>\n",
       "      <td>1.720419</td>\n",
       "      <td>3</td>\n",
       "      <td>8</td>\n",
       "    </tr>\n",
       "    <tr>\n",
       "      <th>2</th>\n",
       "      <td>3.659133</td>\n",
       "      <td>5.253309</td>\n",
       "      <td>10</td>\n",
       "      <td>10</td>\n",
       "    </tr>\n",
       "    <tr>\n",
       "      <th>3</th>\n",
       "      <td>0.629430</td>\n",
       "      <td>2.303142</td>\n",
       "      <td>4</td>\n",
       "      <td>9</td>\n",
       "    </tr>\n",
       "    <tr>\n",
       "      <th>4</th>\n",
       "      <td>2.125851</td>\n",
       "      <td>1.537857</td>\n",
       "      <td>8</td>\n",
       "      <td>7</td>\n",
       "    </tr>\n",
       "    <tr>\n",
       "      <th>...</th>\n",
       "      <td>...</td>\n",
       "      <td>...</td>\n",
       "      <td>...</td>\n",
       "      <td>...</td>\n",
       "    </tr>\n",
       "    <tr>\n",
       "      <th>9995</th>\n",
       "      <td>0.683426</td>\n",
       "      <td>1.390897</td>\n",
       "      <td>4</td>\n",
       "      <td>7</td>\n",
       "    </tr>\n",
       "    <tr>\n",
       "      <th>9996</th>\n",
       "      <td>1.101578</td>\n",
       "      <td>1.125544</td>\n",
       "      <td>6</td>\n",
       "      <td>6</td>\n",
       "    </tr>\n",
       "    <tr>\n",
       "      <th>9997</th>\n",
       "      <td>1.792333</td>\n",
       "      <td>0.949376</td>\n",
       "      <td>8</td>\n",
       "      <td>5</td>\n",
       "    </tr>\n",
       "    <tr>\n",
       "      <th>9998</th>\n",
       "      <td>0.794795</td>\n",
       "      <td>1.349246</td>\n",
       "      <td>5</td>\n",
       "      <td>7</td>\n",
       "    </tr>\n",
       "    <tr>\n",
       "      <th>9999</th>\n",
       "      <td>6.198373</td>\n",
       "      <td>5.307527</td>\n",
       "      <td>10</td>\n",
       "      <td>10</td>\n",
       "    </tr>\n",
       "  </tbody>\n",
       "</table>\n",
       "<p>10000 rows × 4 columns</p>\n",
       "</div>"
      ],
      "text/plain": [
       "       y_child  y_parents  c_i_child  c_i_parent\n",
       "0     0.625135   0.854324          4           5\n",
       "1     0.483348   1.720419          3           8\n",
       "2     3.659133   5.253309         10          10\n",
       "3     0.629430   2.303142          4           9\n",
       "4     2.125851   1.537857          8           7\n",
       "...        ...        ...        ...         ...\n",
       "9995  0.683426   1.390897          4           7\n",
       "9996  1.101578   1.125544          6           6\n",
       "9997  1.792333   0.949376          8           5\n",
       "9998  0.794795   1.349246          5           7\n",
       "9999  6.198373   5.307527         10          10\n",
       "\n",
       "[10000 rows x 4 columns]"
      ]
     },
     "execution_count": 23,
     "metadata": {},
     "output_type": "execute_result"
    }
   ],
   "source": [
    "nb_quantiles= 10\n",
    "n=nb_quantiles*1000\n",
    "\n",
    "compute_quantiles(y_child, y_parents, nb_quantiles)\n",
    "\n",
    "# (proba conditionnelle n'est pas encore appliquée)"
   ]
  },
  {
   "cell_type": "markdown",
   "id": "321ccf69",
   "metadata": {},
   "source": [
    "#### Q5: estimez pour chaque c_i_child la distribution conditionnelle de c_i_parent\n",
    "\n",
    "#### fonction conditional_distributions"
   ]
  },
  {
   "cell_type": "code",
   "execution_count": 24,
   "id": "ab93561b",
   "metadata": {},
   "outputs": [
    {
     "data": {
      "text/plain": [
       "array([[0.154, 0.123, 0.113, 0.096, 0.119, 0.083, 0.103, 0.073, 0.07 ,\n",
       "        0.066],\n",
       "       [0.105, 0.108, 0.1  , 0.082, 0.116, 0.116, 0.11 , 0.094, 0.082,\n",
       "        0.087],\n",
       "       [0.109, 0.098, 0.109, 0.114, 0.104, 0.089, 0.095, 0.092, 0.106,\n",
       "        0.084],\n",
       "       [0.097, 0.102, 0.102, 0.1  , 0.111, 0.104, 0.097, 0.105, 0.095,\n",
       "        0.087],\n",
       "       [0.097, 0.117, 0.078, 0.096, 0.09 , 0.109, 0.101, 0.1  , 0.111,\n",
       "        0.101],\n",
       "       [0.1  , 0.1  , 0.106, 0.102, 0.102, 0.111, 0.095, 0.099, 0.09 ,\n",
       "        0.095],\n",
       "       [0.094, 0.107, 0.1  , 0.099, 0.092, 0.09 , 0.094, 0.119, 0.102,\n",
       "        0.103],\n",
       "       [0.095, 0.084, 0.101, 0.096, 0.084, 0.104, 0.101, 0.104, 0.11 ,\n",
       "        0.121],\n",
       "       [0.081, 0.088, 0.096, 0.1  , 0.088, 0.091, 0.102, 0.117, 0.112,\n",
       "        0.125],\n",
       "       [0.068, 0.073, 0.095, 0.115, 0.094, 0.103, 0.102, 0.097, 0.122,\n",
       "        0.131]])"
      ]
     },
     "execution_count": 24,
     "metadata": {},
     "output_type": "execute_result"
    }
   ],
   "source": [
    "#Q5\n",
    "nb_quantiles= 10\n",
    "n=nb_quantiles*1000\n",
    "\n",
    "\n",
    "conditional_distributions(sample, nb_quantiles)"
   ]
  },
  {
   "cell_type": "code",
   "execution_count": 8,
   "id": "84650a44",
   "metadata": {},
   "outputs": [
    {
     "name": "stdout",
     "output_type": "stream",
     "text": [
      "Matrice de distribution conditionnelle des probabilités c_i_child vs c_i_parent\n"
     ]
    },
    {
     "data": {
      "text/html": [
       "<div>\n",
       "<style scoped>\n",
       "    .dataframe tbody tr th:only-of-type {\n",
       "        vertical-align: middle;\n",
       "    }\n",
       "\n",
       "    .dataframe tbody tr th {\n",
       "        vertical-align: top;\n",
       "    }\n",
       "\n",
       "    .dataframe thead th {\n",
       "        text-align: right;\n",
       "    }\n",
       "</style>\n",
       "<table border=\"1\" class=\"dataframe\">\n",
       "  <thead>\n",
       "    <tr style=\"text-align: right;\">\n",
       "      <th></th>\n",
       "      <th>1</th>\n",
       "      <th>2</th>\n",
       "      <th>3</th>\n",
       "      <th>4</th>\n",
       "      <th>5</th>\n",
       "      <th>6</th>\n",
       "      <th>7</th>\n",
       "      <th>8</th>\n",
       "      <th>9</th>\n",
       "      <th>10</th>\n",
       "    </tr>\n",
       "    <tr>\n",
       "      <th>quantile_enfant</th>\n",
       "      <th></th>\n",
       "      <th></th>\n",
       "      <th></th>\n",
       "      <th></th>\n",
       "      <th></th>\n",
       "      <th></th>\n",
       "      <th></th>\n",
       "      <th></th>\n",
       "      <th></th>\n",
       "      <th></th>\n",
       "    </tr>\n",
       "  </thead>\n",
       "  <tbody>\n",
       "    <tr>\n",
       "      <th>1</th>\n",
       "      <td>0.135</td>\n",
       "      <td>0.103</td>\n",
       "      <td>0.115</td>\n",
       "      <td>0.090</td>\n",
       "      <td>0.095</td>\n",
       "      <td>0.100</td>\n",
       "      <td>0.093</td>\n",
       "      <td>0.110</td>\n",
       "      <td>0.083</td>\n",
       "      <td>0.076</td>\n",
       "    </tr>\n",
       "    <tr>\n",
       "      <th>2</th>\n",
       "      <td>0.119</td>\n",
       "      <td>0.110</td>\n",
       "      <td>0.116</td>\n",
       "      <td>0.107</td>\n",
       "      <td>0.083</td>\n",
       "      <td>0.088</td>\n",
       "      <td>0.096</td>\n",
       "      <td>0.089</td>\n",
       "      <td>0.101</td>\n",
       "      <td>0.091</td>\n",
       "    </tr>\n",
       "    <tr>\n",
       "      <th>3</th>\n",
       "      <td>0.113</td>\n",
       "      <td>0.116</td>\n",
       "      <td>0.101</td>\n",
       "      <td>0.102</td>\n",
       "      <td>0.110</td>\n",
       "      <td>0.112</td>\n",
       "      <td>0.096</td>\n",
       "      <td>0.086</td>\n",
       "      <td>0.086</td>\n",
       "      <td>0.078</td>\n",
       "    </tr>\n",
       "    <tr>\n",
       "      <th>4</th>\n",
       "      <td>0.100</td>\n",
       "      <td>0.107</td>\n",
       "      <td>0.108</td>\n",
       "      <td>0.117</td>\n",
       "      <td>0.095</td>\n",
       "      <td>0.094</td>\n",
       "      <td>0.120</td>\n",
       "      <td>0.095</td>\n",
       "      <td>0.080</td>\n",
       "      <td>0.084</td>\n",
       "    </tr>\n",
       "    <tr>\n",
       "      <th>5</th>\n",
       "      <td>0.094</td>\n",
       "      <td>0.109</td>\n",
       "      <td>0.112</td>\n",
       "      <td>0.106</td>\n",
       "      <td>0.109</td>\n",
       "      <td>0.091</td>\n",
       "      <td>0.094</td>\n",
       "      <td>0.094</td>\n",
       "      <td>0.085</td>\n",
       "      <td>0.106</td>\n",
       "    </tr>\n",
       "    <tr>\n",
       "      <th>6</th>\n",
       "      <td>0.093</td>\n",
       "      <td>0.106</td>\n",
       "      <td>0.101</td>\n",
       "      <td>0.100</td>\n",
       "      <td>0.125</td>\n",
       "      <td>0.109</td>\n",
       "      <td>0.091</td>\n",
       "      <td>0.092</td>\n",
       "      <td>0.095</td>\n",
       "      <td>0.088</td>\n",
       "    </tr>\n",
       "    <tr>\n",
       "      <th>7</th>\n",
       "      <td>0.088</td>\n",
       "      <td>0.093</td>\n",
       "      <td>0.096</td>\n",
       "      <td>0.111</td>\n",
       "      <td>0.109</td>\n",
       "      <td>0.101</td>\n",
       "      <td>0.092</td>\n",
       "      <td>0.102</td>\n",
       "      <td>0.107</td>\n",
       "      <td>0.101</td>\n",
       "    </tr>\n",
       "    <tr>\n",
       "      <th>8</th>\n",
       "      <td>0.093</td>\n",
       "      <td>0.095</td>\n",
       "      <td>0.083</td>\n",
       "      <td>0.092</td>\n",
       "      <td>0.092</td>\n",
       "      <td>0.100</td>\n",
       "      <td>0.112</td>\n",
       "      <td>0.113</td>\n",
       "      <td>0.121</td>\n",
       "      <td>0.099</td>\n",
       "    </tr>\n",
       "    <tr>\n",
       "      <th>9</th>\n",
       "      <td>0.086</td>\n",
       "      <td>0.085</td>\n",
       "      <td>0.077</td>\n",
       "      <td>0.088</td>\n",
       "      <td>0.088</td>\n",
       "      <td>0.102</td>\n",
       "      <td>0.105</td>\n",
       "      <td>0.118</td>\n",
       "      <td>0.124</td>\n",
       "      <td>0.127</td>\n",
       "    </tr>\n",
       "    <tr>\n",
       "      <th>10</th>\n",
       "      <td>0.079</td>\n",
       "      <td>0.076</td>\n",
       "      <td>0.091</td>\n",
       "      <td>0.087</td>\n",
       "      <td>0.094</td>\n",
       "      <td>0.103</td>\n",
       "      <td>0.101</td>\n",
       "      <td>0.101</td>\n",
       "      <td>0.118</td>\n",
       "      <td>0.150</td>\n",
       "    </tr>\n",
       "  </tbody>\n",
       "</table>\n",
       "</div>"
      ],
      "text/plain": [
       "                    1      2      3      4      5      6      7      8   \\\n",
       "quantile_enfant                                                           \n",
       "1                0.135  0.103  0.115  0.090  0.095  0.100  0.093  0.110   \n",
       "2                0.119  0.110  0.116  0.107  0.083  0.088  0.096  0.089   \n",
       "3                0.113  0.116  0.101  0.102  0.110  0.112  0.096  0.086   \n",
       "4                0.100  0.107  0.108  0.117  0.095  0.094  0.120  0.095   \n",
       "5                0.094  0.109  0.112  0.106  0.109  0.091  0.094  0.094   \n",
       "6                0.093  0.106  0.101  0.100  0.125  0.109  0.091  0.092   \n",
       "7                0.088  0.093  0.096  0.111  0.109  0.101  0.092  0.102   \n",
       "8                0.093  0.095  0.083  0.092  0.092  0.100  0.112  0.113   \n",
       "9                0.086  0.085  0.077  0.088  0.088  0.102  0.105  0.118   \n",
       "10               0.079  0.076  0.091  0.087  0.094  0.103  0.101  0.101   \n",
       "\n",
       "                    9      10  \n",
       "quantile_enfant                \n",
       "1                0.083  0.076  \n",
       "2                0.101  0.091  \n",
       "3                0.086  0.078  \n",
       "4                0.080  0.084  \n",
       "5                0.085  0.106  \n",
       "6                0.095  0.088  \n",
       "7                0.107  0.101  \n",
       "8                0.121  0.099  \n",
       "9                0.124  0.127  \n",
       "10               0.118  0.150  "
      ]
     },
     "execution_count": 8,
     "metadata": {},
     "output_type": "execute_result"
    }
   ],
   "source": [
    "#Q5 \n",
    "# pj=0.1\n",
    "Cond_distribution = pd.DataFrame(cd)\n",
    "Cond_distribution.columns = Cond_distribution.columns +1\n",
    "Cond_distribution['quantile_enfant'] =Cond_distribution.index +1\n",
    "Cond_distribution.set_index(['quantile_enfant'], inplace=True)\n",
    "\n",
    "print(\"Matrice de distribution conditionnelle des probabilités c_i_child vs c_i_parent\")\n",
    "Cond_distribution\n",
    "\n",
    "# ici les indexes 'quantile_enfant' sont les classes revenus enfants, les colonnes sont les classes revenus parents correspondants"
   ]
  },
  {
   "cell_type": "markdown",
   "id": "3135a4bd",
   "metadata": {},
   "source": [
    "ici l'échantillon est divisée en 10 classes de revenu, donc on a 10*10  estimations de ces probabilités conditionnelles, pour chaque pays\n"
   ]
  },
  {
   "cell_type": "code",
   "execution_count": 9,
   "id": "18103c5e",
   "metadata": {},
   "outputs": [
    {
     "data": {
      "image/png": "[encoded data removed]",
      "text/plain": [
       "<Figure size 432x288 with 1 Axes>"
      ]
     },
     "metadata": {
      "needs_background": "light"
     },
     "output_type": "display_data"
    },
    {
     "data": {
      "text/plain": [
       "<Figure size 432x288 with 0 Axes>"
      ]
     },
     "metadata": {},
     "output_type": "display_data"
    }
   ],
   "source": [
    "pj = 0.1                           # coefficient d'élasticité du pays j\n",
    "nb_quantiles = 10           # nombre de quantiles (nombre de classes de revenu) = 10 \n",
    "n  = 1000*nb_quantiles   # taille de l'échantillon = 1000*10\n",
    "\n",
    "\n",
    "y_child, y_parents = generate_incomes(n, pj)\n",
    "sample = compute_quantiles(y_child, y_parents, nb_quantiles)\n",
    "cd = conditional_distributions(sample, nb_quantiles)\n",
    "plot_conditional_distributions(pj, cd, nb_quantiles)            \n",
    "\n",
    "\n",
    "plt.savefig('M3 Q123Q6_plot_conditional distribution_pj01.jpg')"
   ]
  },
  {
   "cell_type": "markdown",
   "id": "3a98d855",
   "metadata": {},
   "source": [
    "#### Q6. pour vérifier la cohérence de code - scénario à faible mobilité: pj = 0.9 \n",
    "idem que quand le coeff d'élasticité = 0.1, quand il = 0.9, on a "
   ]
  },
  {
   "cell_type": "code",
   "execution_count": 25,
   "id": "2674d669",
   "metadata": {},
   "outputs": [
    {
     "data": {
      "image/png": "[encoded data removed]",
      "text/plain": [
       "<Figure size 432x288 with 1 Axes>"
      ]
     },
     "metadata": {
      "needs_background": "light"
     },
     "output_type": "display_data"
    },
    {
     "data": {
      "text/plain": [
       "<Figure size 432x288 with 0 Axes>"
      ]
     },
     "metadata": {},
     "output_type": "display_data"
    }
   ],
   "source": [
    "\n",
    "\n",
    "\n",
    "\n",
    "pj = 0.9                             # coefficient d'élasticité du pays j\n",
    "nb_quantiles = 10           # nombre de quantiles (nombre de classes de revenu)\n",
    "n = 1000*nb_quantiles    # taille de l'échantillon\n",
    "\n",
    "y_child, y_parents = generate_incomes(n, pj)\n",
    "sample = compute_quantiles(y_child, y_parents, nb_quantiles)\n",
    "cd = conditional_distributions(sample, nb_quantiles)\n",
    "plot_conditional_distributions(pj, cd, nb_quantiles)              # Cette instruction prendra du temps si nb_quantiles > 10\n",
    "\n",
    "plt.savefig('M3Q1236_plot_conditionaldistribution_pj09.jpg')"
   ]
  },
  {
   "cell_type": "markdown",
   "id": "4567dc8e",
   "metadata": {},
   "source": [
    "#### Q8: Nous allons maintenant travailler sur un nouvel échantillon. Celui-ci sera créé à partir de laWID. Pour chaque individu de la Wold Income Distribution, créez-en 499 \"clones\". La taille devotre nouvel échantillon sera donc 500 fois plus grand que celui de la Wold Income Distribution. \n",
    "- 1. Build up the dataframe including info on 114 countries client + corresponding coeff (pj) + Gini indexes: merge gini & coeff & dataWID\n",
    "- 2. clone 500 times  "
   ]
  },
  {
   "cell_type": "code",
   "execution_count": 11,
   "id": "83d3a6c7",
   "metadata": {},
   "outputs": [
    {
     "name": "stdout",
     "output_type": "stream",
     "text": [
      "<class 'pandas.core.frame.DataFrame'>\n",
      "RangeIndex: 11600 entries, 0 to 11599\n",
      "Data columns (total 6 columns):\n",
      " #   Column        Non-Null Count  Dtype  \n",
      "---  ------        --------------  -----  \n",
      " 0   country       11600 non-null  object \n",
      " 1   year_survey   11600 non-null  int64  \n",
      " 2   quantile      11600 non-null  int64  \n",
      " 3   nb_quantiles  11600 non-null  int64  \n",
      " 4   income        11600 non-null  float64\n",
      " 5   gdpppp        11600 non-null  float64\n",
      "dtypes: float64(2), int64(3), object(1)\n",
      "memory usage: 543.9+ KB\n",
      "None\n"
     ]
    },
    {
     "data": {
      "text/html": [
       "<div>\n",
       "<style scoped>\n",
       "    .dataframe tbody tr th:only-of-type {\n",
       "        vertical-align: middle;\n",
       "    }\n",
       "\n",
       "    .dataframe tbody tr th {\n",
       "        vertical-align: top;\n",
       "    }\n",
       "\n",
       "    .dataframe thead th {\n",
       "        text-align: right;\n",
       "    }\n",
       "</style>\n",
       "<table border=\"1\" class=\"dataframe\">\n",
       "  <thead>\n",
       "    <tr style=\"text-align: right;\">\n",
       "      <th></th>\n",
       "      <th>country</th>\n",
       "      <th>year_survey</th>\n",
       "      <th>quantile</th>\n",
       "      <th>nb_quantiles</th>\n",
       "      <th>income</th>\n",
       "      <th>gdpppp</th>\n",
       "    </tr>\n",
       "  </thead>\n",
       "  <tbody>\n",
       "    <tr>\n",
       "      <th>0</th>\n",
       "      <td>ALB</td>\n",
       "      <td>2008</td>\n",
       "      <td>1</td>\n",
       "      <td>100</td>\n",
       "      <td>728.89795</td>\n",
       "      <td>7297.0</td>\n",
       "    </tr>\n",
       "    <tr>\n",
       "      <th>1</th>\n",
       "      <td>ALB</td>\n",
       "      <td>2008</td>\n",
       "      <td>2</td>\n",
       "      <td>100</td>\n",
       "      <td>916.66235</td>\n",
       "      <td>7297.0</td>\n",
       "    </tr>\n",
       "    <tr>\n",
       "      <th>2</th>\n",
       "      <td>ALB</td>\n",
       "      <td>2008</td>\n",
       "      <td>3</td>\n",
       "      <td>100</td>\n",
       "      <td>1010.91600</td>\n",
       "      <td>7297.0</td>\n",
       "    </tr>\n",
       "    <tr>\n",
       "      <th>3</th>\n",
       "      <td>ALB</td>\n",
       "      <td>2008</td>\n",
       "      <td>4</td>\n",
       "      <td>100</td>\n",
       "      <td>1086.90780</td>\n",
       "      <td>7297.0</td>\n",
       "    </tr>\n",
       "    <tr>\n",
       "      <th>4</th>\n",
       "      <td>ALB</td>\n",
       "      <td>2008</td>\n",
       "      <td>5</td>\n",
       "      <td>100</td>\n",
       "      <td>1132.69970</td>\n",
       "      <td>7297.0</td>\n",
       "    </tr>\n",
       "  </tbody>\n",
       "</table>\n",
       "</div>"
      ],
      "text/plain": [
       "  country  year_survey  quantile  nb_quantiles      income  gdpppp\n",
       "0     ALB         2008         1           100   728.89795  7297.0\n",
       "1     ALB         2008         2           100   916.66235  7297.0\n",
       "2     ALB         2008         3           100  1010.91600  7297.0\n",
       "3     ALB         2008         4           100  1086.90780  7297.0\n",
       "4     ALB         2008         5           100  1132.69970  7297.0"
      ]
     },
     "execution_count": 11,
     "metadata": {},
     "output_type": "execute_result"
    }
   ],
   "source": [
    "#Q8 : dataframe dataWID\n",
    "dataWID = pd.read_csv('data_cleaned_WID.csv')\n",
    "dataWID= dataWID.drop(columns=['Unnamed: 0'])\n",
    "dataWID.describe()\n",
    "print(dataWID.info())\n",
    "dataWID.head()\n",
    "# data_cleaned_WID is the cleaned dataframe 'world_income_distribution.csv' for client countries on 2008"
   ]
  },
  {
   "cell_type": "code",
   "execution_count": 12,
   "id": "8d6325e9",
   "metadata": {},
   "outputs": [
    {
     "name": "stdout",
     "output_type": "stream",
     "text": [
      "<class 'pandas.core.frame.DataFrame'>\n",
      "RangeIndex: 75 entries, 0 to 74\n",
      "Data columns (total 2 columns):\n",
      " #   Column     Non-Null Count  Dtype  \n",
      "---  ------     --------------  -----  \n",
      " 0   wbcode     75 non-null     object \n",
      " 1   IGEincome  75 non-null     float64\n",
      "dtypes: float64(1), object(1)\n",
      "memory usage: 1.3+ KB\n",
      "None\n"
     ]
    },
    {
     "data": {
      "text/html": [
       "<div>\n",
       "<style scoped>\n",
       "    .dataframe tbody tr th:only-of-type {\n",
       "        vertical-align: middle;\n",
       "    }\n",
       "\n",
       "    .dataframe tbody tr th {\n",
       "        vertical-align: top;\n",
       "    }\n",
       "\n",
       "    .dataframe thead th {\n",
       "        text-align: right;\n",
       "    }\n",
       "</style>\n",
       "<table border=\"1\" class=\"dataframe\">\n",
       "  <thead>\n",
       "    <tr style=\"text-align: right;\">\n",
       "      <th></th>\n",
       "      <th>wbcode</th>\n",
       "      <th>IGEincome</th>\n",
       "    </tr>\n",
       "  </thead>\n",
       "  <tbody>\n",
       "    <tr>\n",
       "      <th>0</th>\n",
       "      <td>ALB</td>\n",
       "      <td>0.815874</td>\n",
       "    </tr>\n",
       "    <tr>\n",
       "      <th>1</th>\n",
       "      <td>AUS</td>\n",
       "      <td>0.275000</td>\n",
       "    </tr>\n",
       "    <tr>\n",
       "      <th>2</th>\n",
       "      <td>AUT</td>\n",
       "      <td>0.245267</td>\n",
       "    </tr>\n",
       "    <tr>\n",
       "      <th>3</th>\n",
       "      <td>BEL</td>\n",
       "      <td>0.183176</td>\n",
       "    </tr>\n",
       "    <tr>\n",
       "      <th>4</th>\n",
       "      <td>BEN</td>\n",
       "      <td>0.855116</td>\n",
       "    </tr>\n",
       "    <tr>\n",
       "      <th>...</th>\n",
       "      <td>...</td>\n",
       "      <td>...</td>\n",
       "    </tr>\n",
       "    <tr>\n",
       "      <th>70</th>\n",
       "      <td>USA</td>\n",
       "      <td>0.537666</td>\n",
       "    </tr>\n",
       "    <tr>\n",
       "      <th>71</th>\n",
       "      <td>UZB</td>\n",
       "      <td>0.496764</td>\n",
       "    </tr>\n",
       "    <tr>\n",
       "      <th>72</th>\n",
       "      <td>VNM</td>\n",
       "      <td>0.480000</td>\n",
       "    </tr>\n",
       "    <tr>\n",
       "      <th>73</th>\n",
       "      <td>ZAF</td>\n",
       "      <td>0.677000</td>\n",
       "    </tr>\n",
       "    <tr>\n",
       "      <th>74</th>\n",
       "      <td>ZAR</td>\n",
       "      <td>0.707703</td>\n",
       "    </tr>\n",
       "  </tbody>\n",
       "</table>\n",
       "<p>75 rows × 2 columns</p>\n",
       "</div>"
      ],
      "text/plain": [
       "   wbcode  IGEincome\n",
       "0     ALB   0.815874\n",
       "1     AUS   0.275000\n",
       "2     AUT   0.245267\n",
       "3     BEL   0.183176\n",
       "4     BEN   0.855116\n",
       "..    ...        ...\n",
       "70    USA   0.537666\n",
       "71    UZB   0.496764\n",
       "72    VNM   0.480000\n",
       "73    ZAF   0.677000\n",
       "74    ZAR   0.707703\n",
       "\n",
       "[75 rows x 2 columns]"
      ]
     },
     "execution_count": 12,
     "metadata": {},
     "output_type": "execute_result"
    }
   ],
   "source": [
    "# Q8_dataframe Coeff_coeffcient d'électricité \n",
    "coeff= pd.read_csv('coeff_pj.csv')\n",
    "Coeff= coeff.drop(columns=['Unnamed: 0','year'])                  # here all the year 1960-1980\n",
    "print(Coeff.info())\n",
    "Coeff"
   ]
  },
  {
   "cell_type": "code",
   "execution_count": 13,
   "id": "75553fcf",
   "metadata": {},
   "outputs": [
    {
     "name": "stdout",
     "output_type": "stream",
     "text": [
      "                 id          year          gini\n",
      "count  20592.000000  20592.000000  20592.000000\n",
      "mean   10630.988782   2001.319542     37.281548\n",
      "std     6145.293483     14.517767      9.416913\n",
      "min        1.000000   1867.000000     12.100000\n",
      "25%     5293.750000   1995.000000     30.300000\n",
      "50%    10639.500000   2005.000000     35.570000\n",
      "75%    15971.250000   2012.000000     43.462500\n",
      "max    21253.000000   2020.000000     78.600000\n"
     ]
    },
    {
     "data": {
      "text/html": [
       "<div>\n",
       "<style scoped>\n",
       "    .dataframe tbody tr th:only-of-type {\n",
       "        vertical-align: middle;\n",
       "    }\n",
       "\n",
       "    .dataframe tbody tr th {\n",
       "        vertical-align: top;\n",
       "    }\n",
       "\n",
       "    .dataframe thead th {\n",
       "        text-align: right;\n",
       "    }\n",
       "</style>\n",
       "<table border=\"1\" class=\"dataframe\">\n",
       "  <thead>\n",
       "    <tr style=\"text-align: right;\">\n",
       "      <th></th>\n",
       "      <th>c3</th>\n",
       "      <th>gini</th>\n",
       "    </tr>\n",
       "  </thead>\n",
       "  <tbody>\n",
       "    <tr>\n",
       "      <th>0</th>\n",
       "      <td>AFG</td>\n",
       "      <td>31.000000</td>\n",
       "    </tr>\n",
       "    <tr>\n",
       "      <th>1</th>\n",
       "      <td>AGO</td>\n",
       "      <td>47.095000</td>\n",
       "    </tr>\n",
       "    <tr>\n",
       "      <th>2</th>\n",
       "      <td>ALB</td>\n",
       "      <td>31.408889</td>\n",
       "    </tr>\n",
       "    <tr>\n",
       "      <th>3</th>\n",
       "      <td>AND</td>\n",
       "      <td>27.097500</td>\n",
       "    </tr>\n",
       "    <tr>\n",
       "      <th>4</th>\n",
       "      <td>ARE</td>\n",
       "      <td>35.405000</td>\n",
       "    </tr>\n",
       "  </tbody>\n",
       "</table>\n",
       "</div>"
      ],
      "text/plain": [
       "    c3       gini\n",
       "0  AFG  31.000000\n",
       "1  AGO  47.095000\n",
       "2  ALB  31.408889\n",
       "3  AND  27.097500\n",
       "4  ARE  35.405000"
      ]
     },
     "execution_count": 13,
     "metadata": {},
     "output_type": "execute_result"
    }
   ],
   "source": [
    "# Q8_dataframe ginidata\n",
    "ginidata= pd.read_csv('ginidata.csv', index_col=None).sort_values('country')\n",
    "print(ginidata.describe())\n",
    "ginidata_mean=ginidata[['c3','gini']].groupby('c3').mean('gini').reset_index()         # aggfunc by the mean of 'gini' data over years \n",
    "ginidata_mean.head()"
   ]
  },
  {
   "cell_type": "code",
   "execution_count": 14,
   "id": "8feb4de2",
   "metadata": {},
   "outputs": [
    {
     "data": {
      "text/html": [
       "<div>\n",
       "<style scoped>\n",
       "    .dataframe tbody tr th:only-of-type {\n",
       "        vertical-align: middle;\n",
       "    }\n",
       "\n",
       "    .dataframe tbody tr th {\n",
       "        vertical-align: top;\n",
       "    }\n",
       "\n",
       "    .dataframe thead th {\n",
       "        text-align: right;\n",
       "    }\n",
       "</style>\n",
       "<table border=\"1\" class=\"dataframe\">\n",
       "  <thead>\n",
       "    <tr style=\"text-align: right;\">\n",
       "      <th></th>\n",
       "      <th>c3</th>\n",
       "      <th>gini</th>\n",
       "      <th>IGEincome</th>\n",
       "    </tr>\n",
       "  </thead>\n",
       "  <tbody>\n",
       "    <tr>\n",
       "      <th>0</th>\n",
       "      <td>ALB</td>\n",
       "      <td>31.408889</td>\n",
       "      <td>0.815874</td>\n",
       "    </tr>\n",
       "    <tr>\n",
       "      <th>1</th>\n",
       "      <td>AUS</td>\n",
       "      <td>33.017782</td>\n",
       "      <td>0.275000</td>\n",
       "    </tr>\n",
       "    <tr>\n",
       "      <th>2</th>\n",
       "      <td>AUT</td>\n",
       "      <td>30.632243</td>\n",
       "      <td>0.245267</td>\n",
       "    </tr>\n",
       "    <tr>\n",
       "      <th>3</th>\n",
       "      <td>BEL</td>\n",
       "      <td>30.698808</td>\n",
       "      <td>0.183176</td>\n",
       "    </tr>\n",
       "    <tr>\n",
       "      <th>4</th>\n",
       "      <td>BEN</td>\n",
       "      <td>41.796667</td>\n",
       "      <td>0.855116</td>\n",
       "    </tr>\n",
       "    <tr>\n",
       "      <th>...</th>\n",
       "      <td>...</td>\n",
       "      <td>...</td>\n",
       "      <td>...</td>\n",
       "    </tr>\n",
       "    <tr>\n",
       "      <th>67</th>\n",
       "      <td>UGA</td>\n",
       "      <td>40.748387</td>\n",
       "      <td>1.029195</td>\n",
       "    </tr>\n",
       "    <tr>\n",
       "      <th>68</th>\n",
       "      <td>USA</td>\n",
       "      <td>40.205324</td>\n",
       "      <td>0.537666</td>\n",
       "    </tr>\n",
       "    <tr>\n",
       "      <th>69</th>\n",
       "      <td>UZB</td>\n",
       "      <td>33.486250</td>\n",
       "      <td>0.496764</td>\n",
       "    </tr>\n",
       "    <tr>\n",
       "      <th>70</th>\n",
       "      <td>VNM</td>\n",
       "      <td>36.275400</td>\n",
       "      <td>0.480000</td>\n",
       "    </tr>\n",
       "    <tr>\n",
       "      <th>71</th>\n",
       "      <td>ZAF</td>\n",
       "      <td>64.490000</td>\n",
       "      <td>0.677000</td>\n",
       "    </tr>\n",
       "  </tbody>\n",
       "</table>\n",
       "<p>72 rows × 3 columns</p>\n",
       "</div>"
      ],
      "text/plain": [
       "     c3       gini  IGEincome\n",
       "0   ALB  31.408889   0.815874\n",
       "1   AUS  33.017782   0.275000\n",
       "2   AUT  30.632243   0.245267\n",
       "3   BEL  30.698808   0.183176\n",
       "4   BEN  41.796667   0.855116\n",
       "..  ...        ...        ...\n",
       "67  UGA  40.748387   1.029195\n",
       "68  USA  40.205324   0.537666\n",
       "69  UZB  33.486250   0.496764\n",
       "70  VNM  36.275400   0.480000\n",
       "71  ZAF  64.490000   0.677000\n",
       "\n",
       "[72 rows x 3 columns]"
      ]
     },
     "execution_count": 14,
     "metadata": {},
     "output_type": "execute_result"
    }
   ],
   "source": [
    "#Q8 Step1: jointure de 2 df\n",
    "gini_coeff = ginidata_mean.merge(Coeff, left_on='c3', right_on= 'wbcode').drop(columns=['wbcode'])\n",
    "gini_coeff \n",
    "# inclut pj et gini \n"
   ]
  },
  {
   "cell_type": "code",
   "execution_count": 15,
   "id": "bae412bf",
   "metadata": {},
   "outputs": [
    {
     "name": "stdout",
     "output_type": "stream",
     "text": [
      "<class 'pandas.core.frame.DataFrame'>\n",
      "Int64Index: 11600 entries, 0 to 11599\n",
      "Data columns (total 7 columns):\n",
      " #   Column        Non-Null Count  Dtype  \n",
      "---  ------        --------------  -----  \n",
      " 0   gini          6300 non-null   float64\n",
      " 1   IGEincome     6300 non-null   float64\n",
      " 2   country       11600 non-null  object \n",
      " 3   quantile      11600 non-null  int64  \n",
      " 4   nb_quantiles  11600 non-null  int64  \n",
      " 5   income        11600 non-null  float64\n",
      " 6   gdpppp        11600 non-null  float64\n",
      "dtypes: float64(4), int64(2), object(1)\n",
      "memory usage: 725.0+ KB\n",
      "None\n"
     ]
    },
    {
     "data": {
      "text/html": [
       "<div>\n",
       "<style scoped>\n",
       "    .dataframe tbody tr th:only-of-type {\n",
       "        vertical-align: middle;\n",
       "    }\n",
       "\n",
       "    .dataframe tbody tr th {\n",
       "        vertical-align: top;\n",
       "    }\n",
       "\n",
       "    .dataframe thead th {\n",
       "        text-align: right;\n",
       "    }\n",
       "</style>\n",
       "<table border=\"1\" class=\"dataframe\">\n",
       "  <thead>\n",
       "    <tr style=\"text-align: right;\">\n",
       "      <th></th>\n",
       "      <th>gini</th>\n",
       "      <th>IGEincome</th>\n",
       "      <th>country</th>\n",
       "      <th>quantile</th>\n",
       "      <th>nb_quantiles</th>\n",
       "      <th>income</th>\n",
       "      <th>gdpppp</th>\n",
       "    </tr>\n",
       "  </thead>\n",
       "  <tbody>\n",
       "    <tr>\n",
       "      <th>0</th>\n",
       "      <td>31.408889</td>\n",
       "      <td>0.815874</td>\n",
       "      <td>ALB</td>\n",
       "      <td>1</td>\n",
       "      <td>100</td>\n",
       "      <td>728.89795</td>\n",
       "      <td>7297.0</td>\n",
       "    </tr>\n",
       "    <tr>\n",
       "      <th>1</th>\n",
       "      <td>31.408889</td>\n",
       "      <td>0.815874</td>\n",
       "      <td>ALB</td>\n",
       "      <td>2</td>\n",
       "      <td>100</td>\n",
       "      <td>916.66235</td>\n",
       "      <td>7297.0</td>\n",
       "    </tr>\n",
       "    <tr>\n",
       "      <th>2</th>\n",
       "      <td>31.408889</td>\n",
       "      <td>0.815874</td>\n",
       "      <td>ALB</td>\n",
       "      <td>3</td>\n",
       "      <td>100</td>\n",
       "      <td>1010.91600</td>\n",
       "      <td>7297.0</td>\n",
       "    </tr>\n",
       "    <tr>\n",
       "      <th>3</th>\n",
       "      <td>31.408889</td>\n",
       "      <td>0.815874</td>\n",
       "      <td>ALB</td>\n",
       "      <td>4</td>\n",
       "      <td>100</td>\n",
       "      <td>1086.90780</td>\n",
       "      <td>7297.0</td>\n",
       "    </tr>\n",
       "    <tr>\n",
       "      <th>4</th>\n",
       "      <td>31.408889</td>\n",
       "      <td>0.815874</td>\n",
       "      <td>ALB</td>\n",
       "      <td>5</td>\n",
       "      <td>100</td>\n",
       "      <td>1132.69970</td>\n",
       "      <td>7297.0</td>\n",
       "    </tr>\n",
       "    <tr>\n",
       "      <th>...</th>\n",
       "      <td>...</td>\n",
       "      <td>...</td>\n",
       "      <td>...</td>\n",
       "      <td>...</td>\n",
       "      <td>...</td>\n",
       "      <td>...</td>\n",
       "      <td>...</td>\n",
       "    </tr>\n",
       "    <tr>\n",
       "      <th>11494</th>\n",
       "      <td>64.490000</td>\n",
       "      <td>0.677000</td>\n",
       "      <td>ZAF</td>\n",
       "      <td>96</td>\n",
       "      <td>100</td>\n",
       "      <td>24553.56800</td>\n",
       "      <td>9602.0</td>\n",
       "    </tr>\n",
       "    <tr>\n",
       "      <th>11495</th>\n",
       "      <td>64.490000</td>\n",
       "      <td>0.677000</td>\n",
       "      <td>ZAF</td>\n",
       "      <td>97</td>\n",
       "      <td>100</td>\n",
       "      <td>28858.03100</td>\n",
       "      <td>9602.0</td>\n",
       "    </tr>\n",
       "    <tr>\n",
       "      <th>11496</th>\n",
       "      <td>64.490000</td>\n",
       "      <td>0.677000</td>\n",
       "      <td>ZAF</td>\n",
       "      <td>98</td>\n",
       "      <td>100</td>\n",
       "      <td>35750.29000</td>\n",
       "      <td>9602.0</td>\n",
       "    </tr>\n",
       "    <tr>\n",
       "      <th>11497</th>\n",
       "      <td>64.490000</td>\n",
       "      <td>0.677000</td>\n",
       "      <td>ZAF</td>\n",
       "      <td>99</td>\n",
       "      <td>100</td>\n",
       "      <td>46297.31600</td>\n",
       "      <td>9602.0</td>\n",
       "    </tr>\n",
       "    <tr>\n",
       "      <th>11498</th>\n",
       "      <td>64.490000</td>\n",
       "      <td>0.677000</td>\n",
       "      <td>ZAF</td>\n",
       "      <td>100</td>\n",
       "      <td>100</td>\n",
       "      <td>82408.55000</td>\n",
       "      <td>9602.0</td>\n",
       "    </tr>\n",
       "  </tbody>\n",
       "</table>\n",
       "<p>6300 rows × 7 columns</p>\n",
       "</div>"
      ],
      "text/plain": [
       "            gini  IGEincome country  quantile  nb_quantiles       income  \\\n",
       "0      31.408889   0.815874     ALB         1           100    728.89795   \n",
       "1      31.408889   0.815874     ALB         2           100    916.66235   \n",
       "2      31.408889   0.815874     ALB         3           100   1010.91600   \n",
       "3      31.408889   0.815874     ALB         4           100   1086.90780   \n",
       "4      31.408889   0.815874     ALB         5           100   1132.69970   \n",
       "...          ...        ...     ...       ...           ...          ...   \n",
       "11494  64.490000   0.677000     ZAF        96           100  24553.56800   \n",
       "11495  64.490000   0.677000     ZAF        97           100  28858.03100   \n",
       "11496  64.490000   0.677000     ZAF        98           100  35750.29000   \n",
       "11497  64.490000   0.677000     ZAF        99           100  46297.31600   \n",
       "11498  64.490000   0.677000     ZAF       100           100  82408.55000   \n",
       "\n",
       "       gdpppp  \n",
       "0      7297.0  \n",
       "1      7297.0  \n",
       "2      7297.0  \n",
       "3      7297.0  \n",
       "4      7297.0  \n",
       "...       ...  \n",
       "11494  9602.0  \n",
       "11495  9602.0  \n",
       "11496  9602.0  \n",
       "11497  9602.0  \n",
       "11498  9602.0  \n",
       "\n",
       "[6300 rows x 7 columns]"
      ]
     },
     "execution_count": 15,
     "metadata": {},
     "output_type": "execute_result"
    }
   ],
   "source": [
    "#Q8\n",
    "# step2: jointure de tous ces 3 dataframes \n",
    "\n",
    "Co = pd.merge(gini_coeff, dataWID, left_on= 'c3', right_on ='country', how='right').drop(['year_survey', 'c3'], axis=1)  \n",
    "print(Co.info())\n",
    "Co=Co.dropna(how='any')\n",
    "Co\n",
    "\n",
    "#income: revenu des parents"
   ]
  },
  {
   "cell_type": "code",
   "execution_count": 16,
   "id": "9b6066f3",
   "metadata": {},
   "outputs": [
    {
     "name": "stdout",
     "output_type": "stream",
     "text": [
      "<class 'pandas.core.frame.DataFrame'>\n",
      "Int64Index: 3150000 entries, 0 to 3149999\n",
      "Data columns (total 7 columns):\n",
      " #   Column        Dtype  \n",
      "---  ------        -----  \n",
      " 0   gini          float64\n",
      " 1   IGEincome     float64\n",
      " 2   country       object \n",
      " 3   quantile      int64  \n",
      " 4   nb_quantiles  int64  \n",
      " 5   income        float64\n",
      " 6   gdpppp        float64\n",
      "dtypes: float64(4), int64(2), object(1)\n",
      "memory usage: 192.3+ MB\n",
      "None\n"
     ]
    },
    {
     "data": {
      "text/html": [
       "<div>\n",
       "<style scoped>\n",
       "    .dataframe tbody tr th:only-of-type {\n",
       "        vertical-align: middle;\n",
       "    }\n",
       "\n",
       "    .dataframe tbody tr th {\n",
       "        vertical-align: top;\n",
       "    }\n",
       "\n",
       "    .dataframe thead th {\n",
       "        text-align: right;\n",
       "    }\n",
       "</style>\n",
       "<table border=\"1\" class=\"dataframe\">\n",
       "  <thead>\n",
       "    <tr style=\"text-align: right;\">\n",
       "      <th></th>\n",
       "      <th>gini</th>\n",
       "      <th>IGEincome</th>\n",
       "      <th>country</th>\n",
       "      <th>quantile_child</th>\n",
       "      <th>nb_quantiles</th>\n",
       "      <th>income</th>\n",
       "      <th>gdpppp</th>\n",
       "    </tr>\n",
       "  </thead>\n",
       "  <tbody>\n",
       "    <tr>\n",
       "      <th>0</th>\n",
       "      <td>31.408889</td>\n",
       "      <td>0.815874</td>\n",
       "      <td>ALB</td>\n",
       "      <td>1</td>\n",
       "      <td>100</td>\n",
       "      <td>728.89795</td>\n",
       "      <td>7297.0</td>\n",
       "    </tr>\n",
       "    <tr>\n",
       "      <th>6300</th>\n",
       "      <td>31.408889</td>\n",
       "      <td>0.815874</td>\n",
       "      <td>ALB</td>\n",
       "      <td>1</td>\n",
       "      <td>100</td>\n",
       "      <td>728.89795</td>\n",
       "      <td>7297.0</td>\n",
       "    </tr>\n",
       "    <tr>\n",
       "      <th>12600</th>\n",
       "      <td>31.408889</td>\n",
       "      <td>0.815874</td>\n",
       "      <td>ALB</td>\n",
       "      <td>1</td>\n",
       "      <td>100</td>\n",
       "      <td>728.89795</td>\n",
       "      <td>7297.0</td>\n",
       "    </tr>\n",
       "    <tr>\n",
       "      <th>18900</th>\n",
       "      <td>31.408889</td>\n",
       "      <td>0.815874</td>\n",
       "      <td>ALB</td>\n",
       "      <td>1</td>\n",
       "      <td>100</td>\n",
       "      <td>728.89795</td>\n",
       "      <td>7297.0</td>\n",
       "    </tr>\n",
       "    <tr>\n",
       "      <th>25200</th>\n",
       "      <td>31.408889</td>\n",
       "      <td>0.815874</td>\n",
       "      <td>ALB</td>\n",
       "      <td>1</td>\n",
       "      <td>100</td>\n",
       "      <td>728.89795</td>\n",
       "      <td>7297.0</td>\n",
       "    </tr>\n",
       "  </tbody>\n",
       "</table>\n",
       "</div>"
      ],
      "text/plain": [
       "            gini  IGEincome country  quantile_child  nb_quantiles     income  \\\n",
       "0      31.408889   0.815874     ALB               1           100  728.89795   \n",
       "6300   31.408889   0.815874     ALB               1           100  728.89795   \n",
       "12600  31.408889   0.815874     ALB               1           100  728.89795   \n",
       "18900  31.408889   0.815874     ALB               1           100  728.89795   \n",
       "25200  31.408889   0.815874     ALB               1           100  728.89795   \n",
       "\n",
       "       gdpppp  \n",
       "0      7297.0  \n",
       "6300   7297.0  \n",
       "12600  7297.0  \n",
       "18900  7297.0  \n",
       "25200  7297.0  "
      ]
     },
     "execution_count": 16,
     "metadata": {},
     "output_type": "execute_result"
    }
   ],
   "source": [
    "# Q8 \n",
    "#Step 3: cloner tous les individus (pays clientèle) par 500 fois : on a 500 pour chaque c_i_child et chaque country \n",
    "\n",
    "Co500 = pd.concat([Co]*500, ignore_index=True)                 # cloner en 500 fois les individus \n",
    "Co500= Co500.sort_values(by=['country','quantile'])\n",
    "print(Co500.info())\n",
    "Co500=Co500.rename({'quantile': 'quantile_child'}, axis=1)      #here quantile is changed to quantile_child \n",
    "Co500.head()\n",
    "\n",
    "# 500 individus pour chaque c_i_child de chaque pays , donc y a 100*500 individus pour chaque pays \n",
    "# 6300*500 = 3150000 rows\n",
    "# Q8 fini"
   ]
  },
  {
   "cell_type": "markdown",
   "id": "c5e7cb28",
   "metadata": {},
   "source": [
    "#### Q9: Vous attribuerez aux 500 individus leurs classes c_i_parent conformément aux distributions trouvées précédemment. Ctd. attribution de c_i_parent à chaque observation selon fonctions données\n",
    "\n",
    "- 1.  Calculate corresponding **conditional distribution (P)** of class income parents based on the class income child that we have in the dataframe of Q8.\n",
    "- 2. then add onto the dataframe **quantities of every possibility** for class income parents with regard to every class income child "
   ]
  },
  {
   "cell_type": "code",
   "execution_count": 17,
   "id": "de386da5",
   "metadata": {},
   "outputs": [
    {
     "name": "stdout",
     "output_type": "stream",
     "text": [
      "<class 'pandas.core.frame.DataFrame'>\n",
      "Int64Index: 50000 entries, 0 to 3143799\n",
      "Data columns (total 7 columns):\n",
      " #   Column          Non-Null Count  Dtype  \n",
      "---  ------          --------------  -----  \n",
      " 0   gini            50000 non-null  float64\n",
      " 1   IGEincome       50000 non-null  float64\n",
      " 2   country         50000 non-null  object \n",
      " 3   quantile_child  50000 non-null  int64  \n",
      " 4   nb_quantiles    50000 non-null  int64  \n",
      " 5   income          50000 non-null  float64\n",
      " 6   gdpppp          50000 non-null  float64\n",
      "dtypes: float64(4), int64(2), object(1)\n",
      "memory usage: 3.1+ MB\n",
      "None\n"
     ]
    },
    {
     "data": {
      "text/html": [
       "<div>\n",
       "<style scoped>\n",
       "    .dataframe tbody tr th:only-of-type {\n",
       "        vertical-align: middle;\n",
       "    }\n",
       "\n",
       "    .dataframe tbody tr th {\n",
       "        vertical-align: top;\n",
       "    }\n",
       "\n",
       "    .dataframe thead th {\n",
       "        text-align: right;\n",
       "    }\n",
       "</style>\n",
       "<table border=\"1\" class=\"dataframe\">\n",
       "  <thead>\n",
       "    <tr style=\"text-align: right;\">\n",
       "      <th></th>\n",
       "      <th>gini</th>\n",
       "      <th>IGEincome</th>\n",
       "      <th>country</th>\n",
       "      <th>quantile_child</th>\n",
       "      <th>nb_quantiles</th>\n",
       "      <th>income</th>\n",
       "      <th>gdpppp</th>\n",
       "    </tr>\n",
       "  </thead>\n",
       "  <tbody>\n",
       "    <tr>\n",
       "      <th>0</th>\n",
       "      <td>31.408889</td>\n",
       "      <td>0.815874</td>\n",
       "      <td>ALB</td>\n",
       "      <td>1</td>\n",
       "      <td>100</td>\n",
       "      <td>728.89795</td>\n",
       "      <td>7297.0</td>\n",
       "    </tr>\n",
       "    <tr>\n",
       "      <th>6300</th>\n",
       "      <td>31.408889</td>\n",
       "      <td>0.815874</td>\n",
       "      <td>ALB</td>\n",
       "      <td>1</td>\n",
       "      <td>100</td>\n",
       "      <td>728.89795</td>\n",
       "      <td>7297.0</td>\n",
       "    </tr>\n",
       "    <tr>\n",
       "      <th>12600</th>\n",
       "      <td>31.408889</td>\n",
       "      <td>0.815874</td>\n",
       "      <td>ALB</td>\n",
       "      <td>1</td>\n",
       "      <td>100</td>\n",
       "      <td>728.89795</td>\n",
       "      <td>7297.0</td>\n",
       "    </tr>\n",
       "    <tr>\n",
       "      <th>18900</th>\n",
       "      <td>31.408889</td>\n",
       "      <td>0.815874</td>\n",
       "      <td>ALB</td>\n",
       "      <td>1</td>\n",
       "      <td>100</td>\n",
       "      <td>728.89795</td>\n",
       "      <td>7297.0</td>\n",
       "    </tr>\n",
       "    <tr>\n",
       "      <th>25200</th>\n",
       "      <td>31.408889</td>\n",
       "      <td>0.815874</td>\n",
       "      <td>ALB</td>\n",
       "      <td>1</td>\n",
       "      <td>100</td>\n",
       "      <td>728.89795</td>\n",
       "      <td>7297.0</td>\n",
       "    </tr>\n",
       "  </tbody>\n",
       "</table>\n",
       "</div>"
      ],
      "text/plain": [
       "            gini  IGEincome country  quantile_child  nb_quantiles     income  \\\n",
       "0      31.408889   0.815874     ALB               1           100  728.89795   \n",
       "6300   31.408889   0.815874     ALB               1           100  728.89795   \n",
       "12600  31.408889   0.815874     ALB               1           100  728.89795   \n",
       "18900  31.408889   0.815874     ALB               1           100  728.89795   \n",
       "25200  31.408889   0.815874     ALB               1           100  728.89795   \n",
       "\n",
       "       gdpppp  \n",
       "0      7297.0  \n",
       "6300   7297.0  \n",
       "12600  7297.0  \n",
       "18900  7297.0  \n",
       "25200  7297.0  "
      ]
     },
     "execution_count": 17,
     "metadata": {},
     "output_type": "execute_result"
    }
   ],
   "source": [
    "#Q9: attribution de c_i_parent à chaque observation selon fonctions ('counts')\n",
    "\n",
    "# pour faciliter la vitesse de calcul, ici on prend ALB pour exemple illustratif\n",
    "\n",
    "ALB = Co500[Co500['country']=='ALB']\n",
    "print(ALB.info())\n",
    "ALB.head()"
   ]
  },
  {
   "cell_type": "code",
   "execution_count": 18,
   "id": "7b033745",
   "metadata": {},
   "outputs": [],
   "source": [
    "ALB_proba=[]\n",
    "\n",
    "pj=Co500.loc[Co500['country']=='ALB','IGEincome'].iloc[0]            # coefficient d'élasticité du pays j\n",
    "nb_quantiles = 100                                                                              # nombre de quantiles (nombre de classes de revenu)\n",
    "n = 500*nb_quantiles                                                                       # taille de l'échantillon\n",
    "    \n",
    "y_child, y_parents = generate_incomes(n, pj)\n",
    "sample = compute_quantiles(y_child, y_parents, nb_quantiles)\n",
    "cd = conditional_distributions(sample, nb_quantiles)\n",
    "for c_i_child in range(100):\n",
    "    for c_i_parent in range(100):\n",
    "        p = proba_cond(c_i_parent, c_i_child, cd)\n",
    "        ALB_proba.extend([c_i_parent+1]*(int(p*500)))        \n",
    "            "
   ]
  },
  {
   "cell_type": "code",
   "execution_count": 19,
   "id": "bf7c8162",
   "metadata": {},
   "outputs": [
    {
     "data": {
      "text/plain": [
       "50000"
      ]
     },
     "execution_count": 19,
     "metadata": {},
     "output_type": "execute_result"
    }
   ],
   "source": [
    "len(ALB_proba)"
   ]
  },
  {
   "cell_type": "code",
   "execution_count": 20,
   "id": "2b583048",
   "metadata": {},
   "outputs": [
    {
     "name": "stderr",
     "output_type": "stream",
     "text": [
      "<ipython-input-20-049235bb7fc6>:1: SettingWithCopyWarning: \n",
      "A value is trying to be set on a copy of a slice from a DataFrame.\n",
      "Try using .loc[row_indexer,col_indexer] = value instead\n",
      "\n",
      "See the caveats in the documentation: https://pandas.pydata.org/pandas-docs/stable/user_guide/indexing.html#returning-a-view-versus-a-copy\n",
      "  ALB['proba_quantile_parent']=ALB_proba\n"
     ]
    },
    {
     "name": "stdout",
     "output_type": "stream",
     "text": [
      "<class 'pandas.core.frame.DataFrame'>\n",
      "Int64Index: 50000 entries, 0 to 3143799\n",
      "Data columns (total 8 columns):\n",
      " #   Column                 Non-Null Count  Dtype  \n",
      "---  ------                 --------------  -----  \n",
      " 0   gini                   50000 non-null  float64\n",
      " 1   IGEincome              50000 non-null  float64\n",
      " 2   country                50000 non-null  object \n",
      " 3   quantile_child         50000 non-null  int64  \n",
      " 4   nb_quantiles           50000 non-null  int64  \n",
      " 5   income                 50000 non-null  float64\n",
      " 6   gdpppp                 50000 non-null  float64\n",
      " 7   proba_quantile_parent  50000 non-null  int64  \n",
      "dtypes: float64(4), int64(3), object(1)\n",
      "memory usage: 3.4+ MB\n",
      "None\n"
     ]
    },
    {
     "data": {
      "text/html": [
       "<div>\n",
       "<style scoped>\n",
       "    .dataframe tbody tr th:only-of-type {\n",
       "        vertical-align: middle;\n",
       "    }\n",
       "\n",
       "    .dataframe tbody tr th {\n",
       "        vertical-align: top;\n",
       "    }\n",
       "\n",
       "    .dataframe thead th {\n",
       "        text-align: right;\n",
       "    }\n",
       "</style>\n",
       "<table border=\"1\" class=\"dataframe\">\n",
       "  <thead>\n",
       "    <tr style=\"text-align: right;\">\n",
       "      <th></th>\n",
       "      <th>gini</th>\n",
       "      <th>IGEincome</th>\n",
       "      <th>country</th>\n",
       "      <th>quantile_child</th>\n",
       "      <th>nb_quantiles</th>\n",
       "      <th>income</th>\n",
       "      <th>gdpppp</th>\n",
       "      <th>proba_quantile_parent</th>\n",
       "    </tr>\n",
       "  </thead>\n",
       "  <tbody>\n",
       "    <tr>\n",
       "      <th>0</th>\n",
       "      <td>31.408889</td>\n",
       "      <td>0.815874</td>\n",
       "      <td>ALB</td>\n",
       "      <td>1</td>\n",
       "      <td>100</td>\n",
       "      <td>728.89795</td>\n",
       "      <td>7297.0</td>\n",
       "      <td>1</td>\n",
       "    </tr>\n",
       "    <tr>\n",
       "      <th>6300</th>\n",
       "      <td>31.408889</td>\n",
       "      <td>0.815874</td>\n",
       "      <td>ALB</td>\n",
       "      <td>1</td>\n",
       "      <td>100</td>\n",
       "      <td>728.89795</td>\n",
       "      <td>7297.0</td>\n",
       "      <td>1</td>\n",
       "    </tr>\n",
       "    <tr>\n",
       "      <th>12600</th>\n",
       "      <td>31.408889</td>\n",
       "      <td>0.815874</td>\n",
       "      <td>ALB</td>\n",
       "      <td>1</td>\n",
       "      <td>100</td>\n",
       "      <td>728.89795</td>\n",
       "      <td>7297.0</td>\n",
       "      <td>1</td>\n",
       "    </tr>\n",
       "    <tr>\n",
       "      <th>18900</th>\n",
       "      <td>31.408889</td>\n",
       "      <td>0.815874</td>\n",
       "      <td>ALB</td>\n",
       "      <td>1</td>\n",
       "      <td>100</td>\n",
       "      <td>728.89795</td>\n",
       "      <td>7297.0</td>\n",
       "      <td>1</td>\n",
       "    </tr>\n",
       "    <tr>\n",
       "      <th>25200</th>\n",
       "      <td>31.408889</td>\n",
       "      <td>0.815874</td>\n",
       "      <td>ALB</td>\n",
       "      <td>1</td>\n",
       "      <td>100</td>\n",
       "      <td>728.89795</td>\n",
       "      <td>7297.0</td>\n",
       "      <td>1</td>\n",
       "    </tr>\n",
       "  </tbody>\n",
       "</table>\n",
       "</div>"
      ],
      "text/plain": [
       "            gini  IGEincome country  quantile_child  nb_quantiles     income  \\\n",
       "0      31.408889   0.815874     ALB               1           100  728.89795   \n",
       "6300   31.408889   0.815874     ALB               1           100  728.89795   \n",
       "12600  31.408889   0.815874     ALB               1           100  728.89795   \n",
       "18900  31.408889   0.815874     ALB               1           100  728.89795   \n",
       "25200  31.408889   0.815874     ALB               1           100  728.89795   \n",
       "\n",
       "       gdpppp  proba_quantile_parent  \n",
       "0      7297.0                      1  \n",
       "6300   7297.0                      1  \n",
       "12600  7297.0                      1  \n",
       "18900  7297.0                      1  \n",
       "25200  7297.0                      1  "
      ]
     },
     "execution_count": 20,
     "metadata": {},
     "output_type": "execute_result"
    }
   ],
   "source": [
    "ALB['proba_quantile_parent']=ALB_proba\n",
    "\n",
    "ALB.to_csv('M3_final_ex_ALB.csv')\n",
    "print(ALB.info())\n",
    "ALB.head()"
   ]
  },
  {
   "cell_type": "code",
   "execution_count": 21,
   "id": "f166038c",
   "metadata": {},
   "outputs": [
    {
     "data": {
      "text/plain": [
       "0.8158745"
      ]
     },
     "execution_count": 21,
     "metadata": {},
     "output_type": "execute_result"
    }
   ],
   "source": [
    "Co500.loc[Co500['country']=='ALB','IGEincome'].iloc[0]   \n"
   ]
  },
  {
   "cell_type": "code",
   "execution_count": 26,
   "id": "18a38061",
   "metadata": {},
   "outputs": [
    {
     "ename": "NameError",
     "evalue": "name 'Co500' is not defined",
     "output_type": "error",
     "traceback": [
      "\u001b[1;31m---------------------------------------------------------------------------\u001b[0m",
      "\u001b[1;31mNameError\u001b[0m                                 Traceback (most recent call last)",
      "Input \u001b[1;32mIn [26]\u001b[0m, in \u001b[0;36m<cell line: 3>\u001b[1;34m()\u001b[0m\n\u001b[0;32m      1\u001b[0m \u001b[38;5;66;03m# un exemple d'Albania: ALB\u001b[39;00m\n\u001b[1;32m----> 3\u001b[0m pj\u001b[38;5;241m=\u001b[39m\u001b[43mCo500\u001b[49m\u001b[38;5;241m.\u001b[39mloc[Co500[\u001b[38;5;124m'\u001b[39m\u001b[38;5;124mcountry\u001b[39m\u001b[38;5;124m'\u001b[39m]\u001b[38;5;241m==\u001b[39m\u001b[38;5;124m'\u001b[39m\u001b[38;5;124mALB\u001b[39m\u001b[38;5;124m'\u001b[39m,\u001b[38;5;124m'\u001b[39m\u001b[38;5;124mIGEincome\u001b[39m\u001b[38;5;124m'\u001b[39m]\u001b[38;5;241m.\u001b[39miloc[\u001b[38;5;241m0\u001b[39m]   \n\u001b[0;32m      4\u001b[0m nb_quantiles \u001b[38;5;241m=\u001b[39m \u001b[38;5;241m100\u001b[39m                       \u001b[38;5;66;03m# classes de revenu = 100                                                       \u001b[39;00m\n\u001b[0;32m      5\u001b[0m n \u001b[38;5;241m=\u001b[39m \u001b[38;5;241m500\u001b[39m\u001b[38;5;241m*\u001b[39mnb_quantiles\n",
      "\u001b[1;31mNameError\u001b[0m: name 'Co500' is not defined"
     ]
    }
   ],
   "source": [
    "# un exemple d'Albania: ALB\n",
    "\n",
    "pj=Co500.loc[Co500['country']=='ALB','IGEincome'].iloc[0]   \n",
    "nb_quantiles = 100                       # classes de revenu = 100                                                       \n",
    "n = 500*nb_quantiles\n",
    "\n",
    "\n",
    "    \n",
    "plot_conditional_distributions(pj, cd, nb_quantiles)            \n",
    "\n",
    "plt.savefig('M3 ALB_plot_conditional distribution.jpg')\n",
    "\n",
    "# cas illustrative: Albania \n",
    "c_i_child = 16\n",
    "c_i_parent = 12\n",
    "p = proba_cond(c_i_parent, c_i_child, cd)\n",
    "print(\"\\nP(c_i_parent = {} | c_i_child = {}, pj = {}) = {}\".format(c_i_parent, c_i_child,\n",
    "pj, p))\n"
   ]
  },
  {
   "cell_type": "markdown",
   "id": "37eabda1",
   "metadata": {},
   "source": [
    "<font color=\"1E1EE9\"> Pour le pays Albania qui a pour coeff d'élasticité 0.8158745 à faible mobilité, la probabilité pour que la classe revenu parents se situe à la 12ème est 2.8% sachant la classe revenu d'enfant se situe à 16ème/100 classes </font>"
   ]
  },
  {
   "cell_type": "code",
   "execution_count": 23,
   "id": "a10c0d98",
   "metadata": {},
   "outputs": [
    {
     "name": "stdout",
     "output_type": "stream",
     "text": [
      "the number of countries in Co500:  63\n"
     ]
    }
   ],
   "source": [
    "print('the number of countries in Co500: ', len(Co500['IGEincome'].unique()))\n",
    "#Co500['IGEincome'].unique()"
   ]
  },
  {
   "cell_type": "code",
   "execution_count": 24,
   "id": "3551cb9a",
   "metadata": {},
   "outputs": [
    {
     "name": "stdout",
     "output_type": "stream",
     "text": [
      "63\n"
     ]
    },
    {
     "data": {
      "text/plain": [
       "array(['ALB', 'AUT', 'BEL', 'BGD', 'BIH', 'BLR', 'BOL', 'BRA', 'CAN',\n",
       "       'CHL', 'CHN', 'COL', 'CYP', 'CZE', 'DEU', 'DNK', 'ECU', 'EGY',\n",
       "       'ESP', 'FIN', 'FRA', 'GBR', 'GHA', 'GIN', 'GRC', 'GTM', 'HRV',\n",
       "       'IND', 'IRL', 'ITA', 'JOR', 'JPN', 'KAZ', 'KEN', 'KGZ', 'KOR',\n",
       "       'LUX', 'LVA', 'MAR', 'MDG', 'MKD', 'MLI', 'MNG', 'MWI', 'MYS',\n",
       "       'NGA', 'NLD', 'NOR', 'NPL', 'PAK', 'PAN', 'PER', 'PRT', 'RUS',\n",
       "       'SVK', 'SVN', 'SWE', 'TWN', 'TZA', 'UGA', 'USA', 'VNM', 'ZAF'],\n",
       "      dtype=object)"
      ]
     },
     "execution_count": 24,
     "metadata": {},
     "output_type": "execute_result"
    }
   ],
   "source": [
    "country_list=Co500['country'].unique()\n",
    "print(len(country_list))\n",
    "country_list"
   ]
  },
  {
   "cell_type": "code",
   "execution_count": 26,
   "id": "4c08f3f4",
   "metadata": {},
   "outputs": [],
   "source": [
    "#Q9\n",
    "\n",
    "list_prob=[]\n",
    "\n",
    "for country in country_list:\n",
    "    pj=Co500.loc[Co500['country']==country,'IGEincome'].iloc[0]             # coefficient d'élasticité du pays j\n",
    "    nb_quantiles = 100                                                                              # nombre de quantiles (nombre de classes de revenu)=100\n",
    "    n = 500*nb_quantiles                                                                           # taille de l'échantillon=500*100 vu qu'on a 500 fois le même individu \n",
    "    y_child, y_parents = generate_incomes(n, pj)\n",
    "    sample = compute_quantiles(y_child, y_parents, nb_quantiles)\n",
    "    cd = conditional_distributions(sample, nb_quantiles)\n",
    "    for c_i_child in range(100):\n",
    "        for c_i_parent in range(100):\n",
    "            p = proba_cond(c_i_parent, c_i_child, cd)\n",
    "            list_prob.extend([c_i_parent+1]*(int(p*500)))        \n",
    "            \n",
    "            # p is the probability (in %) for every individual c_i_parent I c_i_child I pj = coeffs, \n",
    "            # now that we have 500 clones for every individual, thus p*500 = the number of (c_i_parent) in every probability             \n",
    "            "
   ]
  },
  {
   "cell_type": "code",
   "execution_count": 27,
   "id": "de469592",
   "metadata": {},
   "outputs": [
    {
     "data": {
      "text/plain": [
       "3150000"
      ]
     },
     "execution_count": 27,
     "metadata": {},
     "output_type": "execute_result"
    }
   ],
   "source": [
    "len(list_prob)     "
   ]
  },
  {
   "cell_type": "code",
   "execution_count": 28,
   "id": "78ec2b8b",
   "metadata": {},
   "outputs": [
    {
     "data": {
      "text/plain": [
       "(3150000, 7)"
      ]
     },
     "execution_count": 28,
     "metadata": {},
     "output_type": "execute_result"
    }
   ],
   "source": [
    "Co500.shape"
   ]
  },
  {
   "cell_type": "markdown",
   "id": "833d19fc",
   "metadata": {},
   "source": [
    "len(list_prob) = len(Co500), so we can add list_prob onto the Co500"
   ]
  },
  {
   "cell_type": "code",
   "execution_count": 30,
   "id": "cbcd6336",
   "metadata": {},
   "outputs": [
    {
     "name": "stdout",
     "output_type": "stream",
     "text": [
      "<class 'pandas.core.frame.DataFrame'>\n",
      "Int64Index: 3150000 entries, 0 to 3149999\n",
      "Data columns (total 8 columns):\n",
      " #   Column                 Dtype  \n",
      "---  ------                 -----  \n",
      " 0   gini                   float64\n",
      " 1   IGEincome              float64\n",
      " 2   country                object \n",
      " 3   quantile_child         int64  \n",
      " 4   nb_quantiles           int64  \n",
      " 5   income                 float64\n",
      " 6   gdpppp                 float64\n",
      " 7   proba_quantile_parent  int64  \n",
      "dtypes: float64(4), int64(3), object(1)\n",
      "memory usage: 216.3+ MB\n",
      "None\n"
     ]
    },
    {
     "data": {
      "text/html": [
       "<div>\n",
       "<style scoped>\n",
       "    .dataframe tbody tr th:only-of-type {\n",
       "        vertical-align: middle;\n",
       "    }\n",
       "\n",
       "    .dataframe tbody tr th {\n",
       "        vertical-align: top;\n",
       "    }\n",
       "\n",
       "    .dataframe thead th {\n",
       "        text-align: right;\n",
       "    }\n",
       "</style>\n",
       "<table border=\"1\" class=\"dataframe\">\n",
       "  <thead>\n",
       "    <tr style=\"text-align: right;\">\n",
       "      <th></th>\n",
       "      <th>gini</th>\n",
       "      <th>IGEincome</th>\n",
       "      <th>country</th>\n",
       "      <th>quantile_child</th>\n",
       "      <th>nb_quantiles</th>\n",
       "      <th>income</th>\n",
       "      <th>gdpppp</th>\n",
       "      <th>proba_quantile_parent</th>\n",
       "    </tr>\n",
       "  </thead>\n",
       "  <tbody>\n",
       "    <tr>\n",
       "      <th>0</th>\n",
       "      <td>31.408889</td>\n",
       "      <td>0.815874</td>\n",
       "      <td>ALB</td>\n",
       "      <td>1</td>\n",
       "      <td>100</td>\n",
       "      <td>728.89795</td>\n",
       "      <td>7297.0</td>\n",
       "      <td>1</td>\n",
       "    </tr>\n",
       "    <tr>\n",
       "      <th>6300</th>\n",
       "      <td>31.408889</td>\n",
       "      <td>0.815874</td>\n",
       "      <td>ALB</td>\n",
       "      <td>1</td>\n",
       "      <td>100</td>\n",
       "      <td>728.89795</td>\n",
       "      <td>7297.0</td>\n",
       "      <td>1</td>\n",
       "    </tr>\n",
       "    <tr>\n",
       "      <th>12600</th>\n",
       "      <td>31.408889</td>\n",
       "      <td>0.815874</td>\n",
       "      <td>ALB</td>\n",
       "      <td>1</td>\n",
       "      <td>100</td>\n",
       "      <td>728.89795</td>\n",
       "      <td>7297.0</td>\n",
       "      <td>1</td>\n",
       "    </tr>\n",
       "    <tr>\n",
       "      <th>18900</th>\n",
       "      <td>31.408889</td>\n",
       "      <td>0.815874</td>\n",
       "      <td>ALB</td>\n",
       "      <td>1</td>\n",
       "      <td>100</td>\n",
       "      <td>728.89795</td>\n",
       "      <td>7297.0</td>\n",
       "      <td>1</td>\n",
       "    </tr>\n",
       "    <tr>\n",
       "      <th>25200</th>\n",
       "      <td>31.408889</td>\n",
       "      <td>0.815874</td>\n",
       "      <td>ALB</td>\n",
       "      <td>1</td>\n",
       "      <td>100</td>\n",
       "      <td>728.89795</td>\n",
       "      <td>7297.0</td>\n",
       "      <td>1</td>\n",
       "    </tr>\n",
       "  </tbody>\n",
       "</table>\n",
       "</div>"
      ],
      "text/plain": [
       "            gini  IGEincome country  quantile_child  nb_quantiles     income  \\\n",
       "0      31.408889   0.815874     ALB               1           100  728.89795   \n",
       "6300   31.408889   0.815874     ALB               1           100  728.89795   \n",
       "12600  31.408889   0.815874     ALB               1           100  728.89795   \n",
       "18900  31.408889   0.815874     ALB               1           100  728.89795   \n",
       "25200  31.408889   0.815874     ALB               1           100  728.89795   \n",
       "\n",
       "       gdpppp  proba_quantile_parent  \n",
       "0      7297.0                      1  \n",
       "6300   7297.0                      1  \n",
       "12600  7297.0                      1  \n",
       "18900  7297.0                      1  \n",
       "25200  7297.0                      1  "
      ]
     },
     "execution_count": 30,
     "metadata": {},
     "output_type": "execute_result"
    }
   ],
   "source": [
    "#Q9\n",
    "Co500['proba_quantile_parent']=list_prob\n",
    "print(Co500.info())\n",
    "#Co500= Co500.drop('log_gdpppp', axis=1) \n",
    "Co500.to_csv('M3_final_Co500.csv')\n",
    "Co500.head()\n"
   ]
  },
  {
   "cell_type": "code",
   "execution_count": null,
   "id": "1913ce29",
   "metadata": {},
   "outputs": [],
   "source": [
    "#Q10: remove the quantile_child (c_i_child) for further use in M4\n",
    "Co500_2= Co500.drop(columns= ['quantile_child'])\n",
    "Co500_2.to_csv('M3_final_Co500_2_droped.csv')"
   ]
  },
  {
   "cell_type": "markdown",
   "id": "722bfd9e",
   "metadata": {},
   "source": [
    "<font color=\"1E1EE9\"> \n",
    "    approach retrospective: \n",
    "     we know the c_i_child (quantile) and income of child , retrospect to find out the c_i_parent (the revenue classes of their parents) via functions of cd </font>"
   ]
  },
  {
   "cell_type": "markdown",
   "id": "12b211f2",
   "metadata": {},
   "source": [
    "\n",
    "\n",
    "## M4.1\n",
    "Appliquez une **ANOVA** sur vos données, en n’incluant comme variable explicative que **le pays** de l’individu. et Analysez la performance du modèle."
   ]
  },
  {
   "cell_type": "code",
   "execution_count": 49,
   "id": "ae8a37a7",
   "metadata": {},
   "outputs": [],
   "source": [
    "import statsmodels.api as sm\n",
    "from statsmodels.formula.api import ols\n",
    "import statsmodels.formula.api as smf\n",
    "import statsmodels.stats.api as sms\n",
    "from scipy import stats"
   ]
  },
  {
   "cell_type": "code",
   "execution_count": null,
   "id": "bb84ae37",
   "metadata": {},
   "outputs": [],
   "source": [
    "#Co500_2['log_gdpppp']=np.log(Co500_2['gdpppp'])  \n",
    "#Co500_2.head()"
   ]
  },
  {
   "cell_type": "code",
   "execution_count": null,
   "id": "084195cc",
   "metadata": {},
   "outputs": [],
   "source": [
    "#Co500['log_gdpppp']=np.log(Co500['gdpppp'])        # log of natural number \n",
    "Co500.head()"
   ]
  },
  {
   "cell_type": "markdown",
   "id": "65213abb",
   "metadata": {},
   "source": [
    "<font color=\"#342EF3\"> \n",
    "*Why logarithm and why natural logarithm?*\n",
    "    \n",
    "Logarithm is the inverse of exponential , that means it's able to transform exponential series into additional series. This makes the calculus easier when it refers to complex situation with multiple variables. \n",
    "\n",
    "Natural logarithm is the logarithm to the base of the mathematical constant e, which is approximately 2.718281. Apart from natural log, we can also use log on the base of 10. But natural log is more commonly used in practice. </font>"
   ]
  },
  {
   "cell_type": "code",
   "execution_count": 32,
   "id": "66b2f925",
   "metadata": {},
   "outputs": [
    {
     "data": {
      "text/html": [
       "<div>\n",
       "<style scoped>\n",
       "    .dataframe tbody tr th:only-of-type {\n",
       "        vertical-align: middle;\n",
       "    }\n",
       "\n",
       "    .dataframe tbody tr th {\n",
       "        vertical-align: top;\n",
       "    }\n",
       "\n",
       "    .dataframe thead th {\n",
       "        text-align: right;\n",
       "    }\n",
       "</style>\n",
       "<table border=\"1\" class=\"dataframe\">\n",
       "  <thead>\n",
       "    <tr style=\"text-align: right;\">\n",
       "      <th></th>\n",
       "      <th>country</th>\n",
       "      <th>quantile_child</th>\n",
       "      <th>gini</th>\n",
       "      <th>IGEincome</th>\n",
       "      <th>nb_quantiles</th>\n",
       "      <th>income</th>\n",
       "      <th>gdpppp</th>\n",
       "      <th>proba_quantile_parent</th>\n",
       "    </tr>\n",
       "  </thead>\n",
       "  <tbody>\n",
       "    <tr>\n",
       "      <th>0</th>\n",
       "      <td>ALB</td>\n",
       "      <td>1</td>\n",
       "      <td>31.408889</td>\n",
       "      <td>0.815875</td>\n",
       "      <td>100.0</td>\n",
       "      <td>728.89795</td>\n",
       "      <td>7297.0</td>\n",
       "      <td>9.276</td>\n",
       "    </tr>\n",
       "    <tr>\n",
       "      <th>1</th>\n",
       "      <td>ALB</td>\n",
       "      <td>2</td>\n",
       "      <td>31.408889</td>\n",
       "      <td>0.815875</td>\n",
       "      <td>100.0</td>\n",
       "      <td>916.66235</td>\n",
       "      <td>7297.0</td>\n",
       "      <td>13.972</td>\n",
       "    </tr>\n",
       "    <tr>\n",
       "      <th>2</th>\n",
       "      <td>ALB</td>\n",
       "      <td>3</td>\n",
       "      <td>31.408889</td>\n",
       "      <td>0.815875</td>\n",
       "      <td>100.0</td>\n",
       "      <td>1010.91600</td>\n",
       "      <td>7297.0</td>\n",
       "      <td>16.064</td>\n",
       "    </tr>\n",
       "    <tr>\n",
       "      <th>3</th>\n",
       "      <td>ALB</td>\n",
       "      <td>4</td>\n",
       "      <td>31.408889</td>\n",
       "      <td>0.815875</td>\n",
       "      <td>100.0</td>\n",
       "      <td>1086.90780</td>\n",
       "      <td>7297.0</td>\n",
       "      <td>18.616</td>\n",
       "    </tr>\n",
       "    <tr>\n",
       "      <th>4</th>\n",
       "      <td>ALB</td>\n",
       "      <td>5</td>\n",
       "      <td>31.408889</td>\n",
       "      <td>0.815875</td>\n",
       "      <td>100.0</td>\n",
       "      <td>1132.69970</td>\n",
       "      <td>7297.0</td>\n",
       "      <td>19.760</td>\n",
       "    </tr>\n",
       "  </tbody>\n",
       "</table>\n",
       "</div>"
      ],
      "text/plain": [
       "  country  quantile_child       gini  IGEincome  nb_quantiles      income  \\\n",
       "0     ALB               1  31.408889   0.815875         100.0   728.89795   \n",
       "1     ALB               2  31.408889   0.815875         100.0   916.66235   \n",
       "2     ALB               3  31.408889   0.815875         100.0  1010.91600   \n",
       "3     ALB               4  31.408889   0.815875         100.0  1086.90780   \n",
       "4     ALB               5  31.408889   0.815875         100.0  1132.69970   \n",
       "\n",
       "   gdpppp  proba_quantile_parent  \n",
       "0  7297.0                  9.276  \n",
       "1  7297.0                 13.972  \n",
       "2  7297.0                 16.064  \n",
       "3  7297.0                 18.616  \n",
       "4  7297.0                 19.760  "
      ]
     },
     "execution_count": 32,
     "metadata": {},
     "output_type": "execute_result"
    }
   ],
   "source": [
    "Q1_ANOVA=Co500.groupby(['country','quantile_child']).mean().reset_index()\n",
    "Q1_ANOVA.head()\n",
    "\n",
    "                                                                                                                                                # income représente revenu enfants"
   ]
  },
  {
   "cell_type": "markdown",
   "id": "138f76b2",
   "metadata": {},
   "source": [
    "## ANOVA (analysis of variance) \n",
    "\n",
    "On teste la variable pays de l'individu [country] sur le revenu [income] \n",
    "\n",
    "Dans notre cas, c'est un One-way ANOVA car il n'y a qu'une seule variable explicative. "
   ]
  },
  {
   "cell_type": "markdown",
   "id": "b9c5ca2f",
   "metadata": {},
   "source": [
    "\n",
    "R2 is the percentage of variation in the response that is explained by the model. The higher the R2 value, the better the model fits your data. R2 is always between 0% and 100%."
   ]
  },
  {
   "cell_type": "code",
   "execution_count": 33,
   "id": "7207876c",
   "metadata": {},
   "outputs": [
    {
     "data": {
      "text/html": [
       "<table class=\"simpletable\">\n",
       "<caption>OLS Regression Results</caption>\n",
       "<tr>\n",
       "  <th>Dep. Variable:</th>         <td>income</td>      <th>  R-squared:         </th> <td>   0.456</td> \n",
       "</tr>\n",
       "<tr>\n",
       "  <th>Model:</th>                   <td>OLS</td>       <th>  Adj. R-squared:    </th> <td>   0.451</td> \n",
       "</tr>\n",
       "<tr>\n",
       "  <th>Method:</th>             <td>Least Squares</td>  <th>  F-statistic:       </th> <td>   84.42</td> \n",
       "</tr>\n",
       "<tr>\n",
       "  <th>Date:</th>             <td>Fri, 11 Mar 2022</td> <th>  Prob (F-statistic):</th>  <td>  0.00</td>  \n",
       "</tr>\n",
       "<tr>\n",
       "  <th>Time:</th>                 <td>21:36:52</td>     <th>  Log-Likelihood:    </th> <td> -65714.</td> \n",
       "</tr>\n",
       "<tr>\n",
       "  <th>No. Observations:</th>      <td>  6300</td>      <th>  AIC:               </th> <td>1.316e+05</td>\n",
       "</tr>\n",
       "<tr>\n",
       "  <th>Df Residuals:</th>          <td>  6237</td>      <th>  BIC:               </th> <td>1.320e+05</td>\n",
       "</tr>\n",
       "<tr>\n",
       "  <th>Df Model:</th>              <td>    62</td>      <th>                     </th>     <td> </td>    \n",
       "</tr>\n",
       "<tr>\n",
       "  <th>Covariance Type:</th>      <td>nonrobust</td>    <th>                     </th>     <td> </td>    \n",
       "</tr>\n",
       "</table>\n",
       "<table class=\"simpletable\">\n",
       "<tr>\n",
       "         <td></td>           <th>coef</th>     <th>std err</th>      <th>t</th>      <th>P>|t|</th>  <th>[0.025</th>    <th>0.975]</th>  \n",
       "</tr>\n",
       "<tr>\n",
       "  <th>Intercept</th>      <td> 2994.8299</td> <td>  824.141</td> <td>    3.634</td> <td> 0.000</td> <td> 1379.229</td> <td> 4610.431</td>\n",
       "</tr>\n",
       "<tr>\n",
       "  <th>country[T.AUT]</th> <td> 1.364e+04</td> <td> 1165.512</td> <td>   11.705</td> <td> 0.000</td> <td> 1.14e+04</td> <td> 1.59e+04</td>\n",
       "</tr>\n",
       "<tr>\n",
       "  <th>country[T.BEL]</th> <td> 1.203e+04</td> <td> 1165.512</td> <td>   10.321</td> <td> 0.000</td> <td> 9744.979</td> <td> 1.43e+04</td>\n",
       "</tr>\n",
       "<tr>\n",
       "  <th>country[T.BGD]</th> <td>-1996.1375</td> <td> 1165.512</td> <td>   -1.713</td> <td> 0.087</td> <td>-4280.942</td> <td>  288.667</td>\n",
       "</tr>\n",
       "<tr>\n",
       "  <th>country[T.BIH]</th> <td> 3339.8574</td> <td> 1165.512</td> <td>    2.866</td> <td> 0.004</td> <td> 1055.052</td> <td> 5624.662</td>\n",
       "</tr>\n",
       "<tr>\n",
       "  <th>country[T.BLR]</th> <td>  926.3336</td> <td> 1165.512</td> <td>    0.795</td> <td> 0.427</td> <td>-1358.471</td> <td> 3211.139</td>\n",
       "</tr>\n",
       "<tr>\n",
       "  <th>country[T.BOL]</th> <td>   21.4339</td> <td> 1165.512</td> <td>    0.018</td> <td> 0.985</td> <td>-2263.371</td> <td> 2306.239</td>\n",
       "</tr>\n",
       "<tr>\n",
       "  <th>country[T.BRA]</th> <td> 1812.6547</td> <td> 1165.512</td> <td>    1.555</td> <td> 0.120</td> <td> -472.150</td> <td> 4097.460</td>\n",
       "</tr>\n",
       "<tr>\n",
       "  <th>country[T.CAN]</th> <td> 2.074e+04</td> <td> 1165.512</td> <td>   17.799</td> <td> 0.000</td> <td> 1.85e+04</td> <td>  2.3e+04</td>\n",
       "</tr>\n",
       "<tr>\n",
       "  <th>country[T.CHL]</th> <td> 4056.7801</td> <td> 1165.512</td> <td>    3.481</td> <td> 0.001</td> <td> 1771.975</td> <td> 6341.585</td>\n",
       "</tr>\n",
       "<tr>\n",
       "  <th>country[T.CHN]</th> <td> -472.0712</td> <td> 1165.512</td> <td>   -0.405</td> <td> 0.685</td> <td>-2756.876</td> <td> 1812.734</td>\n",
       "</tr>\n",
       "<tr>\n",
       "  <th>country[T.COL]</th> <td>  552.1754</td> <td> 1165.512</td> <td>    0.474</td> <td> 0.636</td> <td>-1732.630</td> <td> 2836.980</td>\n",
       "</tr>\n",
       "<tr>\n",
       "  <th>country[T.CYP]</th> <td> 1.435e+04</td> <td> 1165.512</td> <td>   12.313</td> <td> 0.000</td> <td> 1.21e+04</td> <td> 1.66e+04</td>\n",
       "</tr>\n",
       "<tr>\n",
       "  <th>country[T.CZE]</th> <td> 5240.4635</td> <td> 1165.512</td> <td>    4.496</td> <td> 0.000</td> <td> 2955.659</td> <td> 7525.268</td>\n",
       "</tr>\n",
       "<tr>\n",
       "  <th>country[T.DEU]</th> <td> 1.507e+04</td> <td> 1165.512</td> <td>   12.927</td> <td> 0.000</td> <td> 1.28e+04</td> <td> 1.74e+04</td>\n",
       "</tr>\n",
       "<tr>\n",
       "  <th>country[T.DNK]</th> <td> 1.405e+04</td> <td> 1165.512</td> <td>   12.053</td> <td> 0.000</td> <td> 1.18e+04</td> <td> 1.63e+04</td>\n",
       "</tr>\n",
       "<tr>\n",
       "  <th>country[T.ECU]</th> <td>  388.9111</td> <td> 1165.512</td> <td>    0.334</td> <td> 0.739</td> <td>-1895.894</td> <td> 2673.716</td>\n",
       "</tr>\n",
       "<tr>\n",
       "  <th>country[T.EGY]</th> <td>-1025.2525</td> <td> 1165.512</td> <td>   -0.880</td> <td> 0.379</td> <td>-3310.057</td> <td> 1259.552</td>\n",
       "</tr>\n",
       "<tr>\n",
       "  <th>country[T.ESP]</th> <td> 1.012e+04</td> <td> 1165.512</td> <td>    8.685</td> <td> 0.000</td> <td> 7837.358</td> <td> 1.24e+04</td>\n",
       "</tr>\n",
       "<tr>\n",
       "  <th>country[T.FIN]</th> <td> 1.331e+04</td> <td> 1165.512</td> <td>   11.421</td> <td> 0.000</td> <td>  1.1e+04</td> <td> 1.56e+04</td>\n",
       "</tr>\n",
       "<tr>\n",
       "  <th>country[T.FRA]</th> <td> 1.531e+04</td> <td> 1165.512</td> <td>   13.140</td> <td> 0.000</td> <td>  1.3e+04</td> <td> 1.76e+04</td>\n",
       "</tr>\n",
       "<tr>\n",
       "  <th>country[T.GBR]</th> <td> 1.871e+04</td> <td> 1165.512</td> <td>   16.057</td> <td> 0.000</td> <td> 1.64e+04</td> <td>  2.1e+04</td>\n",
       "</tr>\n",
       "<tr>\n",
       "  <th>country[T.GHA]</th> <td>-2258.2274</td> <td> 1165.512</td> <td>   -1.938</td> <td> 0.053</td> <td>-4543.032</td> <td>   26.578</td>\n",
       "</tr>\n",
       "<tr>\n",
       "  <th>country[T.GIN]</th> <td>-2298.8179</td> <td> 1165.512</td> <td>   -1.972</td> <td> 0.049</td> <td>-4583.623</td> <td>  -14.013</td>\n",
       "</tr>\n",
       "<tr>\n",
       "  <th>country[T.GRC]</th> <td> 8732.4444</td> <td> 1165.512</td> <td>    7.492</td> <td> 0.000</td> <td> 6447.639</td> <td>  1.1e+04</td>\n",
       "</tr>\n",
       "<tr>\n",
       "  <th>country[T.GTM]</th> <td> -852.3551</td> <td> 1165.512</td> <td>   -0.731</td> <td> 0.465</td> <td>-3137.160</td> <td> 1432.450</td>\n",
       "</tr>\n",
       "<tr>\n",
       "  <th>country[T.HRV]</th> <td> 4721.6359</td> <td> 1165.512</td> <td>    4.051</td> <td> 0.000</td> <td> 2436.831</td> <td> 7006.441</td>\n",
       "</tr>\n",
       "<tr>\n",
       "  <th>country[T.IND]</th> <td>-2070.5604</td> <td> 1165.512</td> <td>   -1.777</td> <td> 0.076</td> <td>-4355.365</td> <td>  214.244</td>\n",
       "</tr>\n",
       "<tr>\n",
       "  <th>country[T.IRL]</th> <td> 1.472e+04</td> <td> 1165.512</td> <td>   12.626</td> <td> 0.000</td> <td> 1.24e+04</td> <td>  1.7e+04</td>\n",
       "</tr>\n",
       "<tr>\n",
       "  <th>country[T.ITA]</th> <td> 1.193e+04</td> <td> 1165.512</td> <td>   10.236</td> <td> 0.000</td> <td> 9645.580</td> <td> 1.42e+04</td>\n",
       "</tr>\n",
       "<tr>\n",
       "  <th>country[T.JOR]</th> <td>   53.8011</td> <td> 1165.512</td> <td>    0.046</td> <td> 0.963</td> <td>-2231.004</td> <td> 2338.606</td>\n",
       "</tr>\n",
       "<tr>\n",
       "  <th>country[T.JPN]</th> <td> 1.444e+04</td> <td> 1165.512</td> <td>   12.388</td> <td> 0.000</td> <td> 1.22e+04</td> <td> 1.67e+04</td>\n",
       "</tr>\n",
       "<tr>\n",
       "  <th>country[T.KAZ]</th> <td> -755.6801</td> <td> 1165.512</td> <td>   -0.648</td> <td> 0.517</td> <td>-3040.485</td> <td> 1529.125</td>\n",
       "</tr>\n",
       "<tr>\n",
       "  <th>country[T.KEN]</th> <td>-2475.5099</td> <td> 1165.512</td> <td>   -2.124</td> <td> 0.034</td> <td>-4760.315</td> <td> -190.705</td>\n",
       "</tr>\n",
       "<tr>\n",
       "  <th>country[T.KGZ]</th> <td>-1221.6107</td> <td> 1165.512</td> <td>   -1.048</td> <td> 0.295</td> <td>-3506.416</td> <td> 1063.194</td>\n",
       "</tr>\n",
       "<tr>\n",
       "  <th>country[T.KOR]</th> <td> 1.223e+04</td> <td> 1165.512</td> <td>   10.496</td> <td> 0.000</td> <td> 9947.935</td> <td> 1.45e+04</td>\n",
       "</tr>\n",
       "<tr>\n",
       "  <th>country[T.LUX]</th> <td> 2.222e+04</td> <td> 1165.512</td> <td>   19.067</td> <td> 0.000</td> <td> 1.99e+04</td> <td> 2.45e+04</td>\n",
       "</tr>\n",
       "<tr>\n",
       "  <th>country[T.LVA]</th> <td> 3769.6447</td> <td> 1165.512</td> <td>    3.234</td> <td> 0.001</td> <td> 1484.840</td> <td> 6054.450</td>\n",
       "</tr>\n",
       "<tr>\n",
       "  <th>country[T.MAR]</th> <td> -657.2293</td> <td> 1165.512</td> <td>   -0.564</td> <td> 0.573</td> <td>-2942.034</td> <td> 1627.576</td>\n",
       "</tr>\n",
       "<tr>\n",
       "  <th>country[T.MDG]</th> <td>-2649.5928</td> <td> 1165.512</td> <td>   -2.273</td> <td> 0.023</td> <td>-4934.398</td> <td> -364.788</td>\n",
       "</tr>\n",
       "<tr>\n",
       "  <th>country[T.MKD]</th> <td> 1604.5664</td> <td> 1165.512</td> <td>    1.377</td> <td> 0.169</td> <td> -680.239</td> <td> 3889.371</td>\n",
       "</tr>\n",
       "<tr>\n",
       "  <th>country[T.MLI]</th> <td>-2313.7549</td> <td> 1165.512</td> <td>   -1.985</td> <td> 0.047</td> <td>-4598.560</td> <td>  -28.950</td>\n",
       "</tr>\n",
       "<tr>\n",
       "  <th>country[T.MNG]</th> <td> -656.7425</td> <td> 1165.512</td> <td>   -0.563</td> <td> 0.573</td> <td>-2941.547</td> <td> 1628.062</td>\n",
       "</tr>\n",
       "<tr>\n",
       "  <th>country[T.MWI]</th> <td>-2080.5645</td> <td> 1165.512</td> <td>   -1.785</td> <td> 0.074</td> <td>-4365.369</td> <td>  204.240</td>\n",
       "</tr>\n",
       "<tr>\n",
       "  <th>country[T.MYS]</th> <td> 3011.5125</td> <td> 1165.512</td> <td>    2.584</td> <td> 0.010</td> <td>  726.708</td> <td> 5296.317</td>\n",
       "</tr>\n",
       "<tr>\n",
       "  <th>country[T.NGA]</th> <td>-2302.9745</td> <td> 1165.512</td> <td>   -1.976</td> <td> 0.048</td> <td>-4587.779</td> <td>  -18.170</td>\n",
       "</tr>\n",
       "<tr>\n",
       "  <th>country[T.NLD]</th> <td> 1.473e+04</td> <td> 1165.512</td> <td>   12.641</td> <td> 0.000</td> <td> 1.24e+04</td> <td>  1.7e+04</td>\n",
       "</tr>\n",
       "<tr>\n",
       "  <th>country[T.NOR]</th> <td> 1.949e+04</td> <td> 1165.512</td> <td>   16.721</td> <td> 0.000</td> <td> 1.72e+04</td> <td> 2.18e+04</td>\n",
       "</tr>\n",
       "<tr>\n",
       "  <th>country[T.NPL]</th> <td>-2080.4383</td> <td> 1165.512</td> <td>   -1.785</td> <td> 0.074</td> <td>-4365.243</td> <td>  204.367</td>\n",
       "</tr>\n",
       "<tr>\n",
       "  <th>country[T.PAK]</th> <td>-2106.9906</td> <td> 1165.512</td> <td>   -1.808</td> <td> 0.071</td> <td>-4391.796</td> <td>  177.814</td>\n",
       "</tr>\n",
       "<tr>\n",
       "  <th>country[T.PAN]</th> <td> 2140.3095</td> <td> 1165.512</td> <td>    1.836</td> <td> 0.066</td> <td> -144.495</td> <td> 4425.114</td>\n",
       "</tr>\n",
       "<tr>\n",
       "  <th>country[T.PER]</th> <td>  335.7034</td> <td> 1165.512</td> <td>    0.288</td> <td> 0.773</td> <td>-1949.101</td> <td> 2620.508</td>\n",
       "</tr>\n",
       "<tr>\n",
       "  <th>country[T.PRT]</th> <td> 7103.8455</td> <td> 1165.512</td> <td>    6.095</td> <td> 0.000</td> <td> 4819.041</td> <td> 9388.650</td>\n",
       "</tr>\n",
       "<tr>\n",
       "  <th>country[T.RUS]</th> <td> 4161.9408</td> <td> 1165.512</td> <td>    3.571</td> <td> 0.000</td> <td> 1877.136</td> <td> 6446.746</td>\n",
       "</tr>\n",
       "<tr>\n",
       "  <th>country[T.SVK]</th> <td> 3101.7500</td> <td> 1165.512</td> <td>    2.661</td> <td> 0.008</td> <td>  816.945</td> <td> 5386.555</td>\n",
       "</tr>\n",
       "<tr>\n",
       "  <th>country[T.SVN]</th> <td> 9111.1776</td> <td> 1165.512</td> <td>    7.817</td> <td> 0.000</td> <td> 6826.373</td> <td> 1.14e+04</td>\n",
       "</tr>\n",
       "<tr>\n",
       "  <th>country[T.SWE]</th> <td> 1.319e+04</td> <td> 1165.512</td> <td>   11.316</td> <td> 0.000</td> <td> 1.09e+04</td> <td> 1.55e+04</td>\n",
       "</tr>\n",
       "<tr>\n",
       "  <th>country[T.TWN]</th> <td> 1.351e+04</td> <td> 1165.512</td> <td>   11.588</td> <td> 0.000</td> <td> 1.12e+04</td> <td> 1.58e+04</td>\n",
       "</tr>\n",
       "<tr>\n",
       "  <th>country[T.TZA]</th> <td>-2406.0629</td> <td> 1165.512</td> <td>   -2.064</td> <td> 0.039</td> <td>-4690.868</td> <td> -121.258</td>\n",
       "</tr>\n",
       "<tr>\n",
       "  <th>country[T.UGA]</th> <td>-2007.6236</td> <td> 1165.512</td> <td>   -1.723</td> <td> 0.085</td> <td>-4292.429</td> <td>  277.181</td>\n",
       "</tr>\n",
       "<tr>\n",
       "  <th>country[T.USA]</th> <td> 2.251e+04</td> <td> 1165.512</td> <td>   19.312</td> <td> 0.000</td> <td> 2.02e+04</td> <td> 2.48e+04</td>\n",
       "</tr>\n",
       "<tr>\n",
       "  <th>country[T.VNM]</th> <td>-1617.0559</td> <td> 1165.512</td> <td>   -1.387</td> <td> 0.165</td> <td>-3901.861</td> <td>  667.749</td>\n",
       "</tr>\n",
       "<tr>\n",
       "  <th>country[T.ZAF]</th> <td> 2623.0750</td> <td> 1165.512</td> <td>    2.251</td> <td> 0.024</td> <td>  338.270</td> <td> 4907.880</td>\n",
       "</tr>\n",
       "</table>\n",
       "<table class=\"simpletable\">\n",
       "<tr>\n",
       "  <th>Omnibus:</th>       <td>7040.441</td> <th>  Durbin-Watson:     </th>  <td>   0.666</td> \n",
       "</tr>\n",
       "<tr>\n",
       "  <th>Prob(Omnibus):</th>  <td> 0.000</td>  <th>  Jarque-Bera (JB):  </th> <td>999879.108</td>\n",
       "</tr>\n",
       "<tr>\n",
       "  <th>Skew:</th>           <td> 5.574</td>  <th>  Prob(JB):          </th>  <td>    0.00</td> \n",
       "</tr>\n",
       "<tr>\n",
       "  <th>Kurtosis:</th>       <td>63.703</td>  <th>  Cond. No.          </th>  <td>    64.0</td> \n",
       "</tr>\n",
       "</table><br/><br/>Notes:<br/>[1] Standard Errors assume that the covariance matrix of the errors is correctly specified."
      ],
      "text/plain": [
       "<class 'statsmodels.iolib.summary.Summary'>\n",
       "\"\"\"\n",
       "                            OLS Regression Results                            \n",
       "==============================================================================\n",
       "Dep. Variable:                 income   R-squared:                       0.456\n",
       "Model:                            OLS   Adj. R-squared:                  0.451\n",
       "Method:                 Least Squares   F-statistic:                     84.42\n",
       "Date:                Fri, 11 Mar 2022   Prob (F-statistic):               0.00\n",
       "Time:                        21:36:52   Log-Likelihood:                -65714.\n",
       "No. Observations:                6300   AIC:                         1.316e+05\n",
       "Df Residuals:                    6237   BIC:                         1.320e+05\n",
       "Df Model:                          62                                         \n",
       "Covariance Type:            nonrobust                                         \n",
       "==================================================================================\n",
       "                     coef    std err          t      P>|t|      [0.025      0.975]\n",
       "----------------------------------------------------------------------------------\n",
       "Intercept       2994.8299    824.141      3.634      0.000    1379.229    4610.431\n",
       "country[T.AUT]  1.364e+04   1165.512     11.705      0.000    1.14e+04    1.59e+04\n",
       "country[T.BEL]  1.203e+04   1165.512     10.321      0.000    9744.979    1.43e+04\n",
       "country[T.BGD] -1996.1375   1165.512     -1.713      0.087   -4280.942     288.667\n",
       "country[T.BIH]  3339.8574   1165.512      2.866      0.004    1055.052    5624.662\n",
       "country[T.BLR]   926.3336   1165.512      0.795      0.427   -1358.471    3211.139\n",
       "country[T.BOL]    21.4339   1165.512      0.018      0.985   -2263.371    2306.239\n",
       "country[T.BRA]  1812.6547   1165.512      1.555      0.120    -472.150    4097.460\n",
       "country[T.CAN]  2.074e+04   1165.512     17.799      0.000    1.85e+04     2.3e+04\n",
       "country[T.CHL]  4056.7801   1165.512      3.481      0.001    1771.975    6341.585\n",
       "country[T.CHN]  -472.0712   1165.512     -0.405      0.685   -2756.876    1812.734\n",
       "country[T.COL]   552.1754   1165.512      0.474      0.636   -1732.630    2836.980\n",
       "country[T.CYP]  1.435e+04   1165.512     12.313      0.000    1.21e+04    1.66e+04\n",
       "country[T.CZE]  5240.4635   1165.512      4.496      0.000    2955.659    7525.268\n",
       "country[T.DEU]  1.507e+04   1165.512     12.927      0.000    1.28e+04    1.74e+04\n",
       "country[T.DNK]  1.405e+04   1165.512     12.053      0.000    1.18e+04    1.63e+04\n",
       "country[T.ECU]   388.9111   1165.512      0.334      0.739   -1895.894    2673.716\n",
       "country[T.EGY] -1025.2525   1165.512     -0.880      0.379   -3310.057    1259.552\n",
       "country[T.ESP]  1.012e+04   1165.512      8.685      0.000    7837.358    1.24e+04\n",
       "country[T.FIN]  1.331e+04   1165.512     11.421      0.000     1.1e+04    1.56e+04\n",
       "country[T.FRA]  1.531e+04   1165.512     13.140      0.000     1.3e+04    1.76e+04\n",
       "country[T.GBR]  1.871e+04   1165.512     16.057      0.000    1.64e+04     2.1e+04\n",
       "country[T.GHA] -2258.2274   1165.512     -1.938      0.053   -4543.032      26.578\n",
       "country[T.GIN] -2298.8179   1165.512     -1.972      0.049   -4583.623     -14.013\n",
       "country[T.GRC]  8732.4444   1165.512      7.492      0.000    6447.639     1.1e+04\n",
       "country[T.GTM]  -852.3551   1165.512     -0.731      0.465   -3137.160    1432.450\n",
       "country[T.HRV]  4721.6359   1165.512      4.051      0.000    2436.831    7006.441\n",
       "country[T.IND] -2070.5604   1165.512     -1.777      0.076   -4355.365     214.244\n",
       "country[T.IRL]  1.472e+04   1165.512     12.626      0.000    1.24e+04     1.7e+04\n",
       "country[T.ITA]  1.193e+04   1165.512     10.236      0.000    9645.580    1.42e+04\n",
       "country[T.JOR]    53.8011   1165.512      0.046      0.963   -2231.004    2338.606\n",
       "country[T.JPN]  1.444e+04   1165.512     12.388      0.000    1.22e+04    1.67e+04\n",
       "country[T.KAZ]  -755.6801   1165.512     -0.648      0.517   -3040.485    1529.125\n",
       "country[T.KEN] -2475.5099   1165.512     -2.124      0.034   -4760.315    -190.705\n",
       "country[T.KGZ] -1221.6107   1165.512     -1.048      0.295   -3506.416    1063.194\n",
       "country[T.KOR]  1.223e+04   1165.512     10.496      0.000    9947.935    1.45e+04\n",
       "country[T.LUX]  2.222e+04   1165.512     19.067      0.000    1.99e+04    2.45e+04\n",
       "country[T.LVA]  3769.6447   1165.512      3.234      0.001    1484.840    6054.450\n",
       "country[T.MAR]  -657.2293   1165.512     -0.564      0.573   -2942.034    1627.576\n",
       "country[T.MDG] -2649.5928   1165.512     -2.273      0.023   -4934.398    -364.788\n",
       "country[T.MKD]  1604.5664   1165.512      1.377      0.169    -680.239    3889.371\n",
       "country[T.MLI] -2313.7549   1165.512     -1.985      0.047   -4598.560     -28.950\n",
       "country[T.MNG]  -656.7425   1165.512     -0.563      0.573   -2941.547    1628.062\n",
       "country[T.MWI] -2080.5645   1165.512     -1.785      0.074   -4365.369     204.240\n",
       "country[T.MYS]  3011.5125   1165.512      2.584      0.010     726.708    5296.317\n",
       "country[T.NGA] -2302.9745   1165.512     -1.976      0.048   -4587.779     -18.170\n",
       "country[T.NLD]  1.473e+04   1165.512     12.641      0.000    1.24e+04     1.7e+04\n",
       "country[T.NOR]  1.949e+04   1165.512     16.721      0.000    1.72e+04    2.18e+04\n",
       "country[T.NPL] -2080.4383   1165.512     -1.785      0.074   -4365.243     204.367\n",
       "country[T.PAK] -2106.9906   1165.512     -1.808      0.071   -4391.796     177.814\n",
       "country[T.PAN]  2140.3095   1165.512      1.836      0.066    -144.495    4425.114\n",
       "country[T.PER]   335.7034   1165.512      0.288      0.773   -1949.101    2620.508\n",
       "country[T.PRT]  7103.8455   1165.512      6.095      0.000    4819.041    9388.650\n",
       "country[T.RUS]  4161.9408   1165.512      3.571      0.000    1877.136    6446.746\n",
       "country[T.SVK]  3101.7500   1165.512      2.661      0.008     816.945    5386.555\n",
       "country[T.SVN]  9111.1776   1165.512      7.817      0.000    6826.373    1.14e+04\n",
       "country[T.SWE]  1.319e+04   1165.512     11.316      0.000    1.09e+04    1.55e+04\n",
       "country[T.TWN]  1.351e+04   1165.512     11.588      0.000    1.12e+04    1.58e+04\n",
       "country[T.TZA] -2406.0629   1165.512     -2.064      0.039   -4690.868    -121.258\n",
       "country[T.UGA] -2007.6236   1165.512     -1.723      0.085   -4292.429     277.181\n",
       "country[T.USA]  2.251e+04   1165.512     19.312      0.000    2.02e+04    2.48e+04\n",
       "country[T.VNM] -1617.0559   1165.512     -1.387      0.165   -3901.861     667.749\n",
       "country[T.ZAF]  2623.0750   1165.512      2.251      0.024     338.270    4907.880\n",
       "==============================================================================\n",
       "Omnibus:                     7040.441   Durbin-Watson:                   0.666\n",
       "Prob(Omnibus):                  0.000   Jarque-Bera (JB):           999879.108\n",
       "Skew:                           5.574   Prob(JB):                         0.00\n",
       "Kurtosis:                      63.703   Cond. No.                         64.0\n",
       "==============================================================================\n",
       "\n",
       "Notes:\n",
       "[1] Standard Errors assume that the covariance matrix of the errors is correctly specified.\n",
       "\"\"\""
      ]
     },
     "execution_count": 33,
     "metadata": {},
     "output_type": "execute_result"
    }
   ],
   "source": [
    "anova_Q1 = ols('income~country', data=Q1_ANOVA).fit()\n",
    "anova_Q1.summary()\n",
    "\n",
    "# why income~country ?  income is the dependent variable Y, country is the X "
   ]
  },
  {
   "cell_type": "markdown",
   "id": "d66a5889",
   "metadata": {},
   "source": [
    "#### H0 pour ce modèle: le pays (country) n'a pas d'impact sur les revenus (income), ctd. les variances de income de ces différents pays sont similaires / qui que ce soit le pays, les vairances de income sont identiques. \n",
    "\n",
    "##### F-stat est petite et La Prob(F-statistic)  - est 0.00, largement inférieure à 5 %. \n",
    "##### On rejette donc l'hypothèse H0 (égalité des variances), il existe de grande diversité en terme de variance de différents pays, donc le pays a de l'impact sur les revenus. \n",
    "\n",
    "-----\n",
    "\n",
    "##### R-squared = 0.45 => la variance expliquée par ce modèle est 45%"
   ]
  },
  {
   "cell_type": "code",
   "execution_count": 34,
   "id": "8593e02d",
   "metadata": {
    "scrolled": true
   },
   "outputs": [
    {
     "data": {
      "text/html": [
       "<div>\n",
       "<style scoped>\n",
       "    .dataframe tbody tr th:only-of-type {\n",
       "        vertical-align: middle;\n",
       "    }\n",
       "\n",
       "    .dataframe tbody tr th {\n",
       "        vertical-align: top;\n",
       "    }\n",
       "\n",
       "    .dataframe thead th {\n",
       "        text-align: right;\n",
       "    }\n",
       "</style>\n",
       "<table border=\"1\" class=\"dataframe\">\n",
       "  <thead>\n",
       "    <tr style=\"text-align: right;\">\n",
       "      <th></th>\n",
       "      <th>sum_sq</th>\n",
       "      <th>df</th>\n",
       "      <th>F</th>\n",
       "      <th>PR(&gt;F)</th>\n",
       "    </tr>\n",
       "  </thead>\n",
       "  <tbody>\n",
       "    <tr>\n",
       "      <th>country</th>\n",
       "      <td>3.554930e+11</td>\n",
       "      <td>62.0</td>\n",
       "      <td>84.418151</td>\n",
       "      <td>0.0</td>\n",
       "    </tr>\n",
       "    <tr>\n",
       "      <th>Residual</th>\n",
       "      <td>4.236227e+11</td>\n",
       "      <td>6237.0</td>\n",
       "      <td>NaN</td>\n",
       "      <td>NaN</td>\n",
       "    </tr>\n",
       "  </tbody>\n",
       "</table>\n",
       "</div>"
      ],
      "text/plain": [
       "                sum_sq      df          F  PR(>F)\n",
       "country   3.554930e+11    62.0  84.418151     0.0\n",
       "Residual  4.236227e+11  6237.0        NaN     NaN"
      ]
     },
     "execution_count": 34,
     "metadata": {},
     "output_type": "execute_result"
    }
   ],
   "source": [
    "analyse_country=sm.stats.anova_lm(anova_Q1, typ=2) \n",
    "analyse_country"
   ]
  },
  {
   "cell_type": "code",
   "execution_count": 35,
   "id": "a60afb97",
   "metadata": {},
   "outputs": [
    {
     "name": "stdout",
     "output_type": "stream",
     "text": [
      "sur les revenus, la variance expliquée par pays est: 45.627751738907044 %\n"
     ]
    }
   ],
   "source": [
    "SCE_country=analyse_country.iloc[0,0]\n",
    "SCR=analyse_country.iloc[1,0]\n",
    "R2_country=SCE_country/(SCE_country+SCR)\n",
    "print('sur les revenus, la variance expliquée par pays est:', R2_country*100, '%')        \n",
    "\n",
    "#the calculation result resonate with the anova_Q1.summary() "
   ]
  },
  {
   "cell_type": "markdown",
   "id": "23b9b2d0",
   "metadata": {},
   "source": [
    "## M4.2  Linear regression - multi variable\n",
    "\n",
    "Régression linéaire avec 3 variables :\n",
    "\n",
    "- le revenu des parents ;\n",
    "- le revenu moyen du pays dans lequel habite le prospect ;\n",
    "- l'indice de Gini calculé sur les revenus des habitants du pays en question\n",
    "\n",
    "Pour chacune des régressions suivantes, vous testerez 2 version : l'une en exprimant **le revenu moyen (mean of income by country)** du pays et **les revenus (parents & enfants) en logarithme (In of incomes)**, l'autre en les laissant tels quels. \n",
    "Vous choisirez la version la plus performante pour répondre aux question.\n",
    "Pour chaque version: \n",
    "\n",
    "Appliquez une **régression linéaire** multi variables sur vos données, en n’incluant comme variables explicatives\n",
    "uniquement **le revenu moyen** du pays de l’individu et l’indice de **Gini** du pays de l’individu. Quel est le pourcentage de variance expliquée par votre modèle ?\n",
    "Selon ce modèle, donnez la décomposition de variance totale expliquée par :\n",
    "- le **pays de naissance (ie. le revenu moyen et l’indice de Gini)**  --- facteur fixe\n",
    "- les autres facteurs non considérés dans le modèle (efforts, chance, etc.) --- facteurs aléatoires\n",
    "\n",
    "- Améliorez le modèle précédent en incluant maintenant la **classe de revenu des parents**/c_i_parent/proba_quantile_parents. Quel est le pourcentage de variance expliquée par ce nouveau modèle ?\n",
    "\n"
   ]
  },
  {
   "cell_type": "markdown",
   "id": "0a6d4576",
   "metadata": {},
   "source": [
    "# Multi-linear regressions\n",
    "## Verification of the assumptions (conditions de validité) for linear regression\n",
    "- il n'existe pas grande colinéarité des variables explicatives  \n",
    "- normalité des résidus  \n",
    "- homosétasticité des résidus: ctd les résidus ont la même variance quel que soit le groupe considéré, ou quelle que soit la valeur de la variable explicative considérée\n"
   ]
  },
  {
   "cell_type": "code",
   "execution_count": 36,
   "id": "8f54a7ae",
   "metadata": {},
   "outputs": [
    {
     "data": {
      "text/html": [
       "<div>\n",
       "<style scoped>\n",
       "    .dataframe tbody tr th:only-of-type {\n",
       "        vertical-align: middle;\n",
       "    }\n",
       "\n",
       "    .dataframe tbody tr th {\n",
       "        vertical-align: top;\n",
       "    }\n",
       "\n",
       "    .dataframe thead th {\n",
       "        text-align: right;\n",
       "    }\n",
       "</style>\n",
       "<table border=\"1\" class=\"dataframe\">\n",
       "  <thead>\n",
       "    <tr style=\"text-align: right;\">\n",
       "      <th></th>\n",
       "      <th>gini</th>\n",
       "      <th>IGEincome</th>\n",
       "      <th>country</th>\n",
       "      <th>quantile_child</th>\n",
       "      <th>nb_quantiles</th>\n",
       "      <th>income</th>\n",
       "      <th>gdpppp</th>\n",
       "      <th>proba_quantile_parent</th>\n",
       "    </tr>\n",
       "  </thead>\n",
       "  <tbody>\n",
       "    <tr>\n",
       "      <th>0</th>\n",
       "      <td>31.408889</td>\n",
       "      <td>0.815874</td>\n",
       "      <td>ALB</td>\n",
       "      <td>1</td>\n",
       "      <td>100</td>\n",
       "      <td>728.89795</td>\n",
       "      <td>7297.0</td>\n",
       "      <td>1</td>\n",
       "    </tr>\n",
       "    <tr>\n",
       "      <th>6300</th>\n",
       "      <td>31.408889</td>\n",
       "      <td>0.815874</td>\n",
       "      <td>ALB</td>\n",
       "      <td>1</td>\n",
       "      <td>100</td>\n",
       "      <td>728.89795</td>\n",
       "      <td>7297.0</td>\n",
       "      <td>1</td>\n",
       "    </tr>\n",
       "    <tr>\n",
       "      <th>12600</th>\n",
       "      <td>31.408889</td>\n",
       "      <td>0.815874</td>\n",
       "      <td>ALB</td>\n",
       "      <td>1</td>\n",
       "      <td>100</td>\n",
       "      <td>728.89795</td>\n",
       "      <td>7297.0</td>\n",
       "      <td>1</td>\n",
       "    </tr>\n",
       "    <tr>\n",
       "      <th>18900</th>\n",
       "      <td>31.408889</td>\n",
       "      <td>0.815874</td>\n",
       "      <td>ALB</td>\n",
       "      <td>1</td>\n",
       "      <td>100</td>\n",
       "      <td>728.89795</td>\n",
       "      <td>7297.0</td>\n",
       "      <td>1</td>\n",
       "    </tr>\n",
       "    <tr>\n",
       "      <th>25200</th>\n",
       "      <td>31.408889</td>\n",
       "      <td>0.815874</td>\n",
       "      <td>ALB</td>\n",
       "      <td>1</td>\n",
       "      <td>100</td>\n",
       "      <td>728.89795</td>\n",
       "      <td>7297.0</td>\n",
       "      <td>1</td>\n",
       "    </tr>\n",
       "  </tbody>\n",
       "</table>\n",
       "</div>"
      ],
      "text/plain": [
       "            gini  IGEincome country  quantile_child  nb_quantiles     income  \\\n",
       "0      31.408889   0.815874     ALB               1           100  728.89795   \n",
       "6300   31.408889   0.815874     ALB               1           100  728.89795   \n",
       "12600  31.408889   0.815874     ALB               1           100  728.89795   \n",
       "18900  31.408889   0.815874     ALB               1           100  728.89795   \n",
       "25200  31.408889   0.815874     ALB               1           100  728.89795   \n",
       "\n",
       "       gdpppp  proba_quantile_parent  \n",
       "0      7297.0                      1  \n",
       "6300   7297.0                      1  \n",
       "12600  7297.0                      1  \n",
       "18900  7297.0                      1  \n",
       "25200  7297.0                      1  "
      ]
     },
     "execution_count": 36,
     "metadata": {},
     "output_type": "execute_result"
    }
   ],
   "source": [
    "Q2 = Co500.copy()\n",
    "Q2.head()"
   ]
  },
  {
   "cell_type": "code",
   "execution_count": 37,
   "id": "7c48ec58",
   "metadata": {},
   "outputs": [
    {
     "data": {
      "image/png": "[encoded data removed]",
      "text/plain": [
       "<Figure size 432x288 with 2 Axes>"
      ]
     },
     "metadata": {
      "needs_background": "light"
     },
     "output_type": "display_data"
    }
   ],
   "source": [
    "# 1. vérifiez la collinéarité des variables explicatives\n",
    "Q2.corr()\n",
    "sns.heatmap(Q2.corr(),linewidths=0.1)\n",
    "plt.savefig('bi_heatmap_colinearity_Q2.png')"
   ]
  },
  {
   "cell_type": "markdown",
   "id": "6f06ad64",
   "metadata": {},
   "source": [
    "Parmi les variables explicatives qu'on va employer [income, gdpppp, gini], on constate qu'il existe la forte colinéarité entre gdpppp et gini, gdpppp et income, ainsi on enlève gdpppp dans ce cas. "
   ]
  },
  {
   "cell_type": "code",
   "execution_count": 38,
   "id": "0e8d076c",
   "metadata": {},
   "outputs": [
    {
     "data": {
      "text/html": [
       "<div>\n",
       "<style scoped>\n",
       "    .dataframe tbody tr th:only-of-type {\n",
       "        vertical-align: middle;\n",
       "    }\n",
       "\n",
       "    .dataframe tbody tr th {\n",
       "        vertical-align: top;\n",
       "    }\n",
       "\n",
       "    .dataframe thead th {\n",
       "        text-align: right;\n",
       "    }\n",
       "</style>\n",
       "<table border=\"1\" class=\"dataframe\">\n",
       "  <thead>\n",
       "    <tr style=\"text-align: right;\">\n",
       "      <th></th>\n",
       "      <th>gini</th>\n",
       "      <th>IGEincome</th>\n",
       "      <th>quantile_child</th>\n",
       "      <th>nb_quantiles</th>\n",
       "      <th>income</th>\n",
       "      <th>proba_quantile_parent</th>\n",
       "    </tr>\n",
       "  </thead>\n",
       "  <tbody>\n",
       "    <tr>\n",
       "      <th>gini</th>\n",
       "      <td>1.000000e+00</td>\n",
       "      <td>6.158294e-01</td>\n",
       "      <td>1.039667e-14</td>\n",
       "      <td>NaN</td>\n",
       "      <td>-0.314331</td>\n",
       "      <td>-1.052292e-14</td>\n",
       "    </tr>\n",
       "    <tr>\n",
       "      <th>IGEincome</th>\n",
       "      <td>6.158294e-01</td>\n",
       "      <td>1.000000e+00</td>\n",
       "      <td>-2.289996e-16</td>\n",
       "      <td>NaN</td>\n",
       "      <td>-0.382558</td>\n",
       "      <td>-1.404345e-15</td>\n",
       "    </tr>\n",
       "    <tr>\n",
       "      <th>quantile_child</th>\n",
       "      <td>1.039667e-14</td>\n",
       "      <td>-2.289996e-16</td>\n",
       "      <td>1.000000e+00</td>\n",
       "      <td>NaN</td>\n",
       "      <td>0.433898</td>\n",
       "      <td>4.182193e-01</td>\n",
       "    </tr>\n",
       "    <tr>\n",
       "      <th>nb_quantiles</th>\n",
       "      <td>NaN</td>\n",
       "      <td>NaN</td>\n",
       "      <td>NaN</td>\n",
       "      <td>NaN</td>\n",
       "      <td>NaN</td>\n",
       "      <td>NaN</td>\n",
       "    </tr>\n",
       "    <tr>\n",
       "      <th>income</th>\n",
       "      <td>-3.143313e-01</td>\n",
       "      <td>-3.825577e-01</td>\n",
       "      <td>4.338985e-01</td>\n",
       "      <td>NaN</td>\n",
       "      <td>1.000000</td>\n",
       "      <td>1.675381e-01</td>\n",
       "    </tr>\n",
       "    <tr>\n",
       "      <th>proba_quantile_parent</th>\n",
       "      <td>-1.052292e-14</td>\n",
       "      <td>-1.404345e-15</td>\n",
       "      <td>4.182193e-01</td>\n",
       "      <td>NaN</td>\n",
       "      <td>0.167538</td>\n",
       "      <td>1.000000e+00</td>\n",
       "    </tr>\n",
       "  </tbody>\n",
       "</table>\n",
       "</div>"
      ],
      "text/plain": [
       "                               gini     IGEincome  quantile_child  \\\n",
       "gini                   1.000000e+00  6.158294e-01    1.039667e-14   \n",
       "IGEincome              6.158294e-01  1.000000e+00   -2.289996e-16   \n",
       "quantile_child         1.039667e-14 -2.289996e-16    1.000000e+00   \n",
       "nb_quantiles                    NaN           NaN             NaN   \n",
       "income                -3.143313e-01 -3.825577e-01    4.338985e-01   \n",
       "proba_quantile_parent -1.052292e-14 -1.404345e-15    4.182193e-01   \n",
       "\n",
       "                       nb_quantiles    income  proba_quantile_parent  \n",
       "gini                            NaN -0.314331          -1.052292e-14  \n",
       "IGEincome                       NaN -0.382558          -1.404345e-15  \n",
       "quantile_child                  NaN  0.433898           4.182193e-01  \n",
       "nb_quantiles                    NaN       NaN                    NaN  \n",
       "income                          NaN  1.000000           1.675381e-01  \n",
       "proba_quantile_parent           NaN  0.167538           1.000000e+00  "
      ]
     },
     "execution_count": 38,
     "metadata": {},
     "output_type": "execute_result"
    }
   ],
   "source": [
    "Q2=Q2.drop('gdpppp',axis=1)\n",
    "Q2.corr()"
   ]
  },
  {
   "cell_type": "code",
   "execution_count": 39,
   "id": "42aa43bf",
   "metadata": {},
   "outputs": [
    {
     "name": "stdout",
     "output_type": "stream",
     "text": [
      "<class 'pandas.core.frame.DataFrame'>\n",
      "RangeIndex: 63 entries, 0 to 62\n",
      "Data columns (total 2 columns):\n",
      " #   Column   Non-Null Count  Dtype  \n",
      "---  ------   --------------  -----  \n",
      " 0   country  63 non-null     object \n",
      " 1   income   63 non-null     float64\n",
      "dtypes: float64(1), object(1)\n",
      "memory usage: 1.1+ KB\n",
      "None\n"
     ]
    },
    {
     "data": {
      "text/html": [
       "<div>\n",
       "<style scoped>\n",
       "    .dataframe tbody tr th:only-of-type {\n",
       "        vertical-align: middle;\n",
       "    }\n",
       "\n",
       "    .dataframe tbody tr th {\n",
       "        vertical-align: top;\n",
       "    }\n",
       "\n",
       "    .dataframe thead th {\n",
       "        text-align: right;\n",
       "    }\n",
       "</style>\n",
       "<table border=\"1\" class=\"dataframe\">\n",
       "  <thead>\n",
       "    <tr style=\"text-align: right;\">\n",
       "      <th></th>\n",
       "      <th>country</th>\n",
       "      <th>income</th>\n",
       "    </tr>\n",
       "  </thead>\n",
       "  <tbody>\n",
       "    <tr>\n",
       "      <th>0</th>\n",
       "      <td>ALB</td>\n",
       "      <td>2994.829902</td>\n",
       "    </tr>\n",
       "    <tr>\n",
       "      <th>1</th>\n",
       "      <td>AUT</td>\n",
       "      <td>16637.600204</td>\n",
       "    </tr>\n",
       "    <tr>\n",
       "      <th>2</th>\n",
       "      <td>BEL</td>\n",
       "      <td>15024.614176</td>\n",
       "    </tr>\n",
       "    <tr>\n",
       "      <th>3</th>\n",
       "      <td>BGD</td>\n",
       "      <td>998.692409</td>\n",
       "    </tr>\n",
       "    <tr>\n",
       "      <th>4</th>\n",
       "      <td>BIH</td>\n",
       "      <td>6334.687311</td>\n",
       "    </tr>\n",
       "  </tbody>\n",
       "</table>\n",
       "</div>"
      ],
      "text/plain": [
       "  country        income\n",
       "0     ALB   2994.829902\n",
       "1     AUT  16637.600204\n",
       "2     BEL  15024.614176\n",
       "3     BGD    998.692409\n",
       "4     BIH   6334.687311"
      ]
     },
     "execution_count": 39,
     "metadata": {},
     "output_type": "execute_result"
    }
   ],
   "source": [
    "income_mean_country = Q2.groupby(['country']).mean().reset_index()[['country','income']]\n",
    "print(income_mean_country.info())\n",
    "income_mean_country.head()\n",
    "\n",
    "# overall mean income for the 100 quantiles as a whole country by country"
   ]
  },
  {
   "cell_type": "code",
   "execution_count": 40,
   "id": "de8c1d6a",
   "metadata": {},
   "outputs": [
    {
     "name": "stdout",
     "output_type": "stream",
     "text": [
      "<class 'pandas.core.frame.DataFrame'>\n",
      "Int64Index: 3150000 entries, 0 to 3149999\n",
      "Data columns (total 8 columns):\n",
      " #   Column                 Dtype  \n",
      "---  ------                 -----  \n",
      " 0   gini                   float64\n",
      " 1   IGEincome              float64\n",
      " 2   country                object \n",
      " 3   quantile_child         int64  \n",
      " 4   nb_quantiles           int64  \n",
      " 5   income_normal          float64\n",
      " 6   proba_quantile_parent  int64  \n",
      " 7   income_mean            float64\n",
      "dtypes: float64(4), int64(3), object(1)\n",
      "memory usage: 216.3+ MB\n",
      "None\n"
     ]
    },
    {
     "data": {
      "text/html": [
       "<div>\n",
       "<style scoped>\n",
       "    .dataframe tbody tr th:only-of-type {\n",
       "        vertical-align: middle;\n",
       "    }\n",
       "\n",
       "    .dataframe tbody tr th {\n",
       "        vertical-align: top;\n",
       "    }\n",
       "\n",
       "    .dataframe thead th {\n",
       "        text-align: right;\n",
       "    }\n",
       "</style>\n",
       "<table border=\"1\" class=\"dataframe\">\n",
       "  <thead>\n",
       "    <tr style=\"text-align: right;\">\n",
       "      <th></th>\n",
       "      <th>gini</th>\n",
       "      <th>IGEincome</th>\n",
       "      <th>country</th>\n",
       "      <th>quantile_child</th>\n",
       "      <th>nb_quantiles</th>\n",
       "      <th>income_normal</th>\n",
       "      <th>proba_quantile_parent</th>\n",
       "      <th>income_mean</th>\n",
       "    </tr>\n",
       "  </thead>\n",
       "  <tbody>\n",
       "    <tr>\n",
       "      <th>0</th>\n",
       "      <td>31.408889</td>\n",
       "      <td>0.815874</td>\n",
       "      <td>ALB</td>\n",
       "      <td>1</td>\n",
       "      <td>100</td>\n",
       "      <td>728.89795</td>\n",
       "      <td>1</td>\n",
       "      <td>2994.829902</td>\n",
       "    </tr>\n",
       "    <tr>\n",
       "      <th>1</th>\n",
       "      <td>31.408889</td>\n",
       "      <td>0.815874</td>\n",
       "      <td>ALB</td>\n",
       "      <td>1</td>\n",
       "      <td>100</td>\n",
       "      <td>728.89795</td>\n",
       "      <td>1</td>\n",
       "      <td>2994.829902</td>\n",
       "    </tr>\n",
       "    <tr>\n",
       "      <th>2</th>\n",
       "      <td>31.408889</td>\n",
       "      <td>0.815874</td>\n",
       "      <td>ALB</td>\n",
       "      <td>1</td>\n",
       "      <td>100</td>\n",
       "      <td>728.89795</td>\n",
       "      <td>1</td>\n",
       "      <td>2994.829902</td>\n",
       "    </tr>\n",
       "    <tr>\n",
       "      <th>3</th>\n",
       "      <td>31.408889</td>\n",
       "      <td>0.815874</td>\n",
       "      <td>ALB</td>\n",
       "      <td>1</td>\n",
       "      <td>100</td>\n",
       "      <td>728.89795</td>\n",
       "      <td>1</td>\n",
       "      <td>2994.829902</td>\n",
       "    </tr>\n",
       "    <tr>\n",
       "      <th>4</th>\n",
       "      <td>31.408889</td>\n",
       "      <td>0.815874</td>\n",
       "      <td>ALB</td>\n",
       "      <td>1</td>\n",
       "      <td>100</td>\n",
       "      <td>728.89795</td>\n",
       "      <td>1</td>\n",
       "      <td>2994.829902</td>\n",
       "    </tr>\n",
       "  </tbody>\n",
       "</table>\n",
       "</div>"
      ],
      "text/plain": [
       "        gini  IGEincome country  quantile_child  nb_quantiles  income_normal  \\\n",
       "0  31.408889   0.815874     ALB               1           100      728.89795   \n",
       "1  31.408889   0.815874     ALB               1           100      728.89795   \n",
       "2  31.408889   0.815874     ALB               1           100      728.89795   \n",
       "3  31.408889   0.815874     ALB               1           100      728.89795   \n",
       "4  31.408889   0.815874     ALB               1           100      728.89795   \n",
       "\n",
       "   proba_quantile_parent  income_mean  \n",
       "0                      1  2994.829902  \n",
       "1                      1  2994.829902  \n",
       "2                      1  2994.829902  \n",
       "3                      1  2994.829902  \n",
       "4                      1  2994.829902  "
      ]
     },
     "execution_count": 40,
     "metadata": {},
     "output_type": "execute_result"
    }
   ],
   "source": [
    "Linear_reg=Q2.merge(income_mean_country, \n",
    "                         left_on=['country'], \n",
    "                         right_on=['country'],\n",
    "                        suffixes=('_normal', '_mean'))\n",
    "\n",
    "print(Linear_reg.info())\n",
    "Linear_reg.head()"
   ]
  },
  {
   "cell_type": "markdown",
   "id": "ab8d1646",
   "metadata": {},
   "source": [
    "## Multi linear regression_2 variables"
   ]
  },
  {
   "cell_type": "code",
   "execution_count": 41,
   "id": "cad7ae7d",
   "metadata": {},
   "outputs": [
    {
     "data": {
      "text/html": [
       "<table class=\"simpletable\">\n",
       "<caption>OLS Regression Results</caption>\n",
       "<tr>\n",
       "  <th>Dep. Variable:</th>      <td>income_normal</td>  <th>  R-squared:         </th>  <td>   0.456</td>  \n",
       "</tr>\n",
       "<tr>\n",
       "  <th>Model:</th>                   <td>OLS</td>       <th>  Adj. R-squared:    </th>  <td>   0.456</td>  \n",
       "</tr>\n",
       "<tr>\n",
       "  <th>Method:</th>             <td>Least Squares</td>  <th>  F-statistic:       </th>  <td>1.322e+06</td> \n",
       "</tr>\n",
       "<tr>\n",
       "  <th>Date:</th>             <td>Fri, 11 Mar 2022</td> <th>  Prob (F-statistic):</th>   <td>  0.00</td>   \n",
       "</tr>\n",
       "<tr>\n",
       "  <th>Time:</th>                 <td>21:37:33</td>     <th>  Log-Likelihood:    </th> <td>-3.2857e+07</td>\n",
       "</tr>\n",
       "<tr>\n",
       "  <th>No. Observations:</th>      <td>3150000</td>     <th>  AIC:               </th>  <td>6.571e+07</td> \n",
       "</tr>\n",
       "<tr>\n",
       "  <th>Df Residuals:</th>          <td>3149997</td>     <th>  BIC:               </th>  <td>6.571e+07</td> \n",
       "</tr>\n",
       "<tr>\n",
       "  <th>Df Model:</th>              <td>     2</td>      <th>                     </th>      <td> </td>     \n",
       "</tr>\n",
       "<tr>\n",
       "  <th>Covariance Type:</th>      <td>nonrobust</td>    <th>                     </th>      <td> </td>     \n",
       "</tr>\n",
       "</table>\n",
       "<table class=\"simpletable\">\n",
       "<tr>\n",
       "       <td></td>          <th>coef</th>     <th>std err</th>      <th>t</th>      <th>P>|t|</th>  <th>[0.025</th>    <th>0.975]</th>  \n",
       "</tr>\n",
       "<tr>\n",
       "  <th>Intercept</th>   <td>-9.976e-09</td> <td>   27.758</td> <td>-3.59e-10</td> <td> 1.000</td> <td>  -54.406</td> <td>   54.406</td>\n",
       "</tr>\n",
       "<tr>\n",
       "  <th>income_mean</th> <td>    1.0000</td> <td>    0.001</td> <td> 1439.091</td> <td> 0.000</td> <td>    0.999</td> <td>    1.001</td>\n",
       "</tr>\n",
       "<tr>\n",
       "  <th>gini</th>        <td> 7.773e-11</td> <td>    0.631</td> <td> 1.23e-10</td> <td> 1.000</td> <td>   -1.237</td> <td>    1.237</td>\n",
       "</tr>\n",
       "</table>\n",
       "<table class=\"simpletable\">\n",
       "<tr>\n",
       "  <th>Omnibus:</th>       <td>3495810.153</td> <th>  Durbin-Watson:     </th>   <td>   0.001</td>   \n",
       "</tr>\n",
       "<tr>\n",
       "  <th>Prob(Omnibus):</th>   <td> 0.000</td>    <th>  Jarque-Bera (JB):  </th> <td>499939554.028</td>\n",
       "</tr>\n",
       "<tr>\n",
       "  <th>Skew:</th>            <td> 5.574</td>    <th>  Prob(JB):          </th>   <td>    0.00</td>   \n",
       "</tr>\n",
       "<tr>\n",
       "  <th>Kurtosis:</th>        <td>63.703</td>    <th>  Cond. No.          </th>   <td>6.75e+04</td>   \n",
       "</tr>\n",
       "</table><br/><br/>Notes:<br/>[1] Standard Errors assume that the covariance matrix of the errors is correctly specified.<br/>[2] The condition number is large, 6.75e+04. This might indicate that there are<br/>strong multicollinearity or other numerical problems."
      ],
      "text/plain": [
       "<class 'statsmodels.iolib.summary.Summary'>\n",
       "\"\"\"\n",
       "                            OLS Regression Results                            \n",
       "==============================================================================\n",
       "Dep. Variable:          income_normal   R-squared:                       0.456\n",
       "Model:                            OLS   Adj. R-squared:                  0.456\n",
       "Method:                 Least Squares   F-statistic:                 1.322e+06\n",
       "Date:                Fri, 11 Mar 2022   Prob (F-statistic):               0.00\n",
       "Time:                        21:37:33   Log-Likelihood:            -3.2857e+07\n",
       "No. Observations:             3150000   AIC:                         6.571e+07\n",
       "Df Residuals:                 3149997   BIC:                         6.571e+07\n",
       "Df Model:                           2                                         \n",
       "Covariance Type:            nonrobust                                         \n",
       "===============================================================================\n",
       "                  coef    std err          t      P>|t|      [0.025      0.975]\n",
       "-------------------------------------------------------------------------------\n",
       "Intercept   -9.976e-09     27.758  -3.59e-10      1.000     -54.406      54.406\n",
       "income_mean     1.0000      0.001   1439.091      0.000       0.999       1.001\n",
       "gini         7.773e-11      0.631   1.23e-10      1.000      -1.237       1.237\n",
       "==============================================================================\n",
       "Omnibus:                  3495810.153   Durbin-Watson:                   0.001\n",
       "Prob(Omnibus):                  0.000   Jarque-Bera (JB):        499939554.028\n",
       "Skew:                           5.574   Prob(JB):                         0.00\n",
       "Kurtosis:                      63.703   Cond. No.                     6.75e+04\n",
       "==============================================================================\n",
       "\n",
       "Notes:\n",
       "[1] Standard Errors assume that the covariance matrix of the errors is correctly specified.\n",
       "[2] The condition number is large, 6.75e+04. This might indicate that there are\n",
       "strong multicollinearity or other numerical problems.\n",
       "\"\"\""
      ]
     },
     "execution_count": 41,
     "metadata": {},
     "output_type": "execute_result"
    }
   ],
   "source": [
    "reg_multi = smf.ols('income_normal~income_mean+gini', data=Linear_reg).fit()\n",
    "reg_multi.summary()\n",
    "\n",
    "# linear reg with multiple explicative variables : 'income_mean+gini' explain income_normal of every quantile"
   ]
  },
  {
   "cell_type": "markdown",
   "id": "426c50f9",
   "metadata": {},
   "source": [
    "##### - P-value of income_mean is 0, thus we reject H0, therefore we conclude that income_mean has impact on income_normal (income quantile by quantile) \n",
    "##### - P-value of gini is 1 (100%), thus we don't reject H0, therefore we conclude that gini has NO impact on income_normal (income quantile by quantile) "
   ]
  },
  {
   "cell_type": "code",
   "execution_count": 42,
   "id": "409b2cce",
   "metadata": {},
   "outputs": [
    {
     "data": {
      "image/png": "[encoded data removed]",
      "text/plain": [
       "<Figure size 432x288 with 1 Axes>"
      ]
     },
     "metadata": {
      "needs_background": "light"
     },
     "output_type": "display_data"
    }
   ],
   "source": [
    "# 1. vérifier la normalité des résidus du model reg_multi \n",
    "\n",
    "stats.probplot(reg_multi.resid, dist=\"norm\", plot= plt)\n",
    "plt.title(\"reg_multi residuals Q-Q Plot\")\n",
    "plt.savefig(\"reg_multi_Residus_qqplot.png\")"
   ]
  },
  {
   "cell_type": "markdown",
   "id": "f910b590",
   "metadata": {},
   "source": [
    "#### Grande superposition de bleue avec ligne rouge => condition normalité est valide. \n",
    "\n",
    "A noter qu'ici on ne stipule pas une normalité au sense stricte des résidus "
   ]
  },
  {
   "cell_type": "code",
   "execution_count": 52,
   "id": "ccc80dbb",
   "metadata": {},
   "outputs": [
    {
     "data": {
      "text/plain": [
       "[('Lagrange multiplier statistic', 81352.84092300001),\n",
       " ('p-value', 0.0),\n",
       " ('f-value', 41754.75243071066),\n",
       " ('f p-value', 0.0)]"
      ]
     },
     "execution_count": 52,
     "metadata": {},
     "output_type": "execute_result"
    }
   ],
   "source": [
    "#2. vérifier homosétasticité des résidus par statsmodels -  reg_multi\n",
    "from statsmodels.compat import lzip\n",
    "import statsmodels\n",
    "\n",
    "name = ['Lagrange multiplier statistic', 'p-value', 'f-value', 'f p-value']\n",
    "\n",
    "test = sms.het_breuschpagan(reg_multi.resid, reg_multi.model.exog)\n",
    "\n",
    "lzip(name, test)"
   ]
  },
  {
   "cell_type": "markdown",
   "id": "742f7b35",
   "metadata": {},
   "source": [
    "#### H0: présence de l'homoscétasticité des résidus\n",
    "#### Lagrange multiplier statistic = 81352 très grand et le correspondant P-value = 0.0, <0.5%, rejet de H0 au niveau de test 0.5%, donc au niveau de test 0.5%, il n'existe pas de l'homoscétasticité (présence de hétéroscétasticité) pour les résidus de ce modèle reg_multi\n"
   ]
  },
  {
   "cell_type": "code",
   "execution_count": 62,
   "id": "89f1f14a",
   "metadata": {},
   "outputs": [
    {
     "name": "stdout",
     "output_type": "stream",
     "text": [
      "389557848791378.1\n"
     ]
    },
    {
     "data": {
      "text/html": [
       "<div>\n",
       "<style scoped>\n",
       "    .dataframe tbody tr th:only-of-type {\n",
       "        vertical-align: middle;\n",
       "    }\n",
       "\n",
       "    .dataframe tbody tr th {\n",
       "        vertical-align: top;\n",
       "    }\n",
       "\n",
       "    .dataframe thead th {\n",
       "        text-align: right;\n",
       "    }\n",
       "</style>\n",
       "<table border=\"1\" class=\"dataframe\">\n",
       "  <thead>\n",
       "    <tr style=\"text-align: right;\">\n",
       "      <th></th>\n",
       "      <th>df</th>\n",
       "      <th>sum_sq</th>\n",
       "      <th>mean_sq</th>\n",
       "      <th>F</th>\n",
       "      <th>PR(&gt;F)</th>\n",
       "    </tr>\n",
       "  </thead>\n",
       "  <tbody>\n",
       "    <tr>\n",
       "      <th>income_mean</th>\n",
       "      <td>1.0</td>\n",
       "      <td>1.777465e+14</td>\n",
       "      <td>1.777465e+14</td>\n",
       "      <td>2.643394e+06</td>\n",
       "      <td>0.0</td>\n",
       "    </tr>\n",
       "    <tr>\n",
       "      <th>gini</th>\n",
       "      <td>1.0</td>\n",
       "      <td>5.456975e-13</td>\n",
       "      <td>5.456975e-13</td>\n",
       "      <td>8.115455e-21</td>\n",
       "      <td>1.0</td>\n",
       "    </tr>\n",
       "    <tr>\n",
       "      <th>Residual</th>\n",
       "      <td>3149997.0</td>\n",
       "      <td>2.118114e+14</td>\n",
       "      <td>6.724177e+07</td>\n",
       "      <td>NaN</td>\n",
       "      <td>NaN</td>\n",
       "    </tr>\n",
       "  </tbody>\n",
       "</table>\n",
       "</div>"
      ],
      "text/plain": [
       "                    df        sum_sq       mean_sq             F  PR(>F)\n",
       "income_mean        1.0  1.777465e+14  1.777465e+14  2.643394e+06     0.0\n",
       "gini               1.0  5.456975e-13  5.456975e-13  8.115455e-21     1.0\n",
       "Residual     3149997.0  2.118114e+14  6.724177e+07           NaN     NaN"
      ]
     },
     "execution_count": 62,
     "metadata": {},
     "output_type": "execute_result"
    }
   ],
   "source": [
    "analyse1=sm.stats.anova_lm(reg_multi, typ=1)\n",
    "print(sum(analyse1['sum_sq']) )                          #SCT\n",
    "analyse1\n",
    "\n",
    "# type 1 suppose that there's interaction effects among independant variables , and the first-order variable is more important than the following variables "
   ]
  },
  {
   "cell_type": "code",
   "execution_count": 63,
   "id": "75a75113",
   "metadata": {},
   "outputs": [
    {
     "name": "stdout",
     "output_type": "stream",
     "text": [
      "La variance expliquée par income_mean (soit le revenu moyen) du pays est 45.63 %\n"
     ]
    }
   ],
   "source": [
    "SCE_income=analyse1.iloc[0,1]                                                 #SCR (Somme des Carrés des Résidus) \n",
    "SCE_gini=analyse1.iloc[1,1]\n",
    "SCR=analyse1.iloc[2,1]                                                                 #SCR (Somme des Carrés Expliquées) \n",
    "\n",
    "R2_income_mean=SCE_income/sum(analyse1['sum_sq'])                # sum(analyse1['sum_sq']) = SCT  = SCE (variance expliquée par toutes les variables du modèle ou seulement par la variable en question) + SCR \n",
    "\n",
    "print(\"La variance expliquée par income_mean (soit le revenu moyen) du pays est\", round(R2_income_mean*100, 2), '%')"
   ]
  },
  {
   "cell_type": "code",
   "execution_count": 64,
   "id": "89546b03",
   "metadata": {},
   "outputs": [
    {
     "name": "stdout",
     "output_type": "stream",
     "text": [
      "La variance expliquée par indice Gini du pays: 0.0 %\n"
     ]
    }
   ],
   "source": [
    "R2_gini=SCE_gini/sum(analyse1['sum_sq']) \n",
    "print('La variance expliquée par indice Gini du pays:', round( R2_gini*100, 2), '%')"
   ]
  },
  {
   "cell_type": "code",
   "execution_count": 65,
   "id": "aeadee31",
   "metadata": {},
   "outputs": [
    {
     "name": "stdout",
     "output_type": "stream",
     "text": [
      "La variance expliquée par les autres facteurs non-considérées dans modèle: 54.37 %\n"
     ]
    }
   ],
   "source": [
    "R2_R=SCR/sum(analyse1['sum_sq'])\n",
    "print('La variance expliquée par les autres facteurs non-considérées dans modèle:', round(R2_R*100, 2), '%')"
   ]
  },
  {
   "cell_type": "code",
   "execution_count": 66,
   "id": "6c40f558",
   "metadata": {},
   "outputs": [
    {
     "data": {
      "text/plain": [
       "0.4562775173896536"
      ]
     },
     "execution_count": 66,
     "metadata": {},
     "output_type": "execute_result"
    }
   ],
   "source": [
    "R2_income_mean + R2_gini\n",
    "\n",
    "#verification ok"
   ]
  },
  {
   "cell_type": "markdown",
   "id": "c24d38a0",
   "metadata": {},
   "source": [
    "\n",
    "    On en conclut que:\n",
    "    la variance expliquée par le revenu moyen est environ 45.6%;   \n",
    "    quasi zéro par indice de Gini; \n",
    "    et par les autres facteurs non-incluses dans ce modèle est 54.4%"
   ]
  },
  {
   "cell_type": "markdown",
   "id": "210c3556",
   "metadata": {},
   "source": [
    "<font color = \"#343EE4\">\n",
    "      - Comment réduire hétéroscédasticité ? \n",
    "      - Ici dans notre cas on peut transformer les variables en logarithme. </font>\n",
    "https://www.statology.org/breusch-pagan-test-python/"
   ]
  },
  {
   "cell_type": "markdown",
   "id": "c52d0ddb",
   "metadata": {},
   "source": [
    "## Multi linear regression_2_log"
   ]
  },
  {
   "cell_type": "code",
   "execution_count": 67,
   "id": "e5080403",
   "metadata": {},
   "outputs": [
    {
     "data": {
      "text/html": [
       "<div>\n",
       "<style scoped>\n",
       "    .dataframe tbody tr th:only-of-type {\n",
       "        vertical-align: middle;\n",
       "    }\n",
       "\n",
       "    .dataframe tbody tr th {\n",
       "        vertical-align: top;\n",
       "    }\n",
       "\n",
       "    .dataframe thead th {\n",
       "        text-align: right;\n",
       "    }\n",
       "</style>\n",
       "<table border=\"1\" class=\"dataframe\">\n",
       "  <thead>\n",
       "    <tr style=\"text-align: right;\">\n",
       "      <th></th>\n",
       "      <th>gini</th>\n",
       "      <th>IGEincome</th>\n",
       "      <th>country</th>\n",
       "      <th>quantile_child</th>\n",
       "      <th>nb_quantiles</th>\n",
       "      <th>income_normal</th>\n",
       "      <th>proba_quantile_parent</th>\n",
       "      <th>income_mean</th>\n",
       "      <th>log_income</th>\n",
       "      <th>log_income_mean</th>\n",
       "    </tr>\n",
       "  </thead>\n",
       "  <tbody>\n",
       "    <tr>\n",
       "      <th>0</th>\n",
       "      <td>31.408889</td>\n",
       "      <td>0.815874</td>\n",
       "      <td>ALB</td>\n",
       "      <td>1</td>\n",
       "      <td>100</td>\n",
       "      <td>728.89795</td>\n",
       "      <td>1</td>\n",
       "      <td>2994.829902</td>\n",
       "      <td>6.591534</td>\n",
       "      <td>8.004643</td>\n",
       "    </tr>\n",
       "    <tr>\n",
       "      <th>1</th>\n",
       "      <td>31.408889</td>\n",
       "      <td>0.815874</td>\n",
       "      <td>ALB</td>\n",
       "      <td>1</td>\n",
       "      <td>100</td>\n",
       "      <td>728.89795</td>\n",
       "      <td>1</td>\n",
       "      <td>2994.829902</td>\n",
       "      <td>6.591534</td>\n",
       "      <td>8.004643</td>\n",
       "    </tr>\n",
       "    <tr>\n",
       "      <th>2</th>\n",
       "      <td>31.408889</td>\n",
       "      <td>0.815874</td>\n",
       "      <td>ALB</td>\n",
       "      <td>1</td>\n",
       "      <td>100</td>\n",
       "      <td>728.89795</td>\n",
       "      <td>1</td>\n",
       "      <td>2994.829902</td>\n",
       "      <td>6.591534</td>\n",
       "      <td>8.004643</td>\n",
       "    </tr>\n",
       "    <tr>\n",
       "      <th>3</th>\n",
       "      <td>31.408889</td>\n",
       "      <td>0.815874</td>\n",
       "      <td>ALB</td>\n",
       "      <td>1</td>\n",
       "      <td>100</td>\n",
       "      <td>728.89795</td>\n",
       "      <td>1</td>\n",
       "      <td>2994.829902</td>\n",
       "      <td>6.591534</td>\n",
       "      <td>8.004643</td>\n",
       "    </tr>\n",
       "    <tr>\n",
       "      <th>4</th>\n",
       "      <td>31.408889</td>\n",
       "      <td>0.815874</td>\n",
       "      <td>ALB</td>\n",
       "      <td>1</td>\n",
       "      <td>100</td>\n",
       "      <td>728.89795</td>\n",
       "      <td>1</td>\n",
       "      <td>2994.829902</td>\n",
       "      <td>6.591534</td>\n",
       "      <td>8.004643</td>\n",
       "    </tr>\n",
       "  </tbody>\n",
       "</table>\n",
       "</div>"
      ],
      "text/plain": [
       "        gini  IGEincome country  quantile_child  nb_quantiles  income_normal  \\\n",
       "0  31.408889   0.815874     ALB               1           100      728.89795   \n",
       "1  31.408889   0.815874     ALB               1           100      728.89795   \n",
       "2  31.408889   0.815874     ALB               1           100      728.89795   \n",
       "3  31.408889   0.815874     ALB               1           100      728.89795   \n",
       "4  31.408889   0.815874     ALB               1           100      728.89795   \n",
       "\n",
       "   proba_quantile_parent  income_mean  log_income  log_income_mean  \n",
       "0                      1  2994.829902    6.591534         8.004643  \n",
       "1                      1  2994.829902    6.591534         8.004643  \n",
       "2                      1  2994.829902    6.591534         8.004643  \n",
       "3                      1  2994.829902    6.591534         8.004643  \n",
       "4                      1  2994.829902    6.591534         8.004643  "
      ]
     },
     "execution_count": 67,
     "metadata": {},
     "output_type": "execute_result"
    }
   ],
   "source": [
    "Linear_reg_log=Linear_reg.copy()\n",
    "Linear_reg_log['log_income']=np.log(Linear_reg_log['income_normal'])\n",
    "Linear_reg_log['log_income_mean']=np.log(Linear_reg_log['income_mean'])\n",
    "Linear_reg_log.head()"
   ]
  },
  {
   "cell_type": "markdown",
   "id": "47250e0a",
   "metadata": {},
   "source": [
    "Multicollinearity is a statistical concept where several independent variables in a model are correlated.\n",
    "\n",
    "Two variables are considered to be perfectly collinear if their correlation coefficient is +/- 1.0.\n",
    "\n",
    "Multicollinearity among independent variables will result in less reliable statistical inferences.\n",
    "\n",
    "It is better to use independent variables that are not correlated or repetitive when building multiple regression models that use two or more variables.\n",
    "\n",
    "The existence of multicollinearity in a data set can lead to less reliable results due to larger standard errors.\n",
    "https://www.investopedia.com/terms/m/multicollinearity.asp#:~:text=Multicollinearity%20is%20a%20statistical%20concept,in%20less%20reliable%20statistical%20inferences\n"
   ]
  },
  {
   "cell_type": "code",
   "execution_count": 68,
   "id": "3dd27e5b",
   "metadata": {},
   "outputs": [
    {
     "data": {
      "image/png": "[encoded data removed]",
      "text/plain": [
       "<Figure size 432x288 with 2 Axes>"
      ]
     },
     "metadata": {
      "needs_background": "light"
     },
     "output_type": "display_data"
    }
   ],
   "source": [
    "Linear_reg.corr()\n",
    "sns.heatmap(Linear_reg.corr(),linewidths=.1)\n",
    "plt.savefig('bi_heatmap_colinearity.png')"
   ]
  },
  {
   "cell_type": "code",
   "execution_count": 69,
   "id": "d0befa24",
   "metadata": {
    "scrolled": true
   },
   "outputs": [
    {
     "data": {
      "image/png": "[encoded data removed]",
      "text/plain": [
       "<Figure size 432x288 with 2 Axes>"
      ]
     },
     "metadata": {
      "needs_background": "light"
     },
     "output_type": "display_data"
    }
   ],
   "source": [
    "# . vérifiez la multicolinéarité des variables explicatives\n",
    "Linear_reg_log.corr()\n",
    "sns.heatmap(Linear_reg_log.corr(),linewidths=.1)\n",
    "plt.savefig('bi_heatmap_colinearity_log.png')"
   ]
  },
  {
   "cell_type": "code",
   "execution_count": 70,
   "id": "ba8f5507",
   "metadata": {},
   "outputs": [
    {
     "data": {
      "text/html": [
       "<table class=\"simpletable\">\n",
       "<caption>OLS Regression Results</caption>\n",
       "<tr>\n",
       "  <th>Dep. Variable:</th>       <td>log_income</td>    <th>  R-squared:         </th>  <td>   0.754</td>  \n",
       "</tr>\n",
       "<tr>\n",
       "  <th>Model:</th>                   <td>OLS</td>       <th>  Adj. R-squared:    </th>  <td>   0.754</td>  \n",
       "</tr>\n",
       "<tr>\n",
       "  <th>Method:</th>             <td>Least Squares</td>  <th>  F-statistic:       </th>  <td>4.834e+06</td> \n",
       "</tr>\n",
       "<tr>\n",
       "  <th>Date:</th>             <td>Fri, 11 Mar 2022</td> <th>  Prob (F-statistic):</th>   <td>  0.00</td>   \n",
       "</tr>\n",
       "<tr>\n",
       "  <th>Time:</th>                 <td>21:49:06</td>     <th>  Log-Likelihood:    </th> <td>-3.4190e+06</td>\n",
       "</tr>\n",
       "<tr>\n",
       "  <th>No. Observations:</th>      <td>3150000</td>     <th>  AIC:               </th>  <td>6.838e+06</td> \n",
       "</tr>\n",
       "<tr>\n",
       "  <th>Df Residuals:</th>          <td>3149997</td>     <th>  BIC:               </th>  <td>6.838e+06</td> \n",
       "</tr>\n",
       "<tr>\n",
       "  <th>Df Model:</th>              <td>     2</td>      <th>                     </th>      <td> </td>     \n",
       "</tr>\n",
       "<tr>\n",
       "  <th>Covariance Type:</th>      <td>nonrobust</td>    <th>                     </th>      <td> </td>     \n",
       "</tr>\n",
       "</table>\n",
       "<table class=\"simpletable\">\n",
       "<tr>\n",
       "         <td></td>            <th>coef</th>     <th>std err</th>      <th>t</th>      <th>P>|t|</th>  <th>[0.025</th>    <th>0.975]</th>  \n",
       "</tr>\n",
       "<tr>\n",
       "  <th>Intercept</th>       <td>    0.6782</td> <td>    0.005</td> <td>  149.201</td> <td> 0.000</td> <td>    0.669</td> <td>    0.687</td>\n",
       "</tr>\n",
       "<tr>\n",
       "  <th>log_income_mean</th> <td>    0.9707</td> <td>    0.000</td> <td> 2597.477</td> <td> 0.000</td> <td>    0.970</td> <td>    0.971</td>\n",
       "</tr>\n",
       "<tr>\n",
       "  <th>gini</th>            <td>   -0.0180</td> <td> 5.49e-05</td> <td> -326.925</td> <td> 0.000</td> <td>   -0.018</td> <td>   -0.018</td>\n",
       "</tr>\n",
       "</table>\n",
       "<table class=\"simpletable\">\n",
       "<tr>\n",
       "  <th>Omnibus:</th>       <td>320818.887</td> <th>  Durbin-Watson:     </th>  <td>   0.001</td>  \n",
       "</tr>\n",
       "<tr>\n",
       "  <th>Prob(Omnibus):</th>   <td> 0.000</td>   <th>  Jarque-Bera (JB):  </th> <td>1914508.355</td>\n",
       "</tr>\n",
       "<tr>\n",
       "  <th>Skew:</th>            <td>-0.308</td>   <th>  Prob(JB):          </th>  <td>    0.00</td>  \n",
       "</tr>\n",
       "<tr>\n",
       "  <th>Kurtosis:</th>        <td> 6.769</td>   <th>  Cond. No.          </th>  <td>    452.</td>  \n",
       "</tr>\n",
       "</table><br/><br/>Notes:<br/>[1] Standard Errors assume that the covariance matrix of the errors is correctly specified."
      ],
      "text/plain": [
       "<class 'statsmodels.iolib.summary.Summary'>\n",
       "\"\"\"\n",
       "                            OLS Regression Results                            \n",
       "==============================================================================\n",
       "Dep. Variable:             log_income   R-squared:                       0.754\n",
       "Model:                            OLS   Adj. R-squared:                  0.754\n",
       "Method:                 Least Squares   F-statistic:                 4.834e+06\n",
       "Date:                Fri, 11 Mar 2022   Prob (F-statistic):               0.00\n",
       "Time:                        21:49:06   Log-Likelihood:            -3.4190e+06\n",
       "No. Observations:             3150000   AIC:                         6.838e+06\n",
       "Df Residuals:                 3149997   BIC:                         6.838e+06\n",
       "Df Model:                           2                                         \n",
       "Covariance Type:            nonrobust                                         \n",
       "===================================================================================\n",
       "                      coef    std err          t      P>|t|      [0.025      0.975]\n",
       "-----------------------------------------------------------------------------------\n",
       "Intercept           0.6782      0.005    149.201      0.000       0.669       0.687\n",
       "log_income_mean     0.9707      0.000   2597.477      0.000       0.970       0.971\n",
       "gini               -0.0180   5.49e-05   -326.925      0.000      -0.018      -0.018\n",
       "==============================================================================\n",
       "Omnibus:                   320818.887   Durbin-Watson:                   0.001\n",
       "Prob(Omnibus):                  0.000   Jarque-Bera (JB):          1914508.355\n",
       "Skew:                          -0.308   Prob(JB):                         0.00\n",
       "Kurtosis:                       6.769   Cond. No.                         452.\n",
       "==============================================================================\n",
       "\n",
       "Notes:\n",
       "[1] Standard Errors assume that the covariance matrix of the errors is correctly specified.\n",
       "\"\"\""
      ]
     },
     "execution_count": 70,
     "metadata": {},
     "output_type": "execute_result"
    }
   ],
   "source": [
    "reg_multi_2 = smf.ols('log_income~log_income_mean+gini', data=Linear_reg_log).fit()\n",
    "reg_multi_2.summary()\n"
   ]
  },
  {
   "cell_type": "code",
   "execution_count": 71,
   "id": "26d10c3f",
   "metadata": {},
   "outputs": [
    {
     "data": {
      "image/png": "[encoded data removed]",
      "text/plain": [
       "<Figure size 432x288 with 1 Axes>"
      ]
     },
     "metadata": {
      "needs_background": "light"
     },
     "output_type": "display_data"
    }
   ],
   "source": [
    "# 1. vérifier la normalité des résidus du model reg_multi_2\n",
    "\n",
    "stats.probplot(reg_multi_2.resid, dist=\"norm\", plot= plt)\n",
    "plt.title(\"reg_multi_2 Residuals Q-Q Plot\")\n",
    "\n",
    "plt.savefig(\"reg_multi_2_Residus_qqplot.png\")\n",
    "\n",
    "# normalité des résidus valide "
   ]
  },
  {
   "cell_type": "code",
   "execution_count": 96,
   "id": "8a239abb",
   "metadata": {},
   "outputs": [
    {
     "data": {
      "text/plain": [
       "[('Lagrange multiplier statistic', 145979.22385892624),\n",
       " ('p-value', 0.0),\n",
       " ('f-value', 76536.44090448711),\n",
       " ('f p-value', 0.0)]"
      ]
     },
     "execution_count": 96,
     "metadata": {},
     "output_type": "execute_result"
    }
   ],
   "source": [
    "# 2. vérifier homosétasticité des résidus par statsmodels -  reg_multi_2\n",
    "name = ['Lagrange multiplier statistic', 'p-value', 'f-value', 'f p-value']\n",
    "test = sms.het_breuschpagan(reg_multi_2.resid, reg_multi_2.model.exog)\n",
    "lzip(name, test)"
   ]
  },
  {
   "cell_type": "markdown",
   "id": "d80cc04e",
   "metadata": {},
   "source": [
    "#### P-value est 0, <0.5%, rejet de H0, donc il n'existe pas de l'homosétasticité (présence de l'hétéroscétasticité) pour les résidus de ce modèle reg_multi_2"
   ]
  },
  {
   "cell_type": "code",
   "execution_count": 73,
   "id": "7cce1117",
   "metadata": {},
   "outputs": [
    {
     "data": {
      "text/html": [
       "<div>\n",
       "<style scoped>\n",
       "    .dataframe tbody tr th:only-of-type {\n",
       "        vertical-align: middle;\n",
       "    }\n",
       "\n",
       "    .dataframe tbody tr th {\n",
       "        vertical-align: top;\n",
       "    }\n",
       "\n",
       "    .dataframe thead th {\n",
       "        text-align: right;\n",
       "    }\n",
       "</style>\n",
       "<table border=\"1\" class=\"dataframe\">\n",
       "  <thead>\n",
       "    <tr style=\"text-align: right;\">\n",
       "      <th></th>\n",
       "      <th>df</th>\n",
       "      <th>sum_sq</th>\n",
       "      <th>mean_sq</th>\n",
       "      <th>F</th>\n",
       "      <th>PR(&gt;F)</th>\n",
       "    </tr>\n",
       "  </thead>\n",
       "  <tbody>\n",
       "    <tr>\n",
       "      <th>log_income_mean</th>\n",
       "      <td>1.0</td>\n",
       "      <td>4.907014e+06</td>\n",
       "      <td>4.907014e+06</td>\n",
       "      <td>9.561381e+06</td>\n",
       "      <td>0.0</td>\n",
       "    </tr>\n",
       "    <tr>\n",
       "      <th>gini</th>\n",
       "      <td>1.0</td>\n",
       "      <td>5.485212e+04</td>\n",
       "      <td>5.485212e+04</td>\n",
       "      <td>1.068801e+05</td>\n",
       "      <td>0.0</td>\n",
       "    </tr>\n",
       "    <tr>\n",
       "      <th>Residual</th>\n",
       "      <td>3149997.0</td>\n",
       "      <td>1.616616e+06</td>\n",
       "      <td>5.132119e-01</td>\n",
       "      <td>NaN</td>\n",
       "      <td>NaN</td>\n",
       "    </tr>\n",
       "  </tbody>\n",
       "</table>\n",
       "</div>"
      ],
      "text/plain": [
       "                        df        sum_sq       mean_sq             F  PR(>F)\n",
       "log_income_mean        1.0  4.907014e+06  4.907014e+06  9.561381e+06     0.0\n",
       "gini                   1.0  5.485212e+04  5.485212e+04  1.068801e+05     0.0\n",
       "Residual         3149997.0  1.616616e+06  5.132119e-01           NaN     NaN"
      ]
     },
     "execution_count": 73,
     "metadata": {},
     "output_type": "execute_result"
    }
   ],
   "source": [
    "analyse_2=sm.stats.anova_lm(reg_multi_2, typ=1)\n",
    "analyse_2"
   ]
  },
  {
   "cell_type": "code",
   "execution_count": 74,
   "id": "331df505",
   "metadata": {},
   "outputs": [
    {
     "name": "stdout",
     "output_type": "stream",
     "text": [
      "La variance expliquée par revenue moyen en log (log_income_mean) est de : 74.59189072396639 %\n"
     ]
    }
   ],
   "source": [
    "SCE_log_income_mean=analyse_2.iloc[0,1]\n",
    "SCE_gini=analyse_2.iloc[1,1]\n",
    "SCR_log=analyse_2.iloc[2,1]\n",
    "\n",
    "R2_log_income_mean=SCE_log_income_mean/sum(analyse_2['sum_sq'])\n",
    "print(\"La variance expliquée par revenue moyen en log (log_income_mean) est de :\", R2_log_income_mean*100,'%')"
   ]
  },
  {
   "cell_type": "code",
   "execution_count": 75,
   "id": "6a211b88",
   "metadata": {},
   "outputs": [
    {
     "name": "stdout",
     "output_type": "stream",
     "text": [
      "La variance expliquée par Gini du pays: 0.833811129197848 %\n"
     ]
    }
   ],
   "source": [
    "R2_gini2=SCE_gini/sum(analyse_2['sum_sq'])\n",
    "print('La variance expliquée par Gini du pays:', R2_gini2*100, '%')"
   ]
  },
  {
   "cell_type": "code",
   "execution_count": 76,
   "id": "5b571287",
   "metadata": {},
   "outputs": [
    {
     "name": "stdout",
     "output_type": "stream",
     "text": [
      "La variance expliquée par les résiduels:  24.57429814683577 %\n"
     ]
    }
   ],
   "source": [
    "R2_SCR2 = SCR_log/sum(analyse_2['sum_sq'])\n",
    "print('La variance expliquée par les résiduels: ', R2_SCR2*100, '%')"
   ]
  },
  {
   "cell_type": "code",
   "execution_count": 77,
   "id": "71c8953d",
   "metadata": {},
   "outputs": [
    {
     "data": {
      "text/plain": [
       "0.7542570185316423"
      ]
     },
     "execution_count": 77,
     "metadata": {},
     "output_type": "execute_result"
    }
   ],
   "source": [
    "#verification \n",
    "\n",
    "R2_log_income_mean+ R2_gini2                    # result equals to the R-squared, ok "
   ]
  },
  {
   "cell_type": "markdown",
   "id": "441ddb97",
   "metadata": {},
   "source": [
    "    On en conclut que la variance expliquée par le revenu moyen en log est environ 74.6%; \n",
    "    0.8 % par indice de Gini; \n",
    "    et par les autres facteurs non-incluses dans ce modèle est 24.6%"
   ]
  },
  {
   "cell_type": "markdown",
   "id": "9ec197b3",
   "metadata": {},
   "source": [
    "### En incluant les classes de revenus des parents dans les variables explicatives:\n",
    "\n",
    "## Multi linear regression_3 variables explicatives"
   ]
  },
  {
   "cell_type": "code",
   "execution_count": 135,
   "id": "167da579",
   "metadata": {},
   "outputs": [
    {
     "data": {
      "text/html": [
       "<table class=\"simpletable\">\n",
       "<caption>OLS Regression Results</caption>\n",
       "<tr>\n",
       "  <th>Dep. Variable:</th>      <td>income_normal</td>  <th>  R-squared:         </th>  <td>   0.484</td>  \n",
       "</tr>\n",
       "<tr>\n",
       "  <th>Model:</th>                   <td>OLS</td>       <th>  Adj. R-squared:    </th>  <td>   0.484</td>  \n",
       "</tr>\n",
       "<tr>\n",
       "  <th>Method:</th>             <td>Least Squares</td>  <th>  F-statistic:       </th>  <td>9.862e+05</td> \n",
       "</tr>\n",
       "<tr>\n",
       "  <th>Date:</th>             <td>Mon, 14 Mar 2022</td> <th>  Prob (F-statistic):</th>   <td>  0.00</td>   \n",
       "</tr>\n",
       "<tr>\n",
       "  <th>Time:</th>                 <td>13:38:31</td>     <th>  Log-Likelihood:    </th> <td>-3.2774e+07</td>\n",
       "</tr>\n",
       "<tr>\n",
       "  <th>No. Observations:</th>      <td>3150000</td>     <th>  AIC:               </th>  <td>6.555e+07</td> \n",
       "</tr>\n",
       "<tr>\n",
       "  <th>Df Residuals:</th>          <td>3149996</td>     <th>  BIC:               </th>  <td>6.555e+07</td> \n",
       "</tr>\n",
       "<tr>\n",
       "  <th>Df Model:</th>              <td>     3</td>      <th>                     </th>      <td> </td>     \n",
       "</tr>\n",
       "<tr>\n",
       "  <th>Covariance Type:</th>      <td>nonrobust</td>    <th>                     </th>      <td> </td>     \n",
       "</tr>\n",
       "</table>\n",
       "<table class=\"simpletable\">\n",
       "<tr>\n",
       "            <td></td>               <th>coef</th>     <th>std err</th>      <th>t</th>      <th>P>|t|</th>  <th>[0.025</th>    <th>0.975]</th>  \n",
       "</tr>\n",
       "<tr>\n",
       "  <th>Intercept</th>             <td>-3259.4773</td> <td>   28.155</td> <td> -115.768</td> <td> 0.000</td> <td>-3314.661</td> <td>-3204.294</td>\n",
       "</tr>\n",
       "<tr>\n",
       "  <th>income_mean</th>           <td>    1.0000</td> <td>    0.001</td> <td> 1477.739</td> <td> 0.000</td> <td>    0.999</td> <td>    1.001</td>\n",
       "</tr>\n",
       "<tr>\n",
       "  <th>gini</th>                  <td> 7.824e-11</td> <td>    0.614</td> <td> 1.27e-10</td> <td> 1.000</td> <td>   -1.204</td> <td>    1.204</td>\n",
       "</tr>\n",
       "<tr>\n",
       "  <th>proba_quantile_parent</th> <td>   64.5441</td> <td>    0.156</td> <td>  414.085</td> <td> 0.000</td> <td>   64.239</td> <td>   64.850</td>\n",
       "</tr>\n",
       "</table>\n",
       "<table class=\"simpletable\">\n",
       "<tr>\n",
       "  <th>Omnibus:</th>       <td>3537135.379</td> <th>  Durbin-Watson:     </th>   <td>   0.003</td>   \n",
       "</tr>\n",
       "<tr>\n",
       "  <th>Prob(Omnibus):</th>   <td> 0.000</td>    <th>  Jarque-Bera (JB):  </th> <td>540107613.415</td>\n",
       "</tr>\n",
       "<tr>\n",
       "  <th>Skew:</th>            <td> 5.668</td>    <th>  Prob(JB):          </th>   <td>    0.00</td>   \n",
       "</tr>\n",
       "<tr>\n",
       "  <th>Kurtosis:</th>        <td>66.140</td>    <th>  Cond. No.          </th>   <td>7.03e+04</td>   \n",
       "</tr>\n",
       "</table><br/><br/>Notes:<br/>[1] Standard Errors assume that the covariance matrix of the errors is correctly specified.<br/>[2] The condition number is large, 7.03e+04. This might indicate that there are<br/>strong multicollinearity or other numerical problems."
      ],
      "text/plain": [
       "<class 'statsmodels.iolib.summary.Summary'>\n",
       "\"\"\"\n",
       "                            OLS Regression Results                            \n",
       "==============================================================================\n",
       "Dep. Variable:          income_normal   R-squared:                       0.484\n",
       "Model:                            OLS   Adj. R-squared:                  0.484\n",
       "Method:                 Least Squares   F-statistic:                 9.862e+05\n",
       "Date:                Mon, 14 Mar 2022   Prob (F-statistic):               0.00\n",
       "Time:                        13:38:31   Log-Likelihood:            -3.2774e+07\n",
       "No. Observations:             3150000   AIC:                         6.555e+07\n",
       "Df Residuals:                 3149996   BIC:                         6.555e+07\n",
       "Df Model:                           3                                         \n",
       "Covariance Type:            nonrobust                                         \n",
       "=========================================================================================\n",
       "                            coef    std err          t      P>|t|      [0.025      0.975]\n",
       "-----------------------------------------------------------------------------------------\n",
       "Intercept             -3259.4773     28.155   -115.768      0.000   -3314.661   -3204.294\n",
       "income_mean               1.0000      0.001   1477.739      0.000       0.999       1.001\n",
       "gini                   7.824e-11      0.614   1.27e-10      1.000      -1.204       1.204\n",
       "proba_quantile_parent    64.5441      0.156    414.085      0.000      64.239      64.850\n",
       "==============================================================================\n",
       "Omnibus:                  3537135.379   Durbin-Watson:                   0.003\n",
       "Prob(Omnibus):                  0.000   Jarque-Bera (JB):        540107613.415\n",
       "Skew:                           5.668   Prob(JB):                         0.00\n",
       "Kurtosis:                      66.140   Cond. No.                     7.03e+04\n",
       "==============================================================================\n",
       "\n",
       "Notes:\n",
       "[1] Standard Errors assume that the covariance matrix of the errors is correctly specified.\n",
       "[2] The condition number is large, 7.03e+04. This might indicate that there are\n",
       "strong multicollinearity or other numerical problems.\n",
       "\"\"\""
      ]
     },
     "execution_count": 135,
     "metadata": {},
     "output_type": "execute_result"
    }
   ],
   "source": [
    "reg_multi_3 = smf.ols('income_normal~income_mean+gini+proba_quantile_parent', data=Linear_reg_log).fit()\n",
    "reg_multi_3.summary()"
   ]
  },
  {
   "cell_type": "code",
   "execution_count": 136,
   "id": "cffbc190",
   "metadata": {},
   "outputs": [
    {
     "data": {
      "image/png": "[encoded data removed]",
      "text/plain": [
       "<Figure size 432x288 with 1 Axes>"
      ]
     },
     "metadata": {
      "needs_background": "light"
     },
     "output_type": "display_data"
    }
   ],
   "source": [
    "# 1. vérifier la normalité des résidus du model reg_multi_3\n",
    "\n",
    "stats.probplot(reg_multi_3.resid, dist=\"norm\", plot= plt)\n",
    "plt.title(\"reg_multi_3 Residuals Q-Q Plot\")\n",
    "plt.savefig(\"reg_multi_3 Residus_qqplot.png\")"
   ]
  },
  {
   "cell_type": "code",
   "execution_count": 137,
   "id": "79dbe12d",
   "metadata": {},
   "outputs": [
    {
     "data": {
      "text/plain": [
       "[('Lagrange multiplier statistic', 90355.6983633005),\n",
       " ('p-value', 0.0),\n",
       " ('f-value', 31007.971337207444),\n",
       " ('f p-value', 0.0)]"
      ]
     },
     "execution_count": 137,
     "metadata": {},
     "output_type": "execute_result"
    }
   ],
   "source": [
    "# 2. vérifier homosétasticité des résidus par statsmodels -  reg_multi_3\n",
    "name = ['Lagrange multiplier statistic', 'p-value', 'f-value', 'f p-value']\n",
    "test = sms.het_breuschpagan(reg_multi_3.resid, reg_multi_3.model.exog)\n",
    "lzip(name, test)"
   ]
  },
  {
   "cell_type": "markdown",
   "id": "e3a776cc",
   "metadata": {},
   "source": [
    "#### P-value est 0, <0.5%, rejet de H0, donc il n'existe pas de l'homosétasticité (présence de l'hétéroscétasticité) pour les résidus de ce modèle reg_multi_3"
   ]
  },
  {
   "cell_type": "code",
   "execution_count": 82,
   "id": "1cc1a08e",
   "metadata": {},
   "outputs": [
    {
     "data": {
      "text/html": [
       "<div>\n",
       "<style scoped>\n",
       "    .dataframe tbody tr th:only-of-type {\n",
       "        vertical-align: middle;\n",
       "    }\n",
       "\n",
       "    .dataframe tbody tr th {\n",
       "        vertical-align: top;\n",
       "    }\n",
       "\n",
       "    .dataframe thead th {\n",
       "        text-align: right;\n",
       "    }\n",
       "</style>\n",
       "<table border=\"1\" class=\"dataframe\">\n",
       "  <thead>\n",
       "    <tr style=\"text-align: right;\">\n",
       "      <th></th>\n",
       "      <th>df</th>\n",
       "      <th>sum_sq</th>\n",
       "      <th>mean_sq</th>\n",
       "      <th>F</th>\n",
       "      <th>PR(&gt;F)</th>\n",
       "    </tr>\n",
       "  </thead>\n",
       "  <tbody>\n",
       "    <tr>\n",
       "      <th>income_mean</th>\n",
       "      <td>1.0</td>\n",
       "      <td>1.777465e+14</td>\n",
       "      <td>1.777465e+14</td>\n",
       "      <td>2.787283e+06</td>\n",
       "      <td>0.0</td>\n",
       "    </tr>\n",
       "    <tr>\n",
       "      <th>gini</th>\n",
       "      <td>1.0</td>\n",
       "      <td>5.456975e-13</td>\n",
       "      <td>5.456975e-13</td>\n",
       "      <td>8.557208e-21</td>\n",
       "      <td>1.0</td>\n",
       "    </tr>\n",
       "    <tr>\n",
       "      <th>proba_quantile_parent</th>\n",
       "      <td>1.0</td>\n",
       "      <td>1.093450e+13</td>\n",
       "      <td>1.093450e+13</td>\n",
       "      <td>1.714664e+05</td>\n",
       "      <td>0.0</td>\n",
       "    </tr>\n",
       "    <tr>\n",
       "      <th>Residual</th>\n",
       "      <td>3149996.0</td>\n",
       "      <td>2.008769e+14</td>\n",
       "      <td>6.377051e+07</td>\n",
       "      <td>NaN</td>\n",
       "      <td>NaN</td>\n",
       "    </tr>\n",
       "  </tbody>\n",
       "</table>\n",
       "</div>"
      ],
      "text/plain": [
       "                              df        sum_sq       mean_sq             F  \\\n",
       "income_mean                  1.0  1.777465e+14  1.777465e+14  2.787283e+06   \n",
       "gini                         1.0  5.456975e-13  5.456975e-13  8.557208e-21   \n",
       "proba_quantile_parent        1.0  1.093450e+13  1.093450e+13  1.714664e+05   \n",
       "Residual               3149996.0  2.008769e+14  6.377051e+07           NaN   \n",
       "\n",
       "                       PR(>F)  \n",
       "income_mean               0.0  \n",
       "gini                      1.0  \n",
       "proba_quantile_parent     0.0  \n",
       "Residual                  NaN  "
      ]
     },
     "execution_count": 82,
     "metadata": {},
     "output_type": "execute_result"
    }
   ],
   "source": [
    "analyse3=sm.stats.anova_lm(reg_multi_3, typ=1)\n",
    "analyse3"
   ]
  },
  {
   "cell_type": "code",
   "execution_count": 83,
   "id": "76d71b67",
   "metadata": {},
   "outputs": [
    {
     "name": "stdout",
     "output_type": "stream",
     "text": [
      "La variance expliquée par la classe de revenu des parents est de : 2.81 %\n",
      "La variance expliquée par le revenu moyen du pays est de : 45.63 %\n",
      "La variance expliquée par Gini du pays: 0.0 %\n",
      "La variance expliquée par les autres facteurs est de : 51.57 %\n"
     ]
    }
   ],
   "source": [
    "SCE_income_mean=analyse3.iloc[0,1]\n",
    "SCE_gini=analyse3.iloc[1,1]\n",
    "SCE_class_p=analyse3.iloc[2,1]\n",
    "SCR_3=analyse3.iloc[3,1]\n",
    "\n",
    "R2_classe_parent=SCE_class_p/sum(analyse3['sum_sq'])\n",
    "R2_income_mean = SCE_income_mean/sum(analyse3['sum_sq'])\n",
    "R2_SCR3 = SCR_3/sum(analyse3['sum_sq'])\n",
    "R2_gini3= SCE_gini/sum(analyse3['sum_sq'])\n",
    "\n",
    "print('La variance expliquée par la classe de revenu des parents est de :', round(R2_classe_parent*100,2), '%')\n",
    "print('La variance expliquée par le revenu moyen du pays est de :', round(R2_income_mean*100,2),'%')\n",
    "print('La variance expliquée par Gini du pays:', round(R2_gini3*100,2), '%')\n",
    "print('La variance expliquée par les autres facteurs est de :', round(R2_SCR3*100,2), '%')"
   ]
  },
  {
   "cell_type": "code",
   "execution_count": 84,
   "id": "abefd3b6",
   "metadata": {},
   "outputs": [
    {
     "data": {
      "text/plain": [
       "0.4843465270857672"
      ]
     },
     "execution_count": 84,
     "metadata": {},
     "output_type": "execute_result"
    }
   ],
   "source": [
    "R2_classe_parent + R2_income_mean  +  R2_gini3\n",
    "\n",
    "# verification ok"
   ]
  },
  {
   "cell_type": "markdown",
   "id": "5598c2ec",
   "metadata": {},
   "source": [
    "## Multi linear regression_3_log"
   ]
  },
  {
   "cell_type": "code",
   "execution_count": 141,
   "id": "093b13a4",
   "metadata": {},
   "outputs": [
    {
     "data": {
      "text/html": [
       "<table class=\"simpletable\">\n",
       "<caption>OLS Regression Results</caption>\n",
       "<tr>\n",
       "  <th>Dep. Variable:</th>       <td>log_income</td>    <th>  R-squared:         </th>  <td>   0.798</td>  \n",
       "</tr>\n",
       "<tr>\n",
       "  <th>Model:</th>                   <td>OLS</td>       <th>  Adj. R-squared:    </th>  <td>   0.798</td>  \n",
       "</tr>\n",
       "<tr>\n",
       "  <th>Method:</th>             <td>Least Squares</td>  <th>  F-statistic:       </th>  <td>4.141e+06</td> \n",
       "</tr>\n",
       "<tr>\n",
       "  <th>Date:</th>             <td>Wed, 16 Mar 2022</td> <th>  Prob (F-statistic):</th>   <td>  0.00</td>   \n",
       "</tr>\n",
       "<tr>\n",
       "  <th>Time:</th>                 <td>11:00:02</td>     <th>  Log-Likelihood:    </th> <td>-3.1124e+06</td>\n",
       "</tr>\n",
       "<tr>\n",
       "  <th>No. Observations:</th>      <td>3150000</td>     <th>  AIC:               </th>  <td>6.225e+06</td> \n",
       "</tr>\n",
       "<tr>\n",
       "  <th>Df Residuals:</th>          <td>3149996</td>     <th>  BIC:               </th>  <td>6.225e+06</td> \n",
       "</tr>\n",
       "<tr>\n",
       "  <th>Df Model:</th>              <td>     3</td>      <th>                     </th>      <td> </td>     \n",
       "</tr>\n",
       "<tr>\n",
       "  <th>Covariance Type:</th>      <td>nonrobust</td>    <th>                     </th>      <td> </td>     \n",
       "</tr>\n",
       "</table>\n",
       "<table class=\"simpletable\">\n",
       "<tr>\n",
       "            <td></td>               <th>coef</th>     <th>std err</th>      <th>t</th>      <th>P>|t|</th>  <th>[0.025</th>    <th>0.975]</th>  \n",
       "</tr>\n",
       "<tr>\n",
       "  <th>Intercept</th>             <td>    0.1511</td> <td>    0.004</td> <td>   36.195</td> <td> 0.000</td> <td>    0.143</td> <td>    0.159</td>\n",
       "</tr>\n",
       "<tr>\n",
       "  <th>log_income_mean</th>       <td>    0.9707</td> <td>    0.000</td> <td> 2863.028</td> <td> 0.000</td> <td>    0.970</td> <td>    0.971</td>\n",
       "</tr>\n",
       "<tr>\n",
       "  <th>gini</th>                  <td>   -0.0180</td> <td> 4.98e-05</td> <td> -360.348</td> <td> 0.000</td> <td>   -0.018</td> <td>   -0.018</td>\n",
       "</tr>\n",
       "<tr>\n",
       "  <th>proba_quantile_parent</th> <td>    0.0104</td> <td> 1.27e-05</td> <td>  822.800</td> <td> 0.000</td> <td>    0.010</td> <td>    0.010</td>\n",
       "</tr>\n",
       "</table>\n",
       "<table class=\"simpletable\">\n",
       "<tr>\n",
       "  <th>Omnibus:</th>       <td>348378.084</td> <th>  Durbin-Watson:     </th>  <td>   0.006</td>  \n",
       "</tr>\n",
       "<tr>\n",
       "  <th>Prob(Omnibus):</th>   <td> 0.000</td>   <th>  Jarque-Bera (JB):  </th> <td>2099750.184</td>\n",
       "</tr>\n",
       "<tr>\n",
       "  <th>Skew:</th>            <td>-0.363</td>   <th>  Prob(JB):          </th>  <td>    0.00</td>  \n",
       "</tr>\n",
       "<tr>\n",
       "  <th>Kurtosis:</th>        <td> 6.933</td>   <th>  Cond. No.          </th>  <td>    781.</td>  \n",
       "</tr>\n",
       "</table><br/><br/>Notes:<br/>[1] Standard Errors assume that the covariance matrix of the errors is correctly specified."
      ],
      "text/plain": [
       "<class 'statsmodels.iolib.summary.Summary'>\n",
       "\"\"\"\n",
       "                            OLS Regression Results                            \n",
       "==============================================================================\n",
       "Dep. Variable:             log_income   R-squared:                       0.798\n",
       "Model:                            OLS   Adj. R-squared:                  0.798\n",
       "Method:                 Least Squares   F-statistic:                 4.141e+06\n",
       "Date:                Wed, 16 Mar 2022   Prob (F-statistic):               0.00\n",
       "Time:                        11:00:02   Log-Likelihood:            -3.1124e+06\n",
       "No. Observations:             3150000   AIC:                         6.225e+06\n",
       "Df Residuals:                 3149996   BIC:                         6.225e+06\n",
       "Df Model:                           3                                         \n",
       "Covariance Type:            nonrobust                                         \n",
       "=========================================================================================\n",
       "                            coef    std err          t      P>|t|      [0.025      0.975]\n",
       "-----------------------------------------------------------------------------------------\n",
       "Intercept                 0.1511      0.004     36.195      0.000       0.143       0.159\n",
       "log_income_mean           0.9707      0.000   2863.028      0.000       0.970       0.971\n",
       "gini                     -0.0180   4.98e-05   -360.348      0.000      -0.018      -0.018\n",
       "proba_quantile_parent     0.0104   1.27e-05    822.800      0.000       0.010       0.010\n",
       "==============================================================================\n",
       "Omnibus:                   348378.084   Durbin-Watson:                   0.006\n",
       "Prob(Omnibus):                  0.000   Jarque-Bera (JB):          2099750.184\n",
       "Skew:                          -0.363   Prob(JB):                         0.00\n",
       "Kurtosis:                       6.933   Cond. No.                         781.\n",
       "==============================================================================\n",
       "\n",
       "Notes:\n",
       "[1] Standard Errors assume that the covariance matrix of the errors is correctly specified.\n",
       "\"\"\""
      ]
     },
     "execution_count": 141,
     "metadata": {},
     "output_type": "execute_result"
    }
   ],
   "source": [
    "reg_multi_3_log= smf.ols('log_income~log_income_mean+gini+proba_quantile_parent', data=Linear_reg_log).fit()\n",
    "reg_multi_3_log.summary()"
   ]
  },
  {
   "cell_type": "code",
   "execution_count": 89,
   "id": "a7ace2c0",
   "metadata": {},
   "outputs": [
    {
     "data": {
      "image/png": "[encoded data removed]",
      "text/plain": [
       "<Figure size 432x288 with 1 Axes>"
      ]
     },
     "metadata": {
      "needs_background": "light"
     },
     "output_type": "display_data"
    }
   ],
   "source": [
    "# 1. vérifier la normalité des résidus du model reg_multi_3_log\n",
    "\n",
    "stats.probplot(reg_multi_3_log.resid, dist=\"norm\", plot= plt)\n",
    "plt.title(\"reg_multi_3_log Residuals Q-Q Plot\")\n",
    "plt.savefig(\"reg_multi_3_log Residus_qqplot.png\")"
   ]
  },
  {
   "cell_type": "code",
   "execution_count": 129,
   "id": "91ca8f1a",
   "metadata": {},
   "outputs": [
    {
     "data": {
      "text/plain": [
       "[('Lagrange multiplier statistic', 101338.99782132792),\n",
       " ('p-value', 0.0),\n",
       " ('f-value', 34902.474403579006),\n",
       " ('f p-value', 0.0)]"
      ]
     },
     "execution_count": 129,
     "metadata": {},
     "output_type": "execute_result"
    }
   ],
   "source": [
    "# 2. vérifier homosétasticité des résidus par statsmodels -  reg_multi_3_log\n",
    "name = ['Lagrange multiplier statistic', 'p-value', 'f-value', 'f p-value']\n",
    "test = sms.het_breuschpagan(reg_multi_3_log.resid, reg_multi_3_log.model.exog)\n",
    "lzip(name, test)"
   ]
  },
  {
   "cell_type": "markdown",
   "id": "f44a4eef",
   "metadata": {},
   "source": [
    "#### P-value = 0.0, <0.5%, rejet de H0 au niveau de test 0.5%, il n'existe pas de l'homosétasticité pour les résidus de ce modèle reg_multi_3_log"
   ]
  },
  {
   "cell_type": "code",
   "execution_count": 130,
   "id": "6bd6372d",
   "metadata": {},
   "outputs": [
    {
     "data": {
      "text/html": [
       "<div>\n",
       "<style scoped>\n",
       "    .dataframe tbody tr th:only-of-type {\n",
       "        vertical-align: middle;\n",
       "    }\n",
       "\n",
       "    .dataframe tbody tr th {\n",
       "        vertical-align: top;\n",
       "    }\n",
       "\n",
       "    .dataframe thead th {\n",
       "        text-align: right;\n",
       "    }\n",
       "</style>\n",
       "<table border=\"1\" class=\"dataframe\">\n",
       "  <thead>\n",
       "    <tr style=\"text-align: right;\">\n",
       "      <th></th>\n",
       "      <th>df</th>\n",
       "      <th>sum_sq</th>\n",
       "      <th>mean_sq</th>\n",
       "      <th>F</th>\n",
       "      <th>PR(&gt;F)</th>\n",
       "    </tr>\n",
       "  </thead>\n",
       "  <tbody>\n",
       "    <tr>\n",
       "      <th>log_income_mean</th>\n",
       "      <td>1.0</td>\n",
       "      <td>4.907014e+06</td>\n",
       "      <td>4.907014e+06</td>\n",
       "      <td>1.161632e+07</td>\n",
       "      <td>0.0</td>\n",
       "    </tr>\n",
       "    <tr>\n",
       "      <th>gini</th>\n",
       "      <td>1.0</td>\n",
       "      <td>5.485212e+04</td>\n",
       "      <td>5.485212e+04</td>\n",
       "      <td>1.298508e+05</td>\n",
       "      <td>0.0</td>\n",
       "    </tr>\n",
       "    <tr>\n",
       "      <th>proba_quantile_parent</th>\n",
       "      <td>1.0</td>\n",
       "      <td>2.859814e+05</td>\n",
       "      <td>2.859814e+05</td>\n",
       "      <td>6.770005e+05</td>\n",
       "      <td>0.0</td>\n",
       "    </tr>\n",
       "    <tr>\n",
       "      <th>Residual</th>\n",
       "      <td>3149996.0</td>\n",
       "      <td>1.330634e+06</td>\n",
       "      <td>4.224242e-01</td>\n",
       "      <td>NaN</td>\n",
       "      <td>NaN</td>\n",
       "    </tr>\n",
       "  </tbody>\n",
       "</table>\n",
       "</div>"
      ],
      "text/plain": [
       "                              df        sum_sq       mean_sq             F  \\\n",
       "log_income_mean              1.0  4.907014e+06  4.907014e+06  1.161632e+07   \n",
       "gini                         1.0  5.485212e+04  5.485212e+04  1.298508e+05   \n",
       "proba_quantile_parent        1.0  2.859814e+05  2.859814e+05  6.770005e+05   \n",
       "Residual               3149996.0  1.330634e+06  4.224242e-01           NaN   \n",
       "\n",
       "                       PR(>F)  \n",
       "log_income_mean           0.0  \n",
       "gini                      0.0  \n",
       "proba_quantile_parent     0.0  \n",
       "Residual                  NaN  "
      ]
     },
     "execution_count": 130,
     "metadata": {},
     "output_type": "execute_result"
    }
   ],
   "source": [
    "analyse4=sm.stats.anova_lm(reg_multi_3_log, typ=1)\n",
    "analyse4"
   ]
  },
  {
   "cell_type": "code",
   "execution_count": 131,
   "id": "506f3b5b",
   "metadata": {},
   "outputs": [
    {
     "name": "stdout",
     "output_type": "stream",
     "text": [
      "La variance expliquée par la classe de revenu des parents est de : 4.35 %\n",
      "La variance expliquée par le revenu moyen en log est de : 74.59 %\n",
      "La variance expliquée par lindice Gini est de : 0.83 %\n",
      "La variance expliquée par les autres facteurs est de : 20.23 %\n"
     ]
    }
   ],
   "source": [
    "SCE_income_mean_log=analyse4.iloc[0,1]\n",
    "SCE_gini4=analyse4.iloc[1,1]\n",
    "SCE_class_p=analyse4.iloc[2,1]\n",
    "SCR_4=analyse4.iloc[3,1]\n",
    "\n",
    "R2_classe_p=SCE_class_p/sum(analyse4['sum_sq'])\n",
    "R2_incomemean_log= SCE_income_mean_log/sum(analyse4['sum_sq'])\n",
    "R2_gini4 = SCE_gini4/sum(analyse4['sum_sq'])\n",
    "R2_SCR4 = SCR_4/sum(analyse4['sum_sq']) \n",
    "\n",
    "print('La variance expliquée par la classe de revenu des parents est de :', round(R2_classe_p*100,2), '%')\n",
    "print('La variance expliquée par le revenu moyen en log est de :', round(R2_incomemean_log*100,2), '%')\n",
    "print('La variance expliquée par lindice Gini est de :', round(R2_gini4*100,2), '%')\n",
    "print('La variance expliquée par les autres facteurs est de :', round(R2_SCR4*100,2), '%')\n"
   ]
  },
  {
   "cell_type": "markdown",
   "id": "06e949e7",
   "metadata": {},
   "source": [
    "Autrement dit, en terme de logarithme, sur le revenu des enfants (log_income): \n",
    "\n",
    "    - la classe de revenu des parents a 4.35 % d'influence\n",
    "    - le revenu moyen du pays (en log) a 74.59 % d'influence\n",
    "    - indice Gini du pays en joue 0.83 % \n",
    "    - les autres facteurs aléatoires en jouent 20.23 % "
   ]
  },
  {
   "cell_type": "code",
   "execution_count": 93,
   "id": "f6b7bfeb",
   "metadata": {},
   "outputs": [
    {
     "data": {
      "text/plain": [
       "0.7977292596010751"
      ]
     },
     "execution_count": 93,
     "metadata": {},
     "output_type": "execute_result"
    }
   ],
   "source": [
    "R2_gini4 +  R2_incomemean_log + R2_classe_p\n",
    "\n",
    "#verification ok "
   ]
  },
  {
   "cell_type": "code",
   "execution_count": 142,
   "id": "2cf8aaab",
   "metadata": {},
   "outputs": [
    {
     "data": {
      "text/html": [
       "<table class=\"simpletable\">\n",
       "<caption>OLS Regression Results</caption>\n",
       "<tr>\n",
       "  <th>Dep. Variable:</th>       <td>log_income</td>    <th>  R-squared:         </th>  <td>   0.798</td>  \n",
       "</tr>\n",
       "<tr>\n",
       "  <th>Model:</th>                   <td>OLS</td>       <th>  Adj. R-squared:    </th>  <td>   0.798</td>  \n",
       "</tr>\n",
       "<tr>\n",
       "  <th>Method:</th>             <td>Least Squares</td>  <th>  F-statistic:       </th>  <td>4.733e+06</td> \n",
       "</tr>\n",
       "<tr>\n",
       "  <th>Date:</th>             <td>Wed, 16 Mar 2022</td> <th>  Prob (F-statistic):</th>   <td>  0.00</td>   \n",
       "</tr>\n",
       "<tr>\n",
       "  <th>Time:</th>                 <td>11:05:30</td>     <th>  Log-Likelihood:    </th> <td>-3.1124e+06</td>\n",
       "</tr>\n",
       "<tr>\n",
       "  <th>No. Observations:</th>      <td>3150000</td>     <th>  AIC:               </th>  <td>6.225e+06</td> \n",
       "</tr>\n",
       "<tr>\n",
       "  <th>Df Residuals:</th>          <td>3149996</td>     <th>  BIC:               </th>  <td>6.225e+06</td> \n",
       "</tr>\n",
       "<tr>\n",
       "  <th>Df Model:</th>              <td>     3</td>      <th>                     </th>      <td> </td>     \n",
       "</tr>\n",
       "<tr>\n",
       "  <th>Covariance Type:</th>         <td>HC3</td>       <th>                     </th>      <td> </td>     \n",
       "</tr>\n",
       "</table>\n",
       "<table class=\"simpletable\">\n",
       "<tr>\n",
       "            <td></td>               <th>coef</th>     <th>std err</th>      <th>z</th>      <th>P>|z|</th>  <th>[0.025</th>    <th>0.975]</th>  \n",
       "</tr>\n",
       "<tr>\n",
       "  <th>Intercept</th>             <td>    0.1511</td> <td>    0.005</td> <td>   31.607</td> <td> 0.000</td> <td>    0.142</td> <td>    0.160</td>\n",
       "</tr>\n",
       "<tr>\n",
       "  <th>log_income_mean</th>       <td>    0.9707</td> <td>    0.000</td> <td> 2777.395</td> <td> 0.000</td> <td>    0.970</td> <td>    0.971</td>\n",
       "</tr>\n",
       "<tr>\n",
       "  <th>gini</th>                  <td>   -0.0180</td> <td> 6.52e-05</td> <td> -275.243</td> <td> 0.000</td> <td>   -0.018</td> <td>   -0.018</td>\n",
       "</tr>\n",
       "<tr>\n",
       "  <th>proba_quantile_parent</th> <td>    0.0104</td> <td> 1.36e-05</td> <td>  767.066</td> <td> 0.000</td> <td>    0.010</td> <td>    0.010</td>\n",
       "</tr>\n",
       "</table>\n",
       "<table class=\"simpletable\">\n",
       "<tr>\n",
       "  <th>Omnibus:</th>       <td>348378.084</td> <th>  Durbin-Watson:     </th>  <td>   0.006</td>  \n",
       "</tr>\n",
       "<tr>\n",
       "  <th>Prob(Omnibus):</th>   <td> 0.000</td>   <th>  Jarque-Bera (JB):  </th> <td>2099750.184</td>\n",
       "</tr>\n",
       "<tr>\n",
       "  <th>Skew:</th>            <td>-0.363</td>   <th>  Prob(JB):          </th>  <td>    0.00</td>  \n",
       "</tr>\n",
       "<tr>\n",
       "  <th>Kurtosis:</th>        <td> 6.933</td>   <th>  Cond. No.          </th>  <td>    781.</td>  \n",
       "</tr>\n",
       "</table><br/><br/>Notes:<br/>[1] Standard Errors are heteroscedasticity robust (HC3)"
      ],
      "text/plain": [
       "<class 'statsmodels.iolib.summary.Summary'>\n",
       "\"\"\"\n",
       "                            OLS Regression Results                            \n",
       "==============================================================================\n",
       "Dep. Variable:             log_income   R-squared:                       0.798\n",
       "Model:                            OLS   Adj. R-squared:                  0.798\n",
       "Method:                 Least Squares   F-statistic:                 4.733e+06\n",
       "Date:                Wed, 16 Mar 2022   Prob (F-statistic):               0.00\n",
       "Time:                        11:05:30   Log-Likelihood:            -3.1124e+06\n",
       "No. Observations:             3150000   AIC:                         6.225e+06\n",
       "Df Residuals:                 3149996   BIC:                         6.225e+06\n",
       "Df Model:                           3                                         \n",
       "Covariance Type:                  HC3                                         \n",
       "=========================================================================================\n",
       "                            coef    std err          z      P>|z|      [0.025      0.975]\n",
       "-----------------------------------------------------------------------------------------\n",
       "Intercept                 0.1511      0.005     31.607      0.000       0.142       0.160\n",
       "log_income_mean           0.9707      0.000   2777.395      0.000       0.970       0.971\n",
       "gini                     -0.0180   6.52e-05   -275.243      0.000      -0.018      -0.018\n",
       "proba_quantile_parent     0.0104   1.36e-05    767.066      0.000       0.010       0.010\n",
       "==============================================================================\n",
       "Omnibus:                   348378.084   Durbin-Watson:                   0.006\n",
       "Prob(Omnibus):                  0.000   Jarque-Bera (JB):          2099750.184\n",
       "Skew:                          -0.363   Prob(JB):                         0.00\n",
       "Kurtosis:                       6.933   Cond. No.                         781.\n",
       "==============================================================================\n",
       "\n",
       "Notes:\n",
       "[1] Standard Errors are heteroscedasticity robust (HC3)\n",
       "\"\"\""
      ]
     },
     "execution_count": 142,
     "metadata": {},
     "output_type": "execute_result"
    }
   ],
   "source": [
    "# méthode fit() pour prendre en compte l'impact de hétéroscétasticité \n",
    "reg_multi_3_logfit= smf.ols('log_income~log_income_mean+gini+proba_quantile_parent', data=Linear_reg_log).fit(cov_type='HC3')\n",
    "reg_multi_3_logfit.summary()"
   ]
  },
  {
   "cell_type": "markdown",
   "id": "5b3dfd42",
   "metadata": {},
   "source": [
    "<font color=\"purple\"> Le coefficient de régression indique dans quelle mesure la valeur d'une variable dépendante varie avec la variation de la valeur de la variable indépendante (aussi appelée variable explicative). \n",
    "\n",
    "L'intercept (= ordonnée à l'origine) est la valeur obtenue lorsque la variable indépendante vaut zéro (voir figure 1). </font>\n"
   ]
  },
  {
   "cell_type": "code",
   "execution_count": 94,
   "id": "c6d069a4",
   "metadata": {},
   "outputs": [
    {
     "data": {
      "text/html": [
       "<div>\n",
       "<style scoped>\n",
       "    .dataframe tbody tr th:only-of-type {\n",
       "        vertical-align: middle;\n",
       "    }\n",
       "\n",
       "    .dataframe tbody tr th {\n",
       "        vertical-align: top;\n",
       "    }\n",
       "\n",
       "    .dataframe thead th {\n",
       "        text-align: right;\n",
       "    }\n",
       "</style>\n",
       "<table border=\"1\" class=\"dataframe\">\n",
       "  <thead>\n",
       "    <tr style=\"text-align: right;\">\n",
       "      <th></th>\n",
       "      <th>gini</th>\n",
       "      <th>IGEincome</th>\n",
       "      <th>country</th>\n",
       "      <th>quantile_child</th>\n",
       "      <th>nb_quantiles</th>\n",
       "      <th>income_normal</th>\n",
       "      <th>proba_quantile_parent</th>\n",
       "      <th>income_mean</th>\n",
       "      <th>log_income</th>\n",
       "      <th>log_income_mean</th>\n",
       "    </tr>\n",
       "  </thead>\n",
       "  <tbody>\n",
       "    <tr>\n",
       "      <th>0</th>\n",
       "      <td>31.408889</td>\n",
       "      <td>0.815874</td>\n",
       "      <td>ALB</td>\n",
       "      <td>1</td>\n",
       "      <td>100</td>\n",
       "      <td>728.89795</td>\n",
       "      <td>1</td>\n",
       "      <td>2994.829902</td>\n",
       "      <td>6.591534</td>\n",
       "      <td>8.004643</td>\n",
       "    </tr>\n",
       "  </tbody>\n",
       "</table>\n",
       "</div>"
      ],
      "text/plain": [
       "        gini  IGEincome country  quantile_child  nb_quantiles  income_normal  \\\n",
       "0  31.408889   0.815874     ALB               1           100      728.89795   \n",
       "\n",
       "   proba_quantile_parent  income_mean  log_income  log_income_mean  \n",
       "0                      1  2994.829902    6.591534         8.004643  "
      ]
     },
     "execution_count": 94,
     "metadata": {},
     "output_type": "execute_result"
    }
   ],
   "source": [
    "Linear_reg_log.head(1)"
   ]
  },
  {
   "cell_type": "code",
   "execution_count": 121,
   "id": "7cc81044",
   "metadata": {},
   "outputs": [
    {
     "data": {
      "image/png": "[encoded data removed]",
      "text/plain": [
       "<Figure size 720x360 with 1 Axes>"
      ]
     },
     "metadata": {
      "needs_background": "light"
     },
     "output_type": "display_data"
    }
   ],
   "source": [
    "plt.figure(figsize= (10,5))\n",
    "sns.scatterplot(data=Linear_reg_log, x=\"income_mean\", y=\"income_normal\")\n",
    "plt.title(\"scatter plot_assumption homoscetasticity check\")\n",
    "plt.savefig('P7M4_scatter plot_assumption homoscetasticity check.png')"
   ]
  },
  {
   "cell_type": "markdown",
   "id": "dd4629ed",
   "metadata": {},
   "source": [
    "## Si l'on fait linear regression sur l'échantillon d'un pays?\n",
    "Ici on prend l'exemple ALB"
   ]
  },
  {
   "cell_type": "code",
   "execution_count": 109,
   "id": "c4f57cce",
   "metadata": {},
   "outputs": [
    {
     "data": {
      "text/html": [
       "<div>\n",
       "<style scoped>\n",
       "    .dataframe tbody tr th:only-of-type {\n",
       "        vertical-align: middle;\n",
       "    }\n",
       "\n",
       "    .dataframe tbody tr th {\n",
       "        vertical-align: top;\n",
       "    }\n",
       "\n",
       "    .dataframe thead th {\n",
       "        text-align: right;\n",
       "    }\n",
       "</style>\n",
       "<table border=\"1\" class=\"dataframe\">\n",
       "  <thead>\n",
       "    <tr style=\"text-align: right;\">\n",
       "      <th></th>\n",
       "      <th>gini</th>\n",
       "      <th>IGEincome</th>\n",
       "      <th>country</th>\n",
       "      <th>quantile_child</th>\n",
       "      <th>nb_quantiles</th>\n",
       "      <th>income</th>\n",
       "      <th>gdpppp</th>\n",
       "      <th>proba_quantile_parent</th>\n",
       "      <th>income_mean</th>\n",
       "      <th>log_income</th>\n",
       "      <th>log_income_mean</th>\n",
       "    </tr>\n",
       "  </thead>\n",
       "  <tbody>\n",
       "    <tr>\n",
       "      <th>0</th>\n",
       "      <td>31.408889</td>\n",
       "      <td>0.815874</td>\n",
       "      <td>ALB</td>\n",
       "      <td>1</td>\n",
       "      <td>100</td>\n",
       "      <td>728.89795</td>\n",
       "      <td>7297.0</td>\n",
       "      <td>1</td>\n",
       "      <td>2994.829902</td>\n",
       "      <td>6.591534</td>\n",
       "      <td>8.004643</td>\n",
       "    </tr>\n",
       "    <tr>\n",
       "      <th>6300</th>\n",
       "      <td>31.408889</td>\n",
       "      <td>0.815874</td>\n",
       "      <td>ALB</td>\n",
       "      <td>1</td>\n",
       "      <td>100</td>\n",
       "      <td>728.89795</td>\n",
       "      <td>7297.0</td>\n",
       "      <td>1</td>\n",
       "      <td>2994.829902</td>\n",
       "      <td>6.591534</td>\n",
       "      <td>8.004643</td>\n",
       "    </tr>\n",
       "    <tr>\n",
       "      <th>12600</th>\n",
       "      <td>31.408889</td>\n",
       "      <td>0.815874</td>\n",
       "      <td>ALB</td>\n",
       "      <td>1</td>\n",
       "      <td>100</td>\n",
       "      <td>728.89795</td>\n",
       "      <td>7297.0</td>\n",
       "      <td>1</td>\n",
       "      <td>2994.829902</td>\n",
       "      <td>6.591534</td>\n",
       "      <td>8.004643</td>\n",
       "    </tr>\n",
       "    <tr>\n",
       "      <th>18900</th>\n",
       "      <td>31.408889</td>\n",
       "      <td>0.815874</td>\n",
       "      <td>ALB</td>\n",
       "      <td>1</td>\n",
       "      <td>100</td>\n",
       "      <td>728.89795</td>\n",
       "      <td>7297.0</td>\n",
       "      <td>1</td>\n",
       "      <td>2994.829902</td>\n",
       "      <td>6.591534</td>\n",
       "      <td>8.004643</td>\n",
       "    </tr>\n",
       "    <tr>\n",
       "      <th>25200</th>\n",
       "      <td>31.408889</td>\n",
       "      <td>0.815874</td>\n",
       "      <td>ALB</td>\n",
       "      <td>1</td>\n",
       "      <td>100</td>\n",
       "      <td>728.89795</td>\n",
       "      <td>7297.0</td>\n",
       "      <td>1</td>\n",
       "      <td>2994.829902</td>\n",
       "      <td>6.591534</td>\n",
       "      <td>8.004643</td>\n",
       "    </tr>\n",
       "  </tbody>\n",
       "</table>\n",
       "</div>"
      ],
      "text/plain": [
       "            gini  IGEincome country  quantile_child  nb_quantiles     income  \\\n",
       "0      31.408889   0.815874     ALB               1           100  728.89795   \n",
       "6300   31.408889   0.815874     ALB               1           100  728.89795   \n",
       "12600  31.408889   0.815874     ALB               1           100  728.89795   \n",
       "18900  31.408889   0.815874     ALB               1           100  728.89795   \n",
       "25200  31.408889   0.815874     ALB               1           100  728.89795   \n",
       "\n",
       "       gdpppp  proba_quantile_parent  income_mean  log_income  log_income_mean  \n",
       "0      7297.0                      1  2994.829902    6.591534         8.004643  \n",
       "6300   7297.0                      1  2994.829902    6.591534         8.004643  \n",
       "12600  7297.0                      1  2994.829902    6.591534         8.004643  \n",
       "18900  7297.0                      1  2994.829902    6.591534         8.004643  \n",
       "25200  7297.0                      1  2994.829902    6.591534         8.004643  "
      ]
     },
     "execution_count": 109,
     "metadata": {},
     "output_type": "execute_result"
    }
   ],
   "source": [
    "ALB.head()\n",
    "ALB_reg= ALB.copy()\n",
    "ALB_reg['income_mean']= ALB_reg['income'].mean()\n",
    "ALB_reg['log_income'] =np.log(ALB_reg['income'])\n",
    "ALB_reg['log_income_mean'] =np.log(ALB_reg['income_mean'])\n",
    "ALB_reg.head()"
   ]
  },
  {
   "cell_type": "code",
   "execution_count": 111,
   "id": "53c6a694",
   "metadata": {},
   "outputs": [
    {
     "name": "stderr",
     "output_type": "stream",
     "text": [
      "/Users/ZoeyZhang/opt/anaconda3/lib/python3.8/site-packages/statsmodels/base/model.py:1832: ValueWarning: covariance of constraints does not have full rank. The number of constraints is 3, but rank is 1\n",
      "  warnings.warn('covariance of constraints does not have full '\n"
     ]
    },
    {
     "data": {
      "text/html": [
       "<table class=\"simpletable\">\n",
       "<caption>OLS Regression Results</caption>\n",
       "<tr>\n",
       "  <th>Dep. Variable:</th>       <td>log_income</td>    <th>  R-squared:         </th> <td>   0.370</td> \n",
       "</tr>\n",
       "<tr>\n",
       "  <th>Model:</th>                   <td>OLS</td>       <th>  Adj. R-squared:    </th> <td>   0.370</td> \n",
       "</tr>\n",
       "<tr>\n",
       "  <th>Method:</th>             <td>Least Squares</td>  <th>  F-statistic:       </th> <td>1.151e+15</td>\n",
       "</tr>\n",
       "<tr>\n",
       "  <th>Date:</th>             <td>Mon, 14 Mar 2022</td> <th>  Prob (F-statistic):</th>  <td>  0.00</td>  \n",
       "</tr>\n",
       "<tr>\n",
       "  <th>Time:</th>                 <td>12:41:18</td>     <th>  Log-Likelihood:    </th> <td> -27059.</td> \n",
       "</tr>\n",
       "<tr>\n",
       "  <th>No. Observations:</th>      <td> 50000</td>      <th>  AIC:               </th> <td>5.412e+04</td>\n",
       "</tr>\n",
       "<tr>\n",
       "  <th>Df Residuals:</th>          <td> 49997</td>      <th>  BIC:               </th> <td>5.415e+04</td>\n",
       "</tr>\n",
       "<tr>\n",
       "  <th>Df Model:</th>              <td>     2</td>      <th>                     </th>     <td> </td>    \n",
       "</tr>\n",
       "<tr>\n",
       "  <th>Covariance Type:</th>         <td>HC3</td>       <th>                     </th>     <td> </td>    \n",
       "</tr>\n",
       "</table>\n",
       "<table class=\"simpletable\">\n",
       "<tr>\n",
       "            <td></td>               <th>coef</th>     <th>std err</th>      <th>z</th>      <th>P>|z|</th>  <th>[0.025</th>    <th>0.975]</th>  \n",
       "</tr>\n",
       "<tr>\n",
       "  <th>Intercept</th>             <td> 3.291e+08</td> <td>    9.703</td> <td> 3.39e+07</td> <td> 0.000</td> <td> 3.29e+08</td> <td> 3.29e+08</td>\n",
       "</tr>\n",
       "<tr>\n",
       "  <th>log_income_mean</th>       <td> 5.637e+09</td> <td>  166.163</td> <td> 3.39e+07</td> <td> 0.000</td> <td> 5.64e+09</td> <td> 5.64e+09</td>\n",
       "</tr>\n",
       "<tr>\n",
       "  <th>gini</th>                  <td>-1.447e+09</td> <td>   42.656</td> <td>-3.39e+07</td> <td> 0.000</td> <td>-1.45e+09</td> <td>-1.45e+09</td>\n",
       "</tr>\n",
       "<tr>\n",
       "  <th>proba_quantile_parent</th> <td>    0.0110</td> <td>    2e-12</td> <td> 5.53e+09</td> <td> 0.000</td> <td>    0.011</td> <td>    0.011</td>\n",
       "</tr>\n",
       "</table>\n",
       "<table class=\"simpletable\">\n",
       "<tr>\n",
       "  <th>Omnibus:</th>       <td>2778.436</td> <th>  Durbin-Watson:     </th> <td>   0.014</td>\n",
       "</tr>\n",
       "<tr>\n",
       "  <th>Prob(Omnibus):</th>  <td> 0.000</td>  <th>  Jarque-Bera (JB):  </th> <td>4262.285</td>\n",
       "</tr>\n",
       "<tr>\n",
       "  <th>Skew:</th>           <td> 0.479</td>  <th>  Prob(JB):          </th> <td>    0.00</td>\n",
       "</tr>\n",
       "<tr>\n",
       "  <th>Kurtosis:</th>       <td> 4.062</td>  <th>  Cond. No.          </th> <td>7.86e+19</td>\n",
       "</tr>\n",
       "</table><br/><br/>Notes:<br/>[1] Standard Errors are heteroscedasticity robust (HC3)<br/>[2] The smallest eigenvalue is 3.42e-32. This might indicate that there are<br/>strong multicollinearity problems or that the design matrix is singular."
      ],
      "text/plain": [
       "<class 'statsmodels.iolib.summary.Summary'>\n",
       "\"\"\"\n",
       "                            OLS Regression Results                            \n",
       "==============================================================================\n",
       "Dep. Variable:             log_income   R-squared:                       0.370\n",
       "Model:                            OLS   Adj. R-squared:                  0.370\n",
       "Method:                 Least Squares   F-statistic:                 1.151e+15\n",
       "Date:                Mon, 14 Mar 2022   Prob (F-statistic):               0.00\n",
       "Time:                        12:41:18   Log-Likelihood:                -27059.\n",
       "No. Observations:               50000   AIC:                         5.412e+04\n",
       "Df Residuals:                   49997   BIC:                         5.415e+04\n",
       "Df Model:                           2                                         \n",
       "Covariance Type:                  HC3                                         \n",
       "=========================================================================================\n",
       "                            coef    std err          z      P>|z|      [0.025      0.975]\n",
       "-----------------------------------------------------------------------------------------\n",
       "Intercept              3.291e+08      9.703   3.39e+07      0.000    3.29e+08    3.29e+08\n",
       "log_income_mean        5.637e+09    166.163   3.39e+07      0.000    5.64e+09    5.64e+09\n",
       "gini                  -1.447e+09     42.656  -3.39e+07      0.000   -1.45e+09   -1.45e+09\n",
       "proba_quantile_parent     0.0110      2e-12   5.53e+09      0.000       0.011       0.011\n",
       "==============================================================================\n",
       "Omnibus:                     2778.436   Durbin-Watson:                   0.014\n",
       "Prob(Omnibus):                  0.000   Jarque-Bera (JB):             4262.285\n",
       "Skew:                           0.479   Prob(JB):                         0.00\n",
       "Kurtosis:                       4.062   Cond. No.                     7.86e+19\n",
       "==============================================================================\n",
       "\n",
       "Notes:\n",
       "[1] Standard Errors are heteroscedasticity robust (HC3)\n",
       "[2] The smallest eigenvalue is 3.42e-32. This might indicate that there are\n",
       "strong multicollinearity problems or that the design matrix is singular.\n",
       "\"\"\""
      ]
     },
     "execution_count": 111,
     "metadata": {},
     "output_type": "execute_result"
    }
   ],
   "source": [
    "reg_ALB =  smf.ols('log_income~log_income_mean+gini+proba_quantile_parent', data=ALB_reg).fit(cov_type='HC3')\n",
    "reg_ALB.summary()\n",
    "\n",
    "# méthode .fit(cov_type='HC3') aide à réduire l'effect de l'hétéroscétasticité "
   ]
  },
  {
   "cell_type": "code",
   "execution_count": 113,
   "id": "a182d4ca",
   "metadata": {},
   "outputs": [
    {
     "data": {
      "image/png": "[encoded data removed]",
      "text/plain": [
       "<Figure size 432x288 with 1 Axes>"
      ]
     },
     "metadata": {
      "needs_background": "light"
     },
     "output_type": "display_data"
    }
   ],
   "source": [
    "# 1. vérifier la normalité des résidus du model reg_ALB\n",
    "stats.probplot(reg_ALB.resid, dist=\"norm\", plot= plt)\n",
    "plt.title(\"reg_ALB Residuals Q-Q Plot\")\n",
    "plt.savefig(\"reg_ALB Residus_qqplot.png\")"
   ]
  },
  {
   "cell_type": "markdown",
   "id": "44a9c3dd",
   "metadata": {},
   "source": [
    "=> normalité quasi parfaite pour les résidus du modèle reg_ALB"
   ]
  },
  {
   "cell_type": "code",
   "execution_count": 112,
   "id": "0f6814e7",
   "metadata": {},
   "outputs": [
    {
     "data": {
      "text/plain": [
       "[('Lagrange multiplier statistic', 649.0151053177129),\n",
       " ('p-value', 2.38174700496322e-140),\n",
       " ('f-value', 328.7554269668309),\n",
       " ('f p-value', 1.4256401060724296e-142)]"
      ]
     },
     "execution_count": 112,
     "metadata": {},
     "output_type": "execute_result"
    }
   ],
   "source": [
    "# 2. vérifier homosétasticité des résidus par statsmodels reg_ALB\n",
    "\n",
    "test = sms.het_breuschpagan(reg_ALB.resid, reg_ALB.model.exog)\n",
    "lzip(name, test)"
   ]
  },
  {
   "cell_type": "markdown",
   "id": "4f2f1197",
   "metadata": {},
   "source": [
    "#### Lagrange multiplier statistic est petit et sa P-value = 2.38 > 5%, non-rejet de H0 au niveau de test 5%, il existe de l'homosétasticité pour les résidus de ce modèle reg_ALB\n"
   ]
  },
  {
   "cell_type": "code",
   "execution_count": 123,
   "id": "d8650ba8",
   "metadata": {
    "scrolled": true
   },
   "outputs": [
    {
     "data": {
      "text/html": [
       "<div>\n",
       "<style scoped>\n",
       "    .dataframe tbody tr th:only-of-type {\n",
       "        vertical-align: middle;\n",
       "    }\n",
       "\n",
       "    .dataframe tbody tr th {\n",
       "        vertical-align: top;\n",
       "    }\n",
       "\n",
       "    .dataframe thead th {\n",
       "        text-align: right;\n",
       "    }\n",
       "</style>\n",
       "<table border=\"1\" class=\"dataframe\">\n",
       "  <thead>\n",
       "    <tr style=\"text-align: right;\">\n",
       "      <th></th>\n",
       "      <th>df</th>\n",
       "      <th>sum_sq</th>\n",
       "      <th>mean_sq</th>\n",
       "      <th>F</th>\n",
       "      <th>PR(&gt;F)</th>\n",
       "    </tr>\n",
       "  </thead>\n",
       "  <tbody>\n",
       "    <tr>\n",
       "      <th>log_income_mean</th>\n",
       "      <td>1.0</td>\n",
       "      <td>1.588086</td>\n",
       "      <td>1.588086</td>\n",
       "      <td>9.188968</td>\n",
       "      <td>0.002436</td>\n",
       "    </tr>\n",
       "    <tr>\n",
       "      <th>gini</th>\n",
       "      <td>1.0</td>\n",
       "      <td>1.588150</td>\n",
       "      <td>1.588150</td>\n",
       "      <td>9.189336</td>\n",
       "      <td>0.002436</td>\n",
       "    </tr>\n",
       "    <tr>\n",
       "      <th>proba_quantile_parent</th>\n",
       "      <td>1.0</td>\n",
       "      <td>5081.766626</td>\n",
       "      <td>5081.766626</td>\n",
       "      <td>29404.060971</td>\n",
       "      <td>0.000000</td>\n",
       "    </tr>\n",
       "    <tr>\n",
       "      <th>Residual</th>\n",
       "      <td>49997.0</td>\n",
       "      <td>8640.748168</td>\n",
       "      <td>0.172825</td>\n",
       "      <td>NaN</td>\n",
       "      <td>NaN</td>\n",
       "    </tr>\n",
       "  </tbody>\n",
       "</table>\n",
       "</div>"
      ],
      "text/plain": [
       "                            df       sum_sq      mean_sq             F  \\\n",
       "log_income_mean            1.0     1.588086     1.588086      9.188968   \n",
       "gini                       1.0     1.588150     1.588150      9.189336   \n",
       "proba_quantile_parent      1.0  5081.766626  5081.766626  29404.060971   \n",
       "Residual               49997.0  8640.748168     0.172825           NaN   \n",
       "\n",
       "                         PR(>F)  \n",
       "log_income_mean        0.002436  \n",
       "gini                   0.002436  \n",
       "proba_quantile_parent  0.000000  \n",
       "Residual                    NaN  "
      ]
     },
     "execution_count": 123,
     "metadata": {},
     "output_type": "execute_result"
    }
   ],
   "source": [
    "analyse_ALB=sm.stats.anova_lm(reg_ALB, typ=1)\n",
    "analyse_ALB"
   ]
  },
  {
   "cell_type": "code",
   "execution_count": 126,
   "id": "5b4966d0",
   "metadata": {},
   "outputs": [
    {
     "name": "stdout",
     "output_type": "stream",
     "text": [
      "Décomposition de variance totale expliquée_pays ALB: \n",
      "La variance expliquée par la classe de revenu des parents est de : 37.02 %\n",
      "La variance expliquée par le revenu moyen en log est de : 0.01 %\n",
      "La variance expliquée par lindice Gini est de : 0.01 %\n",
      "La variance expliquée par les autres facteurs est de : 62.95 %\n"
     ]
    }
   ],
   "source": [
    "SCE_income_mean_log5=analyse_ALB.iloc[0,1]\n",
    "SCE_gini5=analyse_ALB.iloc[1,1]\n",
    "SCE_class_p5=analyse_ALB.iloc[2,1]\n",
    "SCR_5=analyse_ALB.iloc[3,1]\n",
    "\n",
    "R2_classe_p5=SCE_class_p5/sum(analyse_ALB['sum_sq'])\n",
    "R2_incomemean_log5= SCE_income_mean_log5/sum(analyse_ALB['sum_sq'])\n",
    "R2_gini5 = SCE_gini5/sum(analyse_ALB['sum_sq'])\n",
    "R2_SCR5 = SCR_5/sum(analyse_ALB['sum_sq']) \n",
    "\n",
    "print('Décomposition de variance totale expliquée_pays ALB: ')\n",
    "print('La variance expliquée par la classe de revenu des parents est de :', round(R2_classe_p5*100,2), '%')\n",
    "print('La variance expliquée par le revenu moyen en log est de :', round(R2_incomemean_log5*100,2), '%')\n",
    "print('La variance expliquée par lindice Gini est de :', round(R2_gini5*100,2), '%')\n",
    "print('La variance expliquée par les autres facteurs est de :', round(R2_SCR5*100,2), '%')"
   ]
  },
  {
   "cell_type": "code",
   "execution_count": 95,
   "id": "cfce0dbe",
   "metadata": {},
   "outputs": [],
   "source": [
    "# End"
   ]
  }
 ],
 "metadata": {
  "kernelspec": {
   "display_name": "Python 3 (ipykernel)",
   "language": "python",
   "name": "python3"
  },
  "language_info": {
   "codemirror_mode": {
    "name": "ipython",
    "version": 3
   },
   "file_extension": ".py",
   "mimetype": "text/x-python",
   "name": "python",
   "nbconvert_exporter": "python",
   "pygments_lexer": "ipython3",
   "version": "3.9.0"
  }
 },
 "nbformat": 4,
 "nbformat_minor": 5
}
